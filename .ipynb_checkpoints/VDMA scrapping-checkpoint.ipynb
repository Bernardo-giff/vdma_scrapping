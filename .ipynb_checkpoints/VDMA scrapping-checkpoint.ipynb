{
 "cells": [
  {
   "cell_type": "markdown",
   "id": "05480377",
   "metadata": {},
   "source": [
    "# Assignment 4 - k-means clustering\n",
    "\n"
   ]
  },
  {
   "cell_type": "markdown",
   "id": "f1443969-b9a0-417f-a2ae-0fe64bc7c67b",
   "metadata": {},
   "source": [
    "## a - Website exploration\n",
    "\n",
    "By inspecting the website, we found out that the German players are all stored in specific URL's, where the parameter na is passed as 21. We also notice that the information is paginated, therefore in our scraping code we will need to parse through all of the pages to reach the desired number of players. Throughout this assignment, we realized that the page had a couple of mechanisms that made it harder to scrape, like CloudFlare. Therefore, an additional package was used. Furthermore, the website seemed to change it's patterns every so often. For this reason, we had to rebuild the code several times, and the code will break if there are further changes to the patterns. We believe this to be a mechanism to prevent scraping."
   ]
  },
  {
   "cell_type": "markdown",
   "id": "a7a0e30a-b037-4ef0-acd0-2964a5d1ee58",
   "metadata": {},
   "source": [
    "## b - Fixing the code\n",
    "\n",
    "There was a lot we had to change in the previous code in order to make it work for us. First of all, we decided to bring the code to the Jupyter notebook we were working on, in order to make it more modular and easier to colaborate. Furthermore, this way we can merge the code and analysis in one document."
   ]
  },
  {
   "cell_type": "code",
   "execution_count": 1,
   "id": "6383ad76-cc3b-440d-b03c-55e0ed60eda5",
   "metadata": {
    "executionCancelledAt": null,
    "executionTime": 4520,
    "lastExecutedAt": 1688318517755,
    "lastScheduledRunId": null,
    "lastSuccessfullyExecutedCode": "%%capture\n!pip install cloudscraper"
   },
   "outputs": [],
   "source": [
    "#Installing clouscraper package\n",
    "%%capture\n",
    "!pip install cloudscraper"
   ]
  },
  {
   "cell_type": "code",
   "execution_count": 1,
   "id": "9edb3280",
   "metadata": {
    "executionCancelledAt": null,
    "executionTime": 110,
    "lastExecutedAt": 1688320521747,
    "lastScheduledRunId": null,
    "lastSuccessfullyExecutedCode": "import pandas as pd\nfrom bs4 import BeautifulSoup\nimport requests\nimport re\nimport unicodedata\nimport cloudscraper\nimport matplotlib.pyplot as plt\nimport time   #Adding time library so that we can add a delay to our scraper\n\n#Instantiate cloudscraper\nscraper = cloudscraper.create_scraper()\n\n## We had to fix the attributes, as \"Marking\" is not an attribute anymore\nattributes = [\n    'Crossing', 'Finishing', 'Heading Accuracy', 'Short Passing', 'Volleys',\n    'Dribbling', 'Curve', 'FK Accuracy', 'Long Passing', 'Ball Control',\n    'Acceleration', 'Sprint Speed', 'Agility', 'Reactions', 'Balance',\n    'Shot Power', 'Jumping', 'Stamina', 'Strength', 'Long Shots',\n    'Aggression', 'Interceptions', 'Positioning', 'Vision', 'Penalties',\n    'Composure', 'Defensive awareness', 'Standing Tackle', 'Sliding Tackle',\n    'GK Diving', 'GK Handling', 'GK Kicking', 'GK Positioning', 'GK Reflexes'\n]\n\n# Create a session object\nsession = requests.Session()\n\n#Define German players' URL\nurl = 'https://sofifa.com/players?na=21offset%3D180&offset='\n\n# Send a request using the session\nresponse = scraper.get(url)"
   },
   "outputs": [],
   "source": [
    "#Prepare variables\n",
    "\n",
    "import pandas as pd\n",
    "from bs4 import BeautifulSoup\n",
    "import requests\n",
    "import re\n",
    "import unicodedata\n",
    "import cloudscraper\n",
    "import matplotlib.pyplot as plt\n",
    "\n",
    "#Adding time library so that we can add a delay to our scraper\n",
    "import time   \n",
    "\n",
    "#Instantiate cloudscraper\n",
    "scraper = cloudscraper.create_scraper()\n",
    "\n",
    "## We had to fix the attributes, as \"Marking\" is not an attribute anymore\n",
    "attributes = [\n",
    "    'Crossing', 'Finishing', 'Heading Accuracy', 'Short Passing', 'Volleys',\n",
    "    'Dribbling', 'Curve', 'FK Accuracy', 'Long Passing', 'Ball Control',\n",
    "    'Acceleration', 'Sprint Speed', 'Agility', 'Reactions', 'Balance',\n",
    "    'Shot Power', 'Jumping', 'Stamina', 'Strength', 'Long Shots',\n",
    "    'Aggression', 'Interceptions', 'Positioning', 'Vision', 'Penalties',\n",
    "    'Composure', 'Defensive awareness', 'Standing Tackle', 'Sliding Tackle',\n",
    "    'GK Diving', 'GK Handling', 'GK Kicking', 'GK Positioning', 'GK Reflexes'\n",
    "]\n",
    "\n",
    "# Create a session object\n",
    "session = requests.Session()\n",
    "\n",
    "#Define German players' URL\n",
    "url = 'https://www.vdma.org/mitglieder'\n",
    "\n",
    "# Send a request using the session\n",
    "response = scraper.get(url)"
   ]
  },
  {
   "cell_type": "code",
   "execution_count": 3,
   "id": "002dd9df",
   "metadata": {},
   "outputs": [
    {
     "data": {
      "text/plain": [
       "'\\n\\n\\n\\n\\n\\n\\n\\n\\n\\n\\n\\n\\n\\n\\n\\n\\n\\n\\n\\n\\n\\n\\n\\n\\n\\n\\n\\n\\n\\n\\n\\n\\n\\n\\n\\n\\t\\n\\t\\t\\n\\t\\t\\t<!doctype html>\\n\\n\\n\\n\\n\\n\\n\\n\\n\\n\\n\\n\\n\\n\\n\\n\\n\\n\\n\\n\\n\\n\\n\\n\\n\\n\\n\\n\\n\\n\\n\\n\\n\\n\\n\\n\\n\\n\\n\\n\\n\\n\\n\\n\\n\\n\\n\\n\\n\\n\\n\\n\\n\\n\\n\\n\\n\\n\\n\\n\\n\\n\\n\\n\\n<html class=\"ltr vdma-new-theme\" dir=\"ltr\" lang=\"de-DE\">\\n<head>\\r\\n<script type=\"text/javascript\">\\r\\n(function(){\\r\\nwindow[\"loaderConfig\"] = \"/TSPD/?type=21\";\\r\\n})();\\r\\n\\r\\n</script>\\r\\n\\r\\n<script  type=\"text/javascript\" src=\"/TSPD/?type=18\"></script>\\r\\n\\n    <title>Mitgliederliste - vdma.org - VDMA</title>\\n    <base href=\"/\">\\n    <meta name=\"viewport\" content=\"width=device-width, initial-scale=1.0\">\\n\\n\\n\\n\\n\\n\\n\\n\\n\\n\\n\\n\\n\\n\\n\\n\\n\\n\\n\\n\\n\\n\\n\\n\\n\\n\\n\\n\\n\\n\\n\\n\\n\\n\\n\\n\\n\\n<meta content=\"text/html; charset=UTF-8\" http-equiv=\"content-type\" />\\n\\n\\n\\n\\n\\n\\n\\n\\n\\n\\n\\n\\n<link data-senna-track=\"permanent\" href=\"/o/frontend-theme-font-awesome-web/css/main.css\" rel=\"stylesheet\" type=\"text/css\" />\\n<script data-senna-track=\"permanent\" src=\"/o/frontend-js-jquery-web/jquery/jquery.min.js\" type=\"text/javascript\"></script><script data-senna-track=\"permanent\" src=\"/o/frontend-js-jquery-web/jquery/bootstrap.bundle.min.js\" type=\"text/javascript\"></script><script data-senna-track=\"permanent\" src=\"/o/frontend-js-jquery-web/jquery/collapsible_search.js\" type=\"text/javascript\"></script><script data-senna-track=\"permanent\" src=\"/o/frontend-js-jquery-web/jquery/fm.js\" type=\"text/javascript\"></script><script data-senna-track=\"permanent\" src=\"/o/frontend-js-jquery-web/jquery/form.js\" type=\"text/javascript\"></script><script data-senna-track=\"permanent\" src=\"/o/frontend-js-jquery-web/jquery/popper.min.js\" type=\"text/javascript\"></script><script data-senna-track=\"permanent\" src=\"/o/frontend-js-jquery-web/jquery/side_navigation.js\" type=\"text/javascript\"></script>\\n\\n\\n<link href=\"https://www.vdma.org/o/vdma-new-theme/images/favicon.ico\" rel=\"icon\" />\\n\\n\\n\\n\\n\\n\\t\\n\\n\\t\\t\\n\\t\\t\\t\\n\\t\\t\\t\\t<link data-senna-track=\"temporary\" href=\"https://www.vdma.org/mitglieder\" rel=\"canonical\" />\\n\\t\\t\\t\\n\\t\\t\\n\\n\\t\\n\\n\\t\\t\\n\\t\\t\\t\\n\\t\\t\\t\\t<link data-senna-track=\"temporary\" href=\"https://www.vdma.org/mitglieder/zh/\" hreflang=\"zh-CN\" rel=\"alternate\" />\\n\\t\\t\\t\\n\\t\\t\\t\\n\\n\\t\\n\\n\\t\\t\\n\\t\\t\\t\\n\\t\\t\\t\\t<link data-senna-track=\"temporary\" href=\"https://www.vdma.org/mitglieder/ja/\" hreflang=\"ja-JP\" rel=\"alternate\" />\\n\\t\\t\\t\\n\\t\\t\\t\\n\\n\\t\\n\\n\\t\\t\\n\\t\\t\\t\\n\\t\\t\\t\\t<link data-senna-track=\"temporary\" href=\"https://www.vdma.org/mitglieder/nl/\" hreflang=\"nl-NL\" rel=\"alternate\" />\\n\\t\\t\\t\\n\\t\\t\\t\\n\\n\\t\\n\\n\\t\\t\\n\\t\\t\\t\\n\\t\\t\\t\\t<link data-senna-track=\"temporary\" href=\"https://www.vdma.org/mitglieder/pl/\" hreflang=\"pl-PL\" rel=\"alternate\" />\\n\\t\\t\\t\\n\\t\\t\\t\\n\\n\\t\\n\\n\\t\\t\\n\\t\\t\\t\\n\\t\\t\\t\\t<link data-senna-track=\"temporary\" href=\"https://www.vdma.org/mitglieder/ru/\" hreflang=\"ru-RU\" rel=\"alternate\" />\\n\\t\\t\\t\\n\\t\\t\\t\\n\\n\\t\\n\\n\\t\\t\\n\\t\\t\\t\\n\\t\\t\\t\\t<link data-senna-track=\"temporary\" href=\"https://www.vdma.org/mitglieder/pt/\" hreflang=\"pt-PT\" rel=\"alternate\" />\\n\\t\\t\\t\\n\\t\\t\\t\\n\\n\\t\\n\\n\\t\\t\\n\\t\\t\\t\\n\\t\\t\\t\\t<link data-senna-track=\"temporary\" href=\"https://www.vdma.org/mitglieder\" hreflang=\"de-DE\" rel=\"alternate\" />\\n\\t\\t\\t\\n\\t\\t\\t\\n\\n\\t\\n\\n\\t\\t\\n\\t\\t\\t\\n\\t\\t\\t\\t<link data-senna-track=\"temporary\" href=\"https://www.vdma.org/mitglieder/en/\" hreflang=\"en-GB\" rel=\"alternate\" />\\n\\t\\t\\t\\n\\t\\t\\t\\n\\n\\t\\n\\n\\t\\t\\n\\t\\t\\t\\n\\t\\t\\t\\t<link data-senna-track=\"temporary\" href=\"https://www.vdma.org/mitglieder\" hreflang=\"x-default\" rel=\"alternate\" />\\n\\t\\t\\t\\n\\t\\t\\t\\n\\n\\t\\n\\n\\n\\n\\n\\n<link class=\"lfr-css-file\" data-senna-track=\"temporary\" href=\"https://www.vdma.org/o/vdma-new-theme/css/clay.css?browserId=other&amp;themeId=vdma_WAR_vdmanewtheme&amp;minifierType=css&amp;languageId=de_DE&amp;t=1690810084000\" id=\"liferayAUICSS\" rel=\"stylesheet\" type=\"text/css\" />\\n\\n\\n\\n<link data-senna-track=\"temporary\" href=\"/o/frontend-css-web/main.css?browserId=other&amp;themeId=vdma_WAR_vdmanewtheme&amp;minifierType=css&amp;languageId=de_DE&amp;t=1678192080034\" id=\"liferayPortalCSS\" rel=\"stylesheet\" type=\"text/css\" />\\n\\n\\n\\n\\n\\n\\n\\n\\n\\n\\t\\n\\n\\t\\n\\n\\n\\n\\n\\n\\t\\n\\n\\n\\n\\t\\n\\n\\t\\t<link data-senna-track=\"temporary\" href=\"/combo?browserId=other&amp;minifierType=&amp;themeId=vdma_WAR_vdmanewtheme&amp;languageId=de_DE&amp;com_liferay_journal_content_web_portlet_JournalContentPortlet_INSTANCE_4TSSn34qiTtS:%2Fcss%2Fmain.css&amp;com_liferay_portal_search_web_search_bar_portlet_SearchBarPortlet_INSTANCE_templateSearch:%2Fcss%2Fmain.css&amp;com_liferay_product_navigation_product_menu_web_portlet_ProductMenuPortlet:%2Fcss%2Fmain.css&amp;com_liferay_product_navigation_user_personal_bar_web_portlet_ProductNavigationUserPersonalBarPortlet:%2Fcss%2Fmain.css&amp;com_liferay_site_navigation_menu_web_portlet_SiteNavigationMenuPortlet:%2Fcss%2Fmain.css&amp;org_vdma_publicusers_portlet_PublicUsersPortlet_INSTANCE_H0VO3QljCiRM:%2Fcss%2Fmain.css&amp;t=1690810084000\" id=\"79dcf180\" rel=\"stylesheet\" type=\"text/css\" />\\n\\n\\t\\n\\n\\n\\n\\n\\n\\n\\n<script data-senna-track=\"temporary\" type=\"text/javascript\">\\n\\t// <![CDATA[\\n\\t\\tvar Liferay = Liferay || {};\\n\\n\\t\\tLiferay.Browser = {\\n\\t\\t\\tacceptsGzip: function() {\\n\\t\\t\\t\\treturn false;\\n\\t\\t\\t},\\n\\n\\t\\t\\t\\n\\n\\t\\t\\tgetMajorVersion: function() {\\n\\t\\t\\t\\treturn 55.0;\\n\\t\\t\\t},\\n\\n\\t\\t\\tgetRevision: function() {\\n\\t\\t\\t\\treturn \\'537.36\\';\\n\\t\\t\\t},\\n\\t\\t\\tgetVersion: function() {\\n\\t\\t\\t\\treturn \\'55.0\\';\\n\\t\\t\\t},\\n\\n\\t\\t\\t\\n\\n\\t\\t\\tisAir: function() {\\n\\t\\t\\t\\treturn false;\\n\\t\\t\\t},\\n\\t\\t\\tisChrome: function() {\\n\\t\\t\\t\\treturn true;\\n\\t\\t\\t},\\n\\t\\t\\tisEdge: function() {\\n\\t\\t\\t\\treturn false;\\n\\t\\t\\t},\\n\\t\\t\\tisFirefox: function() {\\n\\t\\t\\t\\treturn false;\\n\\t\\t\\t},\\n\\t\\t\\tisGecko: function() {\\n\\t\\t\\t\\treturn true;\\n\\t\\t\\t},\\n\\t\\t\\tisIe: function() {\\n\\t\\t\\t\\treturn false;\\n\\t\\t\\t},\\n\\t\\t\\tisIphone: function() {\\n\\t\\t\\t\\treturn false;\\n\\t\\t\\t},\\n\\t\\t\\tisLinux: function() {\\n\\t\\t\\t\\treturn true;\\n\\t\\t\\t},\\n\\t\\t\\tisMac: function() {\\n\\t\\t\\t\\treturn false;\\n\\t\\t\\t},\\n\\t\\t\\tisMobile: function() {\\n\\t\\t\\t\\treturn true;\\n\\t\\t\\t},\\n\\t\\t\\tisMozilla: function() {\\n\\t\\t\\t\\treturn false;\\n\\t\\t\\t},\\n\\t\\t\\tisOpera: function() {\\n\\t\\t\\t\\treturn false;\\n\\t\\t\\t},\\n\\t\\t\\tisRtf: function() {\\n\\t\\t\\t\\treturn true;\\n\\t\\t\\t},\\n\\t\\t\\tisSafari: function() {\\n\\t\\t\\t\\treturn true;\\n\\t\\t\\t},\\n\\t\\t\\tisSun: function() {\\n\\t\\t\\t\\treturn false;\\n\\t\\t\\t},\\n\\t\\t\\tisWebKit: function() {\\n\\t\\t\\t\\treturn true;\\n\\t\\t\\t},\\n\\t\\t\\tisWindows: function() {\\n\\t\\t\\t\\treturn false;\\n\\t\\t\\t}\\n\\t\\t};\\n\\n\\t\\tLiferay.Data = Liferay.Data || {};\\n\\n\\t\\tLiferay.Data.ICONS_INLINE_SVG = true;\\n\\n\\t\\tLiferay.Data.NAV_SELECTOR = \\'#navigation\\';\\n\\n\\t\\tLiferay.Data.NAV_SELECTOR_MOBILE = \\'#navigationCollapse\\';\\n\\n\\t\\tLiferay.Data.isCustomizationView = function() {\\n\\t\\t\\treturn false;\\n\\t\\t};\\n\\n\\t\\tLiferay.Data.notices = [\\n\\t\\t\\tnull\\n\\n\\t\\t\\t\\n\\n\\t\\t\\t\\n\\t\\t];\\n\\n\\t\\tLiferay.PortletKeys = {\\n\\t\\t\\tDOCUMENT_LIBRARY: \\'com_liferay_document_library_web_portlet_DLPortlet\\',\\n\\t\\t\\tDYNAMIC_DATA_MAPPING: \\'com_liferay_dynamic_data_mapping_web_portlet_DDMPortlet\\',\\n\\t\\t\\tITEM_SELECTOR: \\'com_liferay_item_selector_web_portlet_ItemSelectorPortlet\\'\\n\\t\\t};\\n\\n\\t\\tLiferay.PropsValues = {\\n\\t\\t\\tJAVASCRIPT_SINGLE_PAGE_APPLICATION_TIMEOUT: 0,\\n\\t\\t\\tNTLM_AUTH_ENABLED: false,\\n\\t\\t\\tUPLOAD_SERVLET_REQUEST_IMPL_MAX_SIZE: 207440278\\n\\t\\t};\\n\\n\\t\\tLiferay.ThemeDisplay = {\\n\\n\\t\\t\\t\\n\\n\\t\\t\\t\\n\\t\\t\\t\\tgetLayoutId: function() {\\n\\t\\t\\t\\t\\treturn \\'474\\';\\n\\t\\t\\t\\t},\\n\\n\\t\\t\\t\\t\\n\\n\\t\\t\\t\\tgetLayoutRelativeControlPanelURL: function() {\\n\\t\\t\\t\\t\\treturn \\'/group/group-34568/~/control_panel/manage\\';\\n\\t\\t\\t\\t},\\n\\n\\t\\t\\t\\tgetLayoutRelativeURL: function() {\\n\\t\\t\\t\\t\\treturn \\'/mitglieder\\';\\n\\t\\t\\t\\t},\\n\\t\\t\\t\\tgetLayoutURL: function() {\\n\\t\\t\\t\\t\\treturn \\'https://www.vdma.org/mitglieder\\';\\n\\t\\t\\t\\t},\\n\\t\\t\\t\\tgetParentLayoutId: function() {\\n\\t\\t\\t\\t\\treturn \\'0\\';\\n\\t\\t\\t\\t},\\n\\t\\t\\t\\tisControlPanel: function() {\\n\\t\\t\\t\\t\\treturn false;\\n\\t\\t\\t\\t},\\n\\t\\t\\t\\tisPrivateLayout: function() {\\n\\t\\t\\t\\t\\treturn \\'false\\';\\n\\t\\t\\t\\t},\\n\\t\\t\\t\\tisVirtualLayout: function() {\\n\\t\\t\\t\\t\\treturn false;\\n\\t\\t\\t\\t},\\n\\t\\t\\t\\n\\n\\t\\t\\tgetBCP47LanguageId: function() {\\n\\t\\t\\t\\treturn \\'de-DE\\';\\n\\t\\t\\t},\\n\\t\\t\\tgetCanonicalURL: function() {\\n\\n\\t\\t\\t\\t\\n\\n\\t\\t\\t\\treturn \\'https\\\\x3a\\\\x2f\\\\x2fwww\\\\x2evdma\\\\x2eorg\\\\x2fmitglieder\\';\\n\\t\\t\\t},\\n\\t\\t\\tgetCDNBaseURL: function() {\\n\\t\\t\\t\\treturn \\'https://www.vdma.org\\';\\n\\t\\t\\t},\\n\\t\\t\\tgetCDNDynamicResourcesHost: function() {\\n\\t\\t\\t\\treturn \\'\\';\\n\\t\\t\\t},\\n\\t\\t\\tgetCDNHost: function() {\\n\\t\\t\\t\\treturn \\'\\';\\n\\t\\t\\t},\\n\\t\\t\\tgetCompanyGroupId: function() {\\n\\t\\t\\t\\treturn \\'20128\\';\\n\\t\\t\\t},\\n\\t\\t\\tgetCompanyId: function() {\\n\\t\\t\\t\\treturn \\'20101\\';\\n\\t\\t\\t},\\n\\t\\t\\tgetDefaultLanguageId: function() {\\n\\t\\t\\t\\treturn \\'de_DE\\';\\n\\t\\t\\t},\\n\\t\\t\\tgetDoAsUserIdEncoded: function() {\\n\\t\\t\\t\\treturn \\'\\';\\n\\t\\t\\t},\\n\\t\\t\\tgetLanguageId: function() {\\n\\t\\t\\t\\treturn \\'de_DE\\';\\n\\t\\t\\t},\\n\\t\\t\\tgetParentGroupId: function() {\\n\\t\\t\\t\\treturn \\'34570\\';\\n\\t\\t\\t},\\n\\t\\t\\tgetPathContext: function() {\\n\\t\\t\\t\\treturn \\'\\';\\n\\t\\t\\t},\\n\\t\\t\\tgetPathImage: function() {\\n\\t\\t\\t\\treturn \\'/image\\';\\n\\t\\t\\t},\\n\\t\\t\\tgetPathJavaScript: function() {\\n\\t\\t\\t\\treturn \\'/o/frontend-js-web\\';\\n\\t\\t\\t},\\n\\t\\t\\tgetPathMain: function() {\\n\\t\\t\\t\\treturn \\'/c\\';\\n\\t\\t\\t},\\n\\t\\t\\tgetPathThemeImages: function() {\\n\\t\\t\\t\\treturn \\'https://www.vdma.org/o/vdma-new-theme/images\\';\\n\\t\\t\\t},\\n\\t\\t\\tgetPathThemeRoot: function() {\\n\\t\\t\\t\\treturn \\'/o/vdma-new-theme\\';\\n\\t\\t\\t},\\n\\t\\t\\tgetPlid: function() {\\n\\t\\t\\t\\treturn \\'633\\';\\n\\t\\t\\t},\\n\\t\\t\\tgetPortalURL: function() {\\n\\t\\t\\t\\treturn \\'https://www.vdma.org\\';\\n\\t\\t\\t},\\n\\t\\t\\tgetRealUserId: function() {\\n\\t\\t\\t\\treturn \\'20105\\';\\n\\t\\t\\t},\\n\\t\\t\\tgetScopeGroupId: function() {\\n\\t\\t\\t\\treturn \\'34570\\';\\n\\t\\t\\t},\\n\\t\\t\\tgetScopeGroupIdOrLiveGroupId: function() {\\n\\t\\t\\t\\treturn \\'34570\\';\\n\\t\\t\\t},\\n\\t\\t\\tgetSessionId: function() {\\n\\t\\t\\t\\treturn \\'\\';\\n\\t\\t\\t},\\n\\t\\t\\tgetSiteAdminURL: function() {\\n\\t\\t\\t\\treturn \\'https://www.vdma.org/group/group-34568/~/control_panel/manage?p_p_lifecycle=0&p_p_state=maximized&p_p_mode=view\\';\\n\\t\\t\\t},\\n\\t\\t\\tgetSiteGroupId: function() {\\n\\t\\t\\t\\treturn \\'34570\\';\\n\\t\\t\\t},\\n\\t\\t\\tgetURLControlPanel: function() {\\n\\t\\t\\t\\treturn \\'/group/control_panel?refererPlid=633\\';\\n\\t\\t\\t},\\n\\t\\t\\tgetURLHome: function() {\\n\\t\\t\\t\\treturn \\'https\\\\x3a\\\\x2f\\\\x2fwww\\\\x2evdma\\\\x2eorg\\\\x2f\\';\\n\\t\\t\\t},\\n\\t\\t\\tgetUserEmailAddress: function() {\\n\\t\\t\\t\\treturn \\'\\';\\n\\t\\t\\t},\\n\\t\\t\\tgetUserId: function() {\\n\\t\\t\\t\\treturn \\'20105\\';\\n\\t\\t\\t},\\n\\t\\t\\tgetUserName: function() {\\n\\t\\t\\t\\treturn \\'\\';\\n\\t\\t\\t},\\n\\t\\t\\tisAddSessionIdToURL: function() {\\n\\t\\t\\t\\treturn false;\\n\\t\\t\\t},\\n\\t\\t\\tisImpersonated: function() {\\n\\t\\t\\t\\treturn false;\\n\\t\\t\\t},\\n\\t\\t\\tisSignedIn: function() {\\n\\t\\t\\t\\treturn false;\\n\\t\\t\\t},\\n\\n\\t\\t\\tisStagedPortlet: function() {\\n\\t\\t\\t\\t\\n\\t\\t\\t\\t\\t\\n\\t\\t\\t\\t\\t\\treturn false;\\n\\t\\t\\t\\t\\t\\n\\t\\t\\t\\t\\n\\t\\t\\t},\\n\\n\\t\\t\\tisStateExclusive: function() {\\n\\t\\t\\t\\treturn false;\\n\\t\\t\\t},\\n\\t\\t\\tisStateMaximized: function() {\\n\\t\\t\\t\\treturn false;\\n\\t\\t\\t},\\n\\t\\t\\tisStatePopUp: function() {\\n\\t\\t\\t\\treturn false;\\n\\t\\t\\t}\\n\\t\\t};\\n\\n\\t\\tvar themeDisplay = Liferay.ThemeDisplay;\\n\\n\\t\\tLiferay.AUI = {\\n\\n\\t\\t\\t\\n\\n\\t\\t\\tgetAvailableLangPath: function() {\\n\\t\\t\\t\\treturn \\'available_languages.jsp?browserId=other&themeId=vdma_WAR_vdmanewtheme&colorSchemeId=01&languageId=de_DE&t=1693191463035\\';\\n\\t\\t\\t},\\n\\t\\t\\tgetCombine: function() {\\n\\t\\t\\t\\treturn false;\\n\\t\\t\\t},\\n\\t\\t\\tgetComboPath: function() {\\n\\t\\t\\t\\treturn \\'/combo/?browserId=other&minifierType=&languageId=de_DE&t=1678192077985&\\';\\n\\t\\t\\t},\\n\\t\\t\\tgetDateFormat: function() {\\n\\t\\t\\t\\treturn \\'%d.%m.%Y\\';\\n\\t\\t\\t},\\n\\t\\t\\tgetEditorCKEditorPath: function() {\\n\\t\\t\\t\\treturn \\'/o/frontend-editor-ckeditor-web\\';\\n\\t\\t\\t},\\n\\t\\t\\tgetFilter: function() {\\n\\t\\t\\t\\tvar filter = \\'raw\\';\\n\\n\\t\\t\\t\\t\\n\\t\\t\\t\\t\\t\\n\\n\\t\\t\\t\\treturn filter;\\n\\t\\t\\t},\\n\\t\\t\\tgetFilterConfig: function() {\\n\\t\\t\\t\\tvar instance = this;\\n\\n\\t\\t\\t\\tvar filterConfig = null;\\n\\n\\t\\t\\t\\tif (!instance.getCombine()) {\\n\\t\\t\\t\\t\\tfilterConfig = {\\n\\t\\t\\t\\t\\t\\treplaceStr: \\'.js\\' + instance.getStaticResourceURLParams(),\\n\\t\\t\\t\\t\\t\\tsearchExp: \\'\\\\\\\\.js$\\'\\n\\t\\t\\t\\t\\t};\\n\\t\\t\\t\\t}\\n\\n\\t\\t\\t\\treturn filterConfig;\\n\\t\\t\\t},\\n\\t\\t\\tgetJavaScriptRootPath: function() {\\n\\t\\t\\t\\treturn \\'/o/frontend-js-web\\';\\n\\t\\t\\t},\\n\\t\\t\\tgetLangPath: function() {\\n\\t\\t\\t\\treturn \\'aui_lang.jsp?browserId=other&themeId=vdma_WAR_vdmanewtheme&colorSchemeId=01&languageId=de_DE&t=1678192077985\\';\\n\\t\\t\\t},\\n\\t\\t\\tgetPortletRootPath: function() {\\n\\t\\t\\t\\treturn \\'/html/portlet\\';\\n\\t\\t\\t},\\n\\t\\t\\tgetStaticResourceURLParams: function() {\\n\\t\\t\\t\\treturn \\'?browserId=other&minifierType=&languageId=de_DE&t=1678192077985\\';\\n\\t\\t\\t}\\n\\t\\t};\\n\\n\\t\\tLiferay.authToken = \\'x8hh1l4Y\\';\\n\\n\\t\\t\\n\\n\\t\\tLiferay.currentURL = \\'\\\\x2fmitglieder\\';\\n\\t\\tLiferay.currentURLEncoded = \\'\\\\x252Fmitglieder\\';\\n\\t// ]]>\\n</script>\\n\\n<script src=\"/o/js_loader_config?t=1693191147970\" type=\"text/javascript\"></script>\\n<script data-senna-track=\"permanent\" src=\"/o/frontend-js-web/loader/config.js\" type=\"text/javascript\"></script>\\n<script data-senna-track=\"permanent\" src=\"/o/frontend-js-web/loader/loader.js\" type=\"text/javascript\"></script>\\n<script data-senna-track=\"permanent\" src=\"/o/frontend-js-web/aui/aui/aui.js\" type=\"text/javascript\"></script>\\n<script data-senna-track=\"permanent\" src=\"/o/frontend-js-web/aui/aui-base-html5-shiv/aui-base-html5-shiv.js\" type=\"text/javascript\"></script>\\n<script data-senna-track=\"permanent\" src=\"/o/frontend-js-web/liferay/browser_selectors.js\" type=\"text/javascript\"></script>\\n<script data-senna-track=\"permanent\" src=\"/o/frontend-js-web/liferay/modules.js\" type=\"text/javascript\"></script>\\n<script data-senna-track=\"permanent\" src=\"/o/frontend-js-web/liferay/aui_sandbox.js\" type=\"text/javascript\"></script>\\n<script data-senna-track=\"permanent\" src=\"/o/frontend-js-web/misc/svg4everybody.js\" type=\"text/javascript\"></script>\\n<script data-senna-track=\"permanent\" src=\"/o/frontend-js-web/aui/arraylist-add/arraylist-add.js\" type=\"text/javascript\"></script>\\n<script data-senna-track=\"permanent\" src=\"/o/frontend-js-web/aui/arraylist-filter/arraylist-filter.js\" type=\"text/javascript\"></script>\\n<script data-senna-track=\"permanent\" src=\"/o/frontend-js-web/aui/arraylist/arraylist.js\" type=\"text/javascript\"></script>\\n<script data-senna-track=\"permanent\" src=\"/o/frontend-js-web/aui/array-extras/array-extras.js\" type=\"text/javascript\"></script>\\n<script data-senna-track=\"permanent\" src=\"/o/frontend-js-web/aui/array-invoke/array-invoke.js\" type=\"text/javascript\"></script>\\n<script data-senna-track=\"permanent\" src=\"/o/frontend-js-web/aui/attribute-base/attribute-base.js\" type=\"text/javascript\"></script>\\n<script data-senna-track=\"permanent\" src=\"/o/frontend-js-web/aui/attribute-complex/attribute-complex.js\" type=\"text/javascript\"></script>\\n<script data-senna-track=\"permanent\" src=\"/o/frontend-js-web/aui/attribute-core/attribute-core.js\" type=\"text/javascript\"></script>\\n<script data-senna-track=\"permanent\" src=\"/o/frontend-js-web/aui/attribute-observable/attribute-observable.js\" type=\"text/javascript\"></script>\\n<script data-senna-track=\"permanent\" src=\"/o/frontend-js-web/aui/attribute-extras/attribute-extras.js\" type=\"text/javascript\"></script>\\n<script data-senna-track=\"permanent\" src=\"/o/frontend-js-web/aui/base-base/base-base.js\" type=\"text/javascript\"></script>\\n<script data-senna-track=\"permanent\" src=\"/o/frontend-js-web/aui/base-pluginhost/base-pluginhost.js\" type=\"text/javascript\"></script>\\n<script data-senna-track=\"permanent\" src=\"/o/frontend-js-web/aui/classnamemanager/classnamemanager.js\" type=\"text/javascript\"></script>\\n<script data-senna-track=\"permanent\" src=\"/o/frontend-js-web/aui/datatype-xml-format/datatype-xml-format.js\" type=\"text/javascript\"></script>\\n<script data-senna-track=\"permanent\" src=\"/o/frontend-js-web/aui/datatype-xml-parse/datatype-xml-parse.js\" type=\"text/javascript\"></script>\\n<script data-senna-track=\"permanent\" src=\"/o/frontend-js-web/aui/dom-base/dom-base.js\" type=\"text/javascript\"></script>\\n<script data-senna-track=\"permanent\" src=\"/o/frontend-js-web/aui/dom-core/dom-core.js\" type=\"text/javascript\"></script>\\n<script data-senna-track=\"permanent\" src=\"/o/frontend-js-web/aui/dom-screen/dom-screen.js\" type=\"text/javascript\"></script>\\n<script data-senna-track=\"permanent\" src=\"/o/frontend-js-web/aui/dom-style/dom-style.js\" type=\"text/javascript\"></script>\\n<script data-senna-track=\"permanent\" src=\"/o/frontend-js-web/aui/event-base/event-base.js\" type=\"text/javascript\"></script>\\n<script data-senna-track=\"permanent\" src=\"/o/frontend-js-web/aui/event-custom-base/event-custom-base.js\" type=\"text/javascript\"></script>\\n<script data-senna-track=\"permanent\" src=\"/o/frontend-js-web/aui/event-custom-complex/event-custom-complex.js\" type=\"text/javascript\"></script>\\n<script data-senna-track=\"permanent\" src=\"/o/frontend-js-web/aui/event-delegate/event-delegate.js\" type=\"text/javascript\"></script>\\n<script data-senna-track=\"permanent\" src=\"/o/frontend-js-web/aui/event-focus/event-focus.js\" type=\"text/javascript\"></script>\\n<script data-senna-track=\"permanent\" src=\"/o/frontend-js-web/aui/event-hover/event-hover.js\" type=\"text/javascript\"></script>\\n<script data-senna-track=\"permanent\" src=\"/o/frontend-js-web/aui/event-key/event-key.js\" type=\"text/javascript\"></script>\\n<script data-senna-track=\"permanent\" src=\"/o/frontend-js-web/aui/event-mouseenter/event-mouseenter.js\" type=\"text/javascript\"></script>\\n<script data-senna-track=\"permanent\" src=\"/o/frontend-js-web/aui/event-mousewheel/event-mousewheel.js\" type=\"text/javascript\"></script>\\n<script data-senna-track=\"permanent\" src=\"/o/frontend-js-web/aui/event-outside/event-outside.js\" type=\"text/javascript\"></script>\\n<script data-senna-track=\"permanent\" src=\"/o/frontend-js-web/aui/event-resize/event-resize.js\" type=\"text/javascript\"></script>\\n<script data-senna-track=\"permanent\" src=\"/o/frontend-js-web/aui/event-simulate/event-simulate.js\" type=\"text/javascript\"></script>\\n<script data-senna-track=\"permanent\" src=\"/o/frontend-js-web/aui/event-synthetic/event-synthetic.js\" type=\"text/javascript\"></script>\\n<script data-senna-track=\"permanent\" src=\"/o/frontend-js-web/aui/intl/intl.js\" type=\"text/javascript\"></script>\\n<script data-senna-track=\"permanent\" src=\"/o/frontend-js-web/aui/io-base/io-base.js\" type=\"text/javascript\"></script>\\n<script data-senna-track=\"permanent\" src=\"/o/frontend-js-web/aui/io-form/io-form.js\" type=\"text/javascript\"></script>\\n<script data-senna-track=\"permanent\" src=\"/o/frontend-js-web/aui/io-queue/io-queue.js\" type=\"text/javascript\"></script>\\n<script data-senna-track=\"permanent\" src=\"/o/frontend-js-web/aui/io-upload-iframe/io-upload-iframe.js\" type=\"text/javascript\"></script>\\n<script data-senna-track=\"permanent\" src=\"/o/frontend-js-web/aui/io-xdr/io-xdr.js\" type=\"text/javascript\"></script>\\n<script data-senna-track=\"permanent\" src=\"/o/frontend-js-web/aui/json-parse/json-parse.js\" type=\"text/javascript\"></script>\\n<script data-senna-track=\"permanent\" src=\"/o/frontend-js-web/aui/json-stringify/json-stringify.js\" type=\"text/javascript\"></script>\\n<script data-senna-track=\"permanent\" src=\"/o/frontend-js-web/aui/node-base/node-base.js\" type=\"text/javascript\"></script>\\n<script data-senna-track=\"permanent\" src=\"/o/frontend-js-web/aui/node-core/node-core.js\" type=\"text/javascript\"></script>\\n<script data-senna-track=\"permanent\" src=\"/o/frontend-js-web/aui/node-event-delegate/node-event-delegate.js\" type=\"text/javascript\"></script>\\n<script data-senna-track=\"permanent\" src=\"/o/frontend-js-web/aui/node-event-simulate/node-event-simulate.js\" type=\"text/javascript\"></script>\\n<script data-senna-track=\"permanent\" src=\"/o/frontend-js-web/aui/node-focusmanager/node-focusmanager.js\" type=\"text/javascript\"></script>\\n<script data-senna-track=\"permanent\" src=\"/o/frontend-js-web/aui/node-pluginhost/node-pluginhost.js\" type=\"text/javascript\"></script>\\n<script data-senna-track=\"permanent\" src=\"/o/frontend-js-web/aui/node-screen/node-screen.js\" type=\"text/javascript\"></script>\\n<script data-senna-track=\"permanent\" src=\"/o/frontend-js-web/aui/node-style/node-style.js\" type=\"text/javascript\"></script>\\n<script data-senna-track=\"permanent\" src=\"/o/frontend-js-web/aui/oop/oop.js\" type=\"text/javascript\"></script>\\n<script data-senna-track=\"permanent\" src=\"/o/frontend-js-web/aui/plugin/plugin.js\" type=\"text/javascript\"></script>\\n<script data-senna-track=\"permanent\" src=\"/o/frontend-js-web/aui/pluginhost-base/pluginhost-base.js\" type=\"text/javascript\"></script>\\n<script data-senna-track=\"permanent\" src=\"/o/frontend-js-web/aui/pluginhost-config/pluginhost-config.js\" type=\"text/javascript\"></script>\\n<script data-senna-track=\"permanent\" src=\"/o/frontend-js-web/aui/querystring-stringify-simple/querystring-stringify-simple.js\" type=\"text/javascript\"></script>\\n<script data-senna-track=\"permanent\" src=\"/o/frontend-js-web/aui/queue-promote/queue-promote.js\" type=\"text/javascript\"></script>\\n<script data-senna-track=\"permanent\" src=\"/o/frontend-js-web/aui/selector-css2/selector-css2.js\" type=\"text/javascript\"></script>\\n<script data-senna-track=\"permanent\" src=\"/o/frontend-js-web/aui/selector-css3/selector-css3.js\" type=\"text/javascript\"></script>\\n<script data-senna-track=\"permanent\" src=\"/o/frontend-js-web/aui/selector-native/selector-native.js\" type=\"text/javascript\"></script>\\n<script data-senna-track=\"permanent\" src=\"/o/frontend-js-web/aui/selector/selector.js\" type=\"text/javascript\"></script>\\n<script data-senna-track=\"permanent\" src=\"/o/frontend-js-web/aui/widget-base/widget-base.js\" type=\"text/javascript\"></script>\\n<script data-senna-track=\"permanent\" src=\"/o/frontend-js-web/aui/widget-htmlparser/widget-htmlparser.js\" type=\"text/javascript\"></script>\\n<script data-senna-track=\"permanent\" src=\"/o/frontend-js-web/aui/widget-skin/widget-skin.js\" type=\"text/javascript\"></script>\\n<script data-senna-track=\"permanent\" src=\"/o/frontend-js-web/aui/widget-uievents/widget-uievents.js\" type=\"text/javascript\"></script>\\n<script data-senna-track=\"permanent\" src=\"/o/frontend-js-web/aui/yui-throttle/yui-throttle.js\" type=\"text/javascript\"></script>\\n<script data-senna-track=\"permanent\" src=\"/o/frontend-js-web/aui/aui-base-core/aui-base-core.js\" type=\"text/javascript\"></script>\\n<script data-senna-track=\"permanent\" src=\"/o/frontend-js-web/aui/aui-base-lang/aui-base-lang.js\" type=\"text/javascript\"></script>\\n<script data-senna-track=\"permanent\" src=\"/o/frontend-js-web/aui/aui-classnamemanager/aui-classnamemanager.js\" type=\"text/javascript\"></script>\\n<script data-senna-track=\"permanent\" src=\"/o/frontend-js-web/aui/aui-component/aui-component.js\" type=\"text/javascript\"></script>\\n<script data-senna-track=\"permanent\" src=\"/o/frontend-js-web/aui/aui-debounce/aui-debounce.js\" type=\"text/javascript\"></script>\\n<script data-senna-track=\"permanent\" src=\"/o/frontend-js-web/aui/aui-delayed-task-deprecated/aui-delayed-task-deprecated.js\" type=\"text/javascript\"></script>\\n<script data-senna-track=\"permanent\" src=\"/o/frontend-js-web/aui/aui-event-base/aui-event-base.js\" type=\"text/javascript\"></script>\\n<script data-senna-track=\"permanent\" src=\"/o/frontend-js-web/aui/aui-event-input/aui-event-input.js\" type=\"text/javascript\"></script>\\n<script data-senna-track=\"permanent\" src=\"/o/frontend-js-web/aui/aui-form-validator/aui-form-validator.js\" type=\"text/javascript\"></script>\\n<script data-senna-track=\"permanent\" src=\"/o/frontend-js-web/aui/aui-node-base/aui-node-base.js\" type=\"text/javascript\"></script>\\n<script data-senna-track=\"permanent\" src=\"/o/frontend-js-web/aui/aui-node-html5/aui-node-html5.js\" type=\"text/javascript\"></script>\\n<script data-senna-track=\"permanent\" src=\"/o/frontend-js-web/aui/aui-selector/aui-selector.js\" type=\"text/javascript\"></script>\\n<script data-senna-track=\"permanent\" src=\"/o/frontend-js-web/aui/aui-timer/aui-timer.js\" type=\"text/javascript\"></script>\\n<script data-senna-track=\"permanent\" src=\"/o/frontend-js-web/liferay/dependency.js\" type=\"text/javascript\"></script>\\n<script data-senna-track=\"permanent\" src=\"/o/frontend-js-web/liferay/dom_task_runner.js\" type=\"text/javascript\"></script>\\n<script data-senna-track=\"permanent\" src=\"/o/frontend-js-web/liferay/events.js\" type=\"text/javascript\"></script>\\n<script data-senna-track=\"permanent\" src=\"/o/frontend-js-web/liferay/language.js\" type=\"text/javascript\"></script>\\n<script data-senna-track=\"permanent\" src=\"/o/frontend-js-web/liferay/lazy_load.js\" type=\"text/javascript\"></script>\\n<script data-senna-track=\"permanent\" src=\"/o/frontend-js-web/liferay/liferay.js\" type=\"text/javascript\"></script>\\n<script data-senna-track=\"permanent\" src=\"/o/frontend-js-web/liferay/util.js\" type=\"text/javascript\"></script>\\n<script data-senna-track=\"permanent\" src=\"/o/frontend-js-web/liferay/global.bundle.js\" type=\"text/javascript\"></script>\\n<script data-senna-track=\"permanent\" src=\"/o/frontend-js-web/liferay/portal.js\" type=\"text/javascript\"></script>\\n<script data-senna-track=\"permanent\" src=\"/o/frontend-js-web/liferay/portlet.js\" type=\"text/javascript\"></script>\\n<script data-senna-track=\"permanent\" src=\"/o/frontend-js-web/liferay/workflow.js\" type=\"text/javascript\"></script>\\n<script data-senna-track=\"permanent\" src=\"/o/frontend-js-web/liferay/form.js\" type=\"text/javascript\"></script>\\n<script data-senna-track=\"permanent\" src=\"/o/frontend-js-web/liferay/form_placeholders.js\" type=\"text/javascript\"></script>\\n<script data-senna-track=\"permanent\" src=\"/o/frontend-js-web/liferay/icon.js\" type=\"text/javascript\"></script>\\n<script data-senna-track=\"permanent\" src=\"/o/frontend-js-web/liferay/menu.js\" type=\"text/javascript\"></script>\\n<script data-senna-track=\"permanent\" src=\"/o/frontend-js-web/liferay/notice.js\" type=\"text/javascript\"></script>\\n<script data-senna-track=\"permanent\" src=\"/o/frontend-js-web/liferay/poller.js\" type=\"text/javascript\"></script>\\n\\n\\n\\n\\n\\t\\n\\n\\t<script data-senna-track=\"temporary\" src=\"/o/js_bundle_config?t=1693191162281\" type=\"text/javascript\"></script>\\n\\n\\n<script data-senna-track=\"temporary\" type=\"text/javascript\">\\n\\t// <![CDATA[\\n\\t\\t\\n\\t\\t\\t\\n\\t\\t\\t\\t\\n\\t\\t\\n\\n\\t\\t\\n\\n\\t\\t\\n\\t// ]]>\\n</script>\\n\\n\\n\\n\\n\\n\\t\\n\\t\\t\\n\\n\\t\\t\\t\\n\\n\\t\\t\\t\\n\\t\\t\\n\\t\\t\\n\\n\\n\\n\\t\\n\\t\\t\\n\\n\\t\\t\\t\\n\\n\\t\\t\\t\\n\\t\\t\\n\\t\\n\\n\\n\\n\\n\\n\\n\\n\\n\\n\\n\\n\\n\\t\\n\\n\\t\\n\\n\\n\\n\\n\\n\\t\\n\\n\\n\\n\\t\\n\\n\\n\\n\\n\\n\\n\\n\\n\\n\\n\\n\\n\\n\\n\\n\\n\\n\\n\\n<link class=\"lfr-css-file\" data-senna-track=\"temporary\" href=\"https://www.vdma.org/o/vdma-new-theme/css/main.css?browserId=other&amp;themeId=vdma_WAR_vdmanewtheme&amp;minifierType=css&amp;languageId=de_DE&amp;t=1690810084000\" id=\"liferayThemeCSS\" rel=\"stylesheet\" type=\"text/css\" />\\n\\n\\n\\n\\n\\n\\n\\n\\n\\t<style data-senna-track=\"temporary\" type=\"text/css\">\\n\\n\\t\\t\\n\\n\\t\\t\\t\\n\\n\\t\\t\\n\\n\\t\\t\\t\\n\\n\\t\\t\\n\\n\\t\\t\\t\\n\\n\\t\\t\\n\\n\\t\\t\\t\\n\\n\\t\\t\\n\\n\\t\\t\\t\\n\\n\\t\\t\\n\\n\\t\\t\\t\\n\\n\\t\\t\\n\\n\\t\\t\\t\\n\\n\\t\\t\\t\\t\\n\\n\\t\\t\\t\\t\\t\\n\\n#p_p_id_com_liferay_site_navigation_menu_web_portlet_SiteNavigationMenuPortlet_INSTANCE_vdmaTopicsNavMenu_ .portlet-content {\\n\\n}\\n\\n\\n\\n\\n\\t\\t\\t\\t\\n\\n\\t\\t\\t\\n\\n\\t\\t\\n\\n\\t\\t\\t\\n\\n\\t\\t\\n\\n\\t\\t\\t\\n\\n\\t\\t\\n\\n\\t\\t\\t\\n\\n\\t\\t\\n\\n\\t\\t\\t\\n\\n\\t\\t\\n\\n\\t\\t\\t\\n\\n\\t\\t\\n\\n\\t\\t\\t\\n\\n\\t\\t\\n\\n\\t\\t\\t\\n\\n\\t\\t\\t\\t\\n\\n\\t\\t\\t\\t\\t\\n\\n#p_p_id_com_liferay_site_navigation_menu_web_portlet_SiteNavigationMenuPortlet_INSTANCE_vdmaEventsNavMenu_ .portlet-content {\\n\\n}\\n\\n\\n\\n\\n\\t\\t\\t\\t\\n\\n\\t\\t\\t\\n\\n\\t\\t\\n\\n\\t</style>\\n\\n\\n\\n\\n\\n\\n\\n\\n\\n\\n<script data-senna-track=\"temporary\" type=\"text/javascript\">\\n\\tif (window.Analytics) {\\n\\t\\twindow._com_liferay_document_library_analytics_isViewFileEntry = false;\\n\\t}\\n</script>\\n\\n\\n\\n\\n\\n\\n\\n\\n\\n\\n\\n\\n\\n\\n\\n\\n\\n\\n\\n<script type=\"text/javascript\">\\n// <![CDATA[\\nLiferay.on(\\n\\t\\'ddmFieldBlur\\', function(event) {\\n\\t\\tif (window.Analytics) {\\n\\t\\t\\tAnalytics.send(\\n\\t\\t\\t\\t\\'fieldBlurred\\',\\n\\t\\t\\t\\t\\'Form\\',\\n\\t\\t\\t\\t{\\n\\t\\t\\t\\t\\tfieldName: event.fieldName,\\n\\t\\t\\t\\t\\tfocusDuration: event.focusDuration,\\n\\t\\t\\t\\t\\tformId: event.formId,\\n\\t\\t\\t\\t\\tpage: event.page\\n\\t\\t\\t\\t}\\n\\t\\t\\t);\\n\\t\\t}\\n\\t}\\n);\\n\\nLiferay.on(\\n\\t\\'ddmFieldFocus\\', function(event) {\\n\\t\\tif (window.Analytics) {\\n\\t\\t\\tAnalytics.send(\\n\\t\\t\\t\\t\\'fieldFocused\\',\\n\\t\\t\\t\\t\\'Form\\',\\n\\t\\t\\t\\t{\\n\\t\\t\\t\\t\\tfieldName: event.fieldName,\\n\\t\\t\\t\\t\\tformId: event.formId,\\n\\t\\t\\t\\t\\tpage: event.page\\n\\t\\t\\t\\t}\\n\\t\\t\\t);\\n\\t\\t}\\n\\t}\\n);\\n\\nLiferay.on(\\n\\t\\'ddmFormPageShow\\', function(event) {\\n\\t\\tif (window.Analytics) {\\n\\t\\t\\tAnalytics.send(\\n\\t\\t\\t\\t\\'pageViewed\\',\\n\\t\\t\\t\\t\\'Form\\',\\n\\t\\t\\t\\t{\\n\\t\\t\\t\\t\\tformId: event.formId,\\n\\t\\t\\t\\t\\tpage: event.page,\\n\\t\\t\\t\\t\\ttitle: event.title\\n\\t\\t\\t\\t}\\n\\t\\t\\t);\\n\\t\\t}\\n\\t}\\n);\\n\\nLiferay.on(\\n\\t\\'ddmFormSubmit\\', function(event) {\\n\\t\\tif (window.Analytics) {\\n\\t\\t\\tAnalytics.send(\\n\\t\\t\\t\\t\\'formSubmitted\\',\\n\\t\\t\\t\\t\\'Form\\',\\n\\t\\t\\t\\t{\\n\\t\\t\\t\\t\\tformId: event.formId\\n\\t\\t\\t\\t}\\n\\t\\t\\t);\\n\\t\\t}\\n\\t}\\n);\\n\\nLiferay.on(\\n\\t\\'ddmFormView\\', function(event) {\\n\\t\\tif (window.Analytics) {\\n\\t\\t\\tAnalytics.send(\\n\\t\\t\\t\\t\\'formViewed\\',\\n\\t\\t\\t\\t\\'Form\\',\\n\\t\\t\\t\\t{\\n\\t\\t\\t\\t\\tformId: event.formId,\\n\\t\\t\\t\\t\\ttitle: event.title\\n\\t\\t\\t\\t}\\n\\t\\t\\t);\\n\\t\\t}\\n\\t}\\n);\\n// ]]>\\n</script>\\n\\n\\n\\n\\n\\n\\n\\n    <link rel=\"icon\" type=\"image/x-icon\" href=\"favicon.ico\">\\n\\n    <!-- Google Tag Manager -->\\n        <script type=\"text/plain\" data-usercentrics=\"Google Analytics\">\\n        (function(w,d,s,l,i){w[l]=w[l]||[];w[l].push({\\'gtm.start\\':\\n        new Date().getTime(),event:\\'gtm.js\\'});var f=d.getElementsByTagName(s)[0],\\n        j=d.createElement(s),dl=l!=\\'dataLayer\\'?\\'&l=\\'+l:\\'\\';j.async=true;j.src=\\n        \\'https://www.googletagmanager.com/gtm.js?id=\\'+i+dl;f.parentNode.insertBefore(j,f);\\n        })(window,document,\\'script\\',\\'dataLayer\\',\\'GTM-N3Z62H6\\');</script>\\n    <!-- End Google Tag Manager -->\\n\\n    <script src=\"https://www.vdma.org/o/vdma-new-theme/js/jquery-ui.min.js\" type=\"text/javascript\"></script>\\n    <script src=\"https://www.vdma.org/o/vdma-new-theme/js/jquery.validate.min.js\" type=\"text/javascript\"></script>\\n    <script src=\"https://www.vdma.org/o/vdma-new-theme/js/moment.js\" type=\"text/javascript\"></script>\\n\\n    <script src=\"https://www.vdma.org/o/vdma-new-theme/js/svg4everybody.js\" type=\"text/javascript\"></script>\\n    <script src=\"https://www.vdma.org/o/vdma-new-theme/js/vdma/focus-theme.js\" type=\"text/javascript\"></script>\\n    <script src=\"https://www.vdma.org/o/vdma-new-theme/js/vdma/base.liferay.bundle.js\" type=\"text/javascript\"></script>\\n    <script src=\"https://www.vdma.org/o/vdma-new-theme/js/vdma-d3-script-loader.js\" type=\"text/javascript\"></script>\\n\\n    <script id=\"usercentrics-cmp\" src=\"https://app.usercentrics.eu/browser-ui/latest/loader.js\" data-settings-id=\"g_iKyoQDK\" async></script>\\n\\n    <!-- Matomo -->\\n    <script type=\"text/plain\" data-usercentrics=\"Matomo\">\\n        var _paq = window._paq = window._paq || [];\\n        /* tracker methods like \"setCustomDimension\" should be called before \"trackPageView\" */\\n        _paq.push([\"setDocumentTitle\", document.domain + \"/\" + document.title]);\\n        _paq.push([\"setCookieDomain\", \"*.www.vdma.org\"]);\\n        _paq.push([\"setDomains\", [\"*.www.vdma.org\"]]);\\n        _paq.push([\"setDoNotTrack\", true]);\\n        _paq.push([\\'trackPageView\\']);\\n        _paq.push([\\'enableLinkTracking\\']);\\n        (function() {\\n            var u=\"https://vdma.matomo.cloud/\";\\n            _paq.push([\\'setTrackerUrl\\', u+\\'matomo.php\\']);\\n            _paq.push([\\'setSiteId\\', \\'1\\']);\\n            var d=document, g=d.createElement(\\'script\\'), s=d.getElementsByTagName(\\'script\\')[0];\\n            g.async=true; g.src=\\'//cdn.matomo.cloud/vdma.matomo.cloud/matomo.js\\'; s.parentNode.insertBefore(g,s);\\n        })();\\n    </script>\\n    <noscript><p><img src=\"https://vdma.matomo.cloud/matomo.php?idsite=1&amp;rec=1\" style=\"border:0;\" alt=\"\" /></p></noscript>\\n    <!-- End Matomo Code -->\\n\\n</head>\\n\\n<body class=\" controls-visible  yui3-skin-sam signed-out public-page organization-site\">\\n\\n<!-- Google Tag Manager (noscript) -->\\n    <noscript><iframe uc-src=\"https://www.googletagmanager.com/ns.html?id=GTM-N3Z62H6\" height=\"0\" width=\"0\" style=\"display:none;visibility:hidden\"></iframe></noscript>\\n<!-- End Google Tag Manager (noscript) -->\\n\\n\\n\\n\\n\\n\\n\\n\\n\\n\\n\\n\\n\\n\\n\\n\\n\\n\\n\\n\\n\\n\\n\\n\\n\\n\\n\\n\\n\\n\\n\\n\\n\\n\\n\\n\\n\\n\\n\\n\\n\\n\\n\\n\\n\\n\\n\\n\\n\\n\\n\\t<nav aria-label=\"Schnell-Links\" class=\"quick-access-nav\" id=\"rozt_quickAccessNav\">\\n\\t\\t<h1 class=\"hide-accessible\">Navigation</h1>\\n\\n\\t\\t<ul>\\n\\t\\t\\t\\n\\t\\t\\t\\t<li><a href=\"#main-content\">Zum Inhalt springen</a></li>\\n\\t\\t\\t\\n\\n\\t\\t\\t\\n\\t\\t</ul>\\n\\t</nav>\\n\\n\\n\\n\\n\\n\\n\\n\\n\\n\\n\\n\\n\\n\\n\\n\\n\\n\\n\\n\\n\\n\\n\\n\\n\\n\\n\\n\\n\\n\\n\\n\\n\\n\\n\\n\\n\\n\\n\\n\\n\\n\\n\\n\\n\\n\\n\\n\\n\\n\\n\\n\\n\\n\\n\\n\\n\\n\\n\\n\\n\\n\\n\\n\\n\\n\\n\\n\\n\\n\\n\\n\\n\\n\\n\\n\\n\\n\\n\\n\\n\\n\\n\\n<header id=\"header\">\\n    <div class=\"header-float\">\\n        <div id=\"header-upper-id\" class=\"header-float__upper\"></div>\\n        <div id=\"header-main-id\" class=\"header-float__main\">\\n            <div class=\"header-float__main-logo\">\\n                <a href=\"https://www.vdma.org\">\\n                    <img src=\"/o/vdma-new-theme/assets/images/VDMA_Logo_neu_weiss_RGB.svg\" alt=\"VDMA logo\"/>\\n                </a>\\n\\n                <div class=\"header-float__main-logo__buttons\">\\n                    <button id=\"open-search-button-id\" class=\"header-float__main-logo__buttons__button btn-borderless\">\\n                        <i class=\"vdma-icon\">\\n                            <svg>\\n                                <use xlink:href=\"/o/vdma-new-theme/assets/icons/sprite.symbol.svg#v-search\"></use>\\n                            </svg>\\n                        </i>\\n                    </button>\\n                    <button id=\"close-search-button-id\"\\n                            class=\"header-float__main-logo__buttons__button btn-borderless button-hidden\">\\n                        <span>Schließen</span>\\n                        <i class=\"vdma-icon\">\\n                            <svg>\\n                                <use xlink:href=\"/o/vdma-new-theme/assets/icons/sprite.symbol.svg#v-x\"></use>\\n                            </svg>\\n                        </i>\\n                    </button>\\n\\n                    <button id=\"open-menu-button-id\" class=\"header-float__main-logo__buttons__button btn-borderless\">\\n                        <i class=\"vdma-icon\">\\n                            <svg>\\n                                <use xlink:href=\"/o/vdma-new-theme/assets/icons/sprite.symbol.svg#v-menu\"></use>\\n                            </svg>\\n                        </i>\\n                    </button>\\n                    <button id=\"close-menu-button-id\"\\n                            class=\"header-float__main-logo__buttons__button btn-borderless button-hidden\">\\n                        <i class=\"vdma-icon\">\\n                            <svg>\\n                                <use xlink:href=\"/o/vdma-new-theme/assets/icons/sprite.symbol.svg#v-x\"></use>\\n                            </svg>\\n                        </i>\\n                    </button>\\n                </div>\\n            </div>\\n\\n            <div id=\"header-main-navigation-id\" class=\"header-float__main__nav\">\\n                <div id=\"header-main-navigation-scroll-id\" class=\"header-float__main__nav-scroll\">\\n                    <div class=\"header-float__main__nav-scroll__ref\">\\n                        <div class=\"header-list\">\\n                            <div id=\"header-subject-group-id\" class=\"header-list__label-group\">\\n                                <label>Themen</label>\\n                                <i class=\"icon-group\">\\n                                    <svg>\\n                                        <use xlink:href=\"/o/vdma-new-theme/assets/icons/sprite.symbol.svg#v-chevron-down\"></use>\\n                                    </svg>\\n                                </i>\\n                            </div>\\n\\n                            <div class=\"header-list__suggestion-group\">\\n                                <div class=\"header-list__suggestion-group__items\">\\n                                    <div class=\"header-list__suggestion-group__item flex-grow-2\">\\n\\n\\n\\n\\n\\n\\n\\n\\n\\n\\n\\n\\n\\n\\n\\n\\n\\n\\n\\n\\n\\n\\n\\n\\n\\n\\n\\n\\n\\n\\n\\n\\n\\n\\n\\n\\n\\n\\n\\n\\n\\t\\n\\n\\t<div class=\"portlet-boundary portlet-boundary_com_liferay_site_navigation_menu_web_portlet_SiteNavigationMenuPortlet_  portlet-static portlet-static-end portlet-borderless portlet-navigation \" id=\"p_p_id_com_liferay_site_navigation_menu_web_portlet_SiteNavigationMenuPortlet_INSTANCE_vdmaTopicsNavMenu_\">\\n\\t\\t<span id=\"p_com_liferay_site_navigation_menu_web_portlet_SiteNavigationMenuPortlet_INSTANCE_vdmaTopicsNavMenu\"></span>\\n\\n\\n\\n\\n\\t\\n\\n\\t\\n\\t\\t\\n\\t\\t\\t\\n\\n\\n\\n\\n\\n\\n\\n\\n\\n\\n\\n\\n\\n\\n\\n\\n\\n\\n\\n\\n\\n\\n\\n\\n\\n\\n\\n\\n\\n\\n\\n\\n\\n\\n\\n\\n\\n\\n\\t\\n\\t\\t\\n<section class=\"portlet\" id=\"portlet_com_liferay_site_navigation_menu_web_portlet_SiteNavigationMenuPortlet_INSTANCE_vdmaTopicsNavMenu\">\\n\\n\\n\\t<div class=\"portlet-content\">\\n\\n\\t\\t<div class=\"autofit-float autofit-row portlet-header\">\\n\\t\\t\\t<div class=\"autofit-col autofit-col-expand\">\\n\\t\\t\\t\\t<h2 class=\"portlet-title-text\">Themenfelder</h2>\\n\\t\\t\\t</div>\\n\\n\\t\\t\\t<div class=\"autofit-col autofit-col-end\">\\n\\t\\t\\t\\t<div class=\"autofit-section\">\\n\\t\\t\\t\\t</div>\\n\\t\\t\\t</div>\\n\\t\\t</div>\\n\\n\\t\\t\\n\\t\\t\\t<div class=\" portlet-content-container\">\\n\\t\\t\\t\\t\\n\\n\\n\\t<div class=\"portlet-body\">\\n\\n\\n\\n\\t\\n\\t\\t\\n\\t\\t\\t\\n\\t\\t\\t\\t\\n\\t\\t\\t\\t\\t\\n\\n\\n\\n\\n\\n\\n\\n\\n\\n\\n\\n\\n\\n\\n\\n\\n\\n\\n\\n\\n\\n\\n\\n\\n\\n\\n\\n\\n\\n\\n\\n\\n\\n\\n\\n\\n\\n\\n\\n\\n\\n\\n\\n\\n\\n\\n\\n\\n\\n\\n\\n\\t\\n\\n\\t\\t\\t\\t\\n\\n\\t\\t\\t\\t\\n\\t\\t\\t\\t\\t\\n\\t\\t\\t\\t\\t\\t\\n\\n\\n\\t\\n\\n\\t\\t\\n\\n\\n\\n\\n\\n\\n\\n\\n\\n\\n\\n\\n\\n\\n\\n\\n\\n\\n\\n\\n\\t\\n\\n\\t\\t\\n\\n\\t\\t\\n\\t\\t\\t\\n\\t\\t\\t\\t\\n<p>Themenfelder</p>\\n\\n\\n\\t\\t<ul class=\"layouts level-1\">\\n\\n\\n\\n\\t\\t\\t\\t<li class=\"lfr-nav-item\">\\n\\t\\t\\t\\t\\t\\t<a class=\"lfr-nav-item\" href=\"https://www.vdma.org/bildung-modernes-arbeiten\" >Bildung &amp; Modernes Arbeiten</a>\\n\\n\\t\\t\\t\\t</li>\\n\\n\\n\\n\\t\\t\\t\\t<li class=\"lfr-nav-item\">\\n\\t\\t\\t\\t\\t\\t<a class=\"lfr-nav-item\" href=\"https://www.vdma.org/digitalisierung-industrie-40\" >Digitalisierung &amp; Industrie 4.0</a>\\n\\n\\t\\t\\t\\t</li>\\n\\n\\n\\n\\t\\t\\t\\t<li class=\"lfr-nav-item\">\\n\\t\\t\\t\\t\\t\\t<a class=\"lfr-nav-item\" href=\"https://www.vdma.org/forschung-innovation-technologie\" >Forschung, Innovation &amp; Technologie</a>\\n\\n\\t\\t\\t\\t</li>\\n\\n\\n\\n\\t\\t\\t\\t<li class=\"lfr-nav-item\">\\n\\t\\t\\t\\t\\t\\t<a class=\"lfr-nav-item\" href=\"https://www.vdma.org/management-business-strategien\" >Management &amp; Business Strategien</a>\\n\\n\\t\\t\\t\\t</li>\\n\\n\\n\\n\\t\\t\\t\\t<li class=\"lfr-nav-item\">\\n\\t\\t\\t\\t\\t\\t<a class=\"lfr-nav-item\" href=\"https://www.vdma.org/maerkte-konjunktur\" >Märkte &amp; Konjunktur</a>\\n\\n\\t\\t\\t\\t</li>\\n\\n\\n\\n\\t\\t\\t\\t<li class=\"lfr-nav-item\">\\n\\t\\t\\t\\t\\t\\t<a class=\"lfr-nav-item\" href=\"https://www.vdma.org/mobilitaet\" >Mobilität</a>\\n\\n\\t\\t\\t\\t</li>\\n\\n\\n\\n\\t\\t\\t\\t<li class=\"lfr-nav-item\">\\n\\t\\t\\t\\t\\t\\t<a class=\"lfr-nav-item\" href=\"https://www.vdma.org/nachhaltigkeit-energie\" >Nachhaltigkeit &amp; Energie</a>\\n\\n\\t\\t\\t\\t</li>\\n\\n\\n\\n\\t\\t\\t\\t<li class=\"lfr-nav-item\">\\n\\t\\t\\t\\t\\t\\t<a class=\"lfr-nav-item\" href=\"https://www.vdma.org/recht\" >Recht</a>\\n\\n\\t\\t\\t\\t</li>\\n\\n\\n\\n\\t\\t\\t\\t<li class=\"lfr-nav-item\">\\n\\t\\t\\t\\t\\t\\t<a class=\"lfr-nav-item\" href=\"https://www.vdma.org/steuern\" >Steuern</a>\\n\\n\\t\\t\\t\\t</li>\\n\\n\\n\\n\\t\\t\\t\\t<li class=\"lfr-nav-item\">\\n\\t\\t\\t\\t\\t\\t<a class=\"lfr-nav-item\" href=\"https://www.vdma.org/technische-regelwerke-normen\" >Technische Regelwerke &amp; Normen</a>\\n\\n\\t\\t\\t\\t</li>\\n\\n\\n\\n\\t\\t\\t\\t<li class=\"lfr-nav-item\">\\n\\t\\t\\t\\t\\t\\t<a class=\"lfr-nav-item\" href=\"https://www.vdma.org/wirtschaftspolitik-gesellschaftspolitik\" >Wirtschafts- &amp; Gesellschaftspolitik</a>\\n\\n\\t\\t\\t\\t</li>\\n\\t\\t</ul>\\n\\n\\t\\t\\t\\n\\t\\t\\t\\n\\t\\t\\n\\t\\n\\t\\n\\t\\n\\t\\n\\n\\n\\t\\n\\t\\n\\t\\t\\t\\t\\t\\n\\t\\t\\t\\t\\n\\t\\t\\t\\n\\t\\t\\n\\t\\n\\t\\n\\n\\n\\t</div>\\n\\n\\t\\t\\t</div>\\n\\t\\t\\n\\t</div>\\n</section>\\n\\t\\n\\n\\t\\t\\n\\t\\t\\n\\n\\n\\n\\n\\n\\n\\n\\t</div>\\n\\n\\n\\n\\n\\n\\n                                    </div>\\n                                    <div class=\"header-list__suggestion-group__item tmp\">\\n                                        &nbsp;\\n                                    </div>\\n                                </div>\\n\\n                                <div class=\"header-list__suggestion-group__topics\">\\n                                    <a href=\"/themen\" class=\"btn-textlink btn-minw btn-transparent\">\\n                                        <span>Alle Themen im Überblick</span>\\n                                    </a>\\n                                    <button id=\"subject-close-button-id\" class=\"header-list__close-btn btn-borderless\">\\n                                        <span>Schließen</span>\\n                                        <svg>\\n                                            <use xlink:href=\"/o/vdma-new-theme/assets/icons/sprite.symbol.svg#v-x\"></use>\\n                                        </svg>\\n                                    </button>\\n                                </div>\\n                            </div>\\n                        </div>\\n                    </div>\\n\\n                    <div class=\"header-float__main__nav-scroll__services\">\\n                        <a href=\"/services-und-leistungen\">\\n                            <div class=\"header-event\">\\n                                <label>Leistungen</label>\\n                            </div>\\n                        </a>\\n                    </div>\\n                    <div class=\"header-float__main__nav-scroll__event\">\\n                        <div class=\"header-list\">\\n                            <div id=\"header-event-group-id\" class=\"header-list__label-group\">\\n                                <label>Veranstaltungen & Messen</label>\\n                                <i class=\"icon-group\">\\n                                    <svg>\\n                                        <use xlink:href=\"/o/vdma-new-theme/assets/icons/sprite.symbol.svg#v-chevron-down\"></use>\\n                                    </svg>\\n                                </i>\\n                            </div>\\n\\n                            <div class=\"header-list__suggestion-group\">\\n                                <div class=\"header-list__suggestion-group__items\">\\n                                    <div class=\"header-list__suggestion-group__item flex-grow-2\">\\n\\n\\n\\n\\n\\n\\n\\n\\n\\n\\n\\n\\n\\n\\n\\n\\n\\n\\n\\n\\n\\n\\n\\n\\n\\n\\n\\n\\n\\n\\n\\n\\n\\n\\n\\n\\n\\n\\n\\n\\n\\t\\n\\n\\t<div class=\"portlet-boundary portlet-boundary_com_liferay_site_navigation_menu_web_portlet_SiteNavigationMenuPortlet_  portlet-static portlet-static-end portlet-borderless portlet-navigation \" id=\"p_p_id_com_liferay_site_navigation_menu_web_portlet_SiteNavigationMenuPortlet_INSTANCE_vdmaEventsNavMenu_\">\\n\\t\\t<span id=\"p_com_liferay_site_navigation_menu_web_portlet_SiteNavigationMenuPortlet_INSTANCE_vdmaEventsNavMenu\"></span>\\n\\n\\n\\n\\n\\t\\n\\n\\t\\n\\t\\t\\n\\t\\t\\t\\n\\n\\n\\n\\n\\n\\n\\n\\n\\n\\n\\n\\n\\n\\n\\n\\n\\n\\n\\n\\n\\n\\n\\n\\n\\n\\n\\n\\n\\n\\n\\n\\n\\n\\n\\n\\n\\n\\n\\t\\n\\t\\t\\n<section class=\"portlet\" id=\"portlet_com_liferay_site_navigation_menu_web_portlet_SiteNavigationMenuPortlet_INSTANCE_vdmaEventsNavMenu\">\\n\\n\\n\\t<div class=\"portlet-content\">\\n\\n\\t\\t<div class=\"autofit-float autofit-row portlet-header\">\\n\\t\\t\\t<div class=\"autofit-col autofit-col-expand\">\\n\\t\\t\\t\\t<h2 class=\"portlet-title-text\">Veranstaltungen &amp; Messen</h2>\\n\\t\\t\\t</div>\\n\\n\\t\\t\\t<div class=\"autofit-col autofit-col-end\">\\n\\t\\t\\t\\t<div class=\"autofit-section\">\\n\\t\\t\\t\\t</div>\\n\\t\\t\\t</div>\\n\\t\\t</div>\\n\\n\\t\\t\\n\\t\\t\\t<div class=\" portlet-content-container\">\\n\\t\\t\\t\\t\\n\\n\\n\\t<div class=\"portlet-body\">\\n\\n\\n\\n\\t\\n\\t\\t\\n\\t\\t\\t\\n\\t\\t\\t\\t\\n\\t\\t\\t\\t\\t\\n\\n\\n\\n\\n\\n\\n\\n\\n\\n\\n\\n\\n\\n\\n\\n\\n\\n\\n\\n\\n\\n\\n\\n\\n\\n\\n\\n\\n\\n\\n\\n\\n\\n\\n\\n\\n\\n\\n\\n\\n\\n\\n\\n\\n\\n\\n\\n\\n\\n\\n\\n\\t\\n\\n\\t\\t\\t\\t\\n\\n\\t\\t\\t\\t\\n\\t\\t\\t\\t\\t\\n\\t\\t\\t\\t\\t\\t\\n\\n\\n\\t\\n\\n\\t\\t\\n\\n\\n\\n\\n\\n\\n\\n\\n\\n\\n\\n\\n\\n\\n\\n\\n\\n\\n\\n\\n\\t\\n\\n\\t\\t\\n\\n\\t\\t\\n\\t\\t\\t\\n\\t\\t\\t\\t\\n<p>Veranstaltungen & Messen</p>\\n\\n\\n\\t\\t<ul class=\"layouts level-1\">\\n\\n\\n\\n\\t\\t\\t\\t<li class=\"lfr-nav-item\">\\n\\t\\t\\t\\t\\t\\t<a class=\"lfr-nav-item\" href=\"https://www.vdma.org/messe\" >Unser Messeangebot</a>\\n\\n\\t\\t\\t\\t</li>\\n\\t\\t</ul>\\n\\n\\t\\t\\t\\n\\t\\t\\t\\n\\t\\t\\n\\t\\n\\t\\n\\t\\n\\t\\n\\n\\n\\t\\n\\t\\n\\t\\t\\t\\t\\t\\n\\t\\t\\t\\t\\n\\t\\t\\t\\n\\t\\t\\n\\t\\n\\t\\n\\n\\n\\t</div>\\n\\n\\t\\t\\t</div>\\n\\t\\t\\n\\t</div>\\n</section>\\n\\t\\n\\n\\t\\t\\n\\t\\t\\n\\n\\n\\n\\n\\n\\n\\n\\t</div>\\n\\n\\n\\n\\n\\n\\n                                    </div>\\n                                    <div class=\"header-list__suggestion-group__item tmp\">\\n                                        &nbsp;\\n                                    </div>\\n                                </div>\\n\\n                                <div class=\"header-list__suggestion-group__topics\">\\n                                    <a href=\"/kalender\" class=\"btn-textlink btn-minw btn-transparent\">\\n                                        <span>Veranstaltungs- und Messekalender</span>\\n                                    </a>\\n                                    <button id=\"services-close-button-id\" class=\"header-list__close-btn btn-borderless\">\\n                                        <span>Schließen</span>\\n                                        <svg>\\n                                            <use xlink:href=\"/o/vdma-new-theme/assets/icons/sprite.symbol.svg#v-x\"></use>\\n                                        </svg>\\n                                    </button>\\n                                </div>\\n                            </div>\\n                        </div>\\n                    </div>\\n\\n                    <div class=\"header-float__main__nav-scroll__search\">\\n                        <div id=\"header-search-group-id\" class=\"header-search\">\\n                            <i class=\"icon-group\">\\n                                <svg>\\n                                    <use xlink:href=\"/o/vdma-new-theme/assets/icons/sprite.symbol.svg#v-search\"></use>\\n                                </svg>\\n                            </i>\\n                            <label>Suche</label>\\n                        </div>\\n                    </div>\\n\\n                    <div class=\"header-float__main__nav-scroll__login\">\\n                            <a href=\"/c/portal/login\" class=\"textlink\">\\n                                <div class=\"header-login\">\\n                                    <i class=\"icon-group\">\\n                                        <svg>\\n                                            <use xlink:href=\"/o/vdma-new-theme/assets/icons/sprite.symbol.svg#v-user-circle\"></use>\\n                                        </svg>\\n                                    </i>\\n                                    <label>Anmelden</label>\\n                                </div>\\n                            </a>\\n                    </div>\\n                </div>\\n\\n                <div id=\"header-nav-menu-id\" class=\"header-float__main__nav-menu\">\\n                    <div class=\"header-float__main__nav-menu-org\">\\n                        <p>Maschinen- und Anlagenbau</p>\\n                    </div>\\n                    <div class=\"header-float__main__nav-menu-ref\">\\n                            <div class=\"header-float__main__nav-menu-ref__registration\">\\n                                <a href=\"/registration\">Registrieren</a>\\n                            </div>\\n\\n                        <div class=\"header-float__main__nav-menu-ref__contact\">\\n                            <a href=\"/kontakte\"\\n                               class=\"contact\">Kontakt</a>\\n                        </div>\\n\\n                        <div class=\"header-float__main__nav-menu-ref__press\">\\n                            <a href=\"/presse\"\\n                               class=\"press\">Presse</a>\\n                        </div>\\n\\n                        <div class=\"header-float__main__nav-menu-ref__association\">\\n                            <a href=\"/der-verband\"\\n                               class=\"associations\">Der Verband</a>\\n                        </div>\\n\\n                        <div class=\"header-float__main__nav-menu-ref__lang\">\\n\\n\\n\\n\\n\\n\\n\\n\\n\\n\\n\\n\\n\\n\\n\\n\\n\\n\\n\\n\\n\\n\\n\\n\\n\\n\\n\\n\\n\\n\\n\\n\\n\\n\\n\\n\\n\\n\\n\\n\\n\\t\\n\\n\\t<div class=\"portlet-boundary portlet-boundary_com_liferay_site_navigation_language_web_portlet_SiteNavigationLanguagePortlet_  portlet-static portlet-static-end portlet-borderless portlet-language \" id=\"p_p_id_com_liferay_site_navigation_language_web_portlet_SiteNavigationLanguagePortlet_INSTANCE_vdmaLanguageSelector_\">\\n\\t\\t<span id=\"p_com_liferay_site_navigation_language_web_portlet_SiteNavigationLanguagePortlet_INSTANCE_vdmaLanguageSelector\"></span>\\n\\n\\n\\n\\n\\t\\n\\n\\t\\n\\t\\t\\n\\t\\t\\t\\n\\n\\n\\n\\n\\n\\n\\n\\n\\n\\n\\n\\n\\n\\n\\n\\n\\n\\n\\n\\n\\n\\n\\n\\n\\n\\n\\n\\n\\n\\n\\n\\n\\n\\n\\n\\n\\n\\n\\t\\n\\t\\t\\n<section class=\"portlet\" id=\"portlet_com_liferay_site_navigation_language_web_portlet_SiteNavigationLanguagePortlet_INSTANCE_vdmaLanguageSelector\">\\n\\n\\n\\t<div class=\"portlet-content\">\\n\\n\\t\\t<div class=\"autofit-float autofit-row portlet-header\">\\n\\t\\t\\t<div class=\"autofit-col autofit-col-expand\">\\n\\t\\t\\t\\t<h2 class=\"portlet-title-text\">Sprachauswahl</h2>\\n\\t\\t\\t</div>\\n\\n\\t\\t\\t<div class=\"autofit-col autofit-col-end\">\\n\\t\\t\\t\\t<div class=\"autofit-section\">\\n\\t\\t\\t\\t</div>\\n\\t\\t\\t</div>\\n\\t\\t</div>\\n\\n\\t\\t\\n\\t\\t\\t<div class=\" portlet-content-container\">\\n\\t\\t\\t\\t\\n\\n\\n\\t<div class=\"portlet-body\">\\n\\n\\n\\n\\t\\n\\t\\t\\n\\t\\t\\t\\n\\t\\t\\t\\t\\n\\t\\t\\t\\t\\t\\n\\n\\n\\n\\n\\n\\n\\n\\n\\n\\n\\n\\n\\n\\n\\n\\n\\n\\n\\n\\n\\n\\n\\n\\n\\n\\n\\n\\n\\n\\n\\n\\n\\n\\n\\n\\n\\n\\n\\n\\n\\n\\n\\n\\n\\n\\n\\n\\n\\n\\n\\n\\t\\n\\n\\t\\t\\t\\t\\n\\n\\t\\t\\t\\t\\n\\t\\t\\t\\t\\t\\n\\t\\t\\t\\t\\t\\t\\n\\n\\n\\t\\n\\n\\t\\t\\n\\n\\n\\n\\n\\n\\n\\n\\n\\n\\n\\n\\n\\n\\n\\n\\n\\n\\n\\n\\n\\n\\n\\n\\n\\n\\n\\n\\n\\n\\n\\n\\n\\n\\n\\n\\n\\n\\n\\n\\n\\n\\n\\n\\n\\n\\n\\n\\n\\n\\n\\n\\n\\n\\n\\n\\n\\n\\n\\n\\n\\n\\n\\n\\n\\n\\n\\n\\t\\n\\n\\t    <div class=\"header-language\">\\n            <label>\\n              <input type=\"radio\" name=\"language\" value=\"de\" checked\\n                  onchange=\"window.location = \\'#\\'\"\\n              />\\n              <span>de</span>\\n            </label>\\n            <label>\\n              <input type=\"radio\" name=\"language\" value=\"en\" \\n                  onchange=\"window.location = \\'/c/portal/update_language?p_l_id=633&redirect=%2Fmitglieder&languageId=en_GB\\'\"\\n              />\\n              <span>en</span>\\n            </label>\\n\\t</div>\\n\\n\\n\\n\\t\\n\\t\\n\\t\\t\\t\\t\\t\\n\\t\\t\\t\\t\\n\\t\\t\\t\\n\\t\\t\\n\\t\\n\\t\\n\\n\\n\\t</div>\\n\\n\\t\\t\\t</div>\\n\\t\\t\\n\\t</div>\\n</section>\\n\\t\\n\\n\\t\\t\\n\\t\\t\\n\\n\\n\\n\\n\\n\\n\\n\\t</div>\\n\\n\\n\\n\\n\\n\\n                        </div>\\n\\n                    </div>\\n                </div>\\n            </div>\\n\\n\\n\\n            <div id=\"header-main-search-id\" class=\"header-float__main__search\">\\n                <div class=\"header-float__main__search__global\">\\n                    <div id=\"header-global-search-id\" class=\"vdma-global-search\">\\n                        <div class=\"vdma-global-search__input-group\">\\n                            <input type=\"text\"/>\\n                            <label>Suchbegriff eingeben</label>\\n                            <i class=\"vdma-icon\">\\n                                <svg>\\n                                    <use xlink:href=\"/o/vdma-new-theme/assets/icons/sprite.symbol.svg#v-x-circle-solid\"></use>\\n                                </svg>\\n                            </i>\\n                        </div>\\n                        <div class=\"vdma-global-search__action\">\\n                            <button class=\"btn btn-orange\" disabled>\\n                                <i class=\"vdma-icon\">\\n                                    <svg>\\n                                        <use xlink:href=\"/o/vdma-new-theme/assets/icons/sprite.symbol.svg#v-search\"></use>\\n                                    </svg>\\n                                </i>\\n                            </button>\\n                        </div>\\n                        <ul class=\"vdma-global-search__results\">\\n                            <li class=\"vdma-global-search__results-item\">\\n                                <a class=\"vdma-global-search__results-item__link\">Digitalisierung</a>\\n                            </li>\\n                            <li class=\"vdma-global-search__results-item\">\\n                                <a class=\"vdma-global-search__results-item__link\">An die Digitalisierung anpassen</a>\\n                            </li>\\n                            <li class=\"vdma-global-search__results-item\">\\n                                <a class=\"vdma-global-search__results-item__link\">Digitalstrategien</a>\\n                            </li>\\n                            <li class=\"vdma-global-search__results-item\">\\n                                <a class=\"vdma-global-search__results-item__link\">Digitalisierung und\\n                                    Geschäftsprozess</a>\\n                            </li>\\n                            <li class=\"vdma-global-search__results-item\">\\n                                <a class=\"vdma-global-search__results-item__link\">Digitalisierung als\\n                                    Wachstumstreiber</a>\\n                            </li>\\n                            <li class=\"vdma-global-search__results-item\">\\n                                <a class=\"vdma-global-search__results-item__link\">Digitalisierung im Einkauf</a>\\n                            </li>\\n                        </ul>\\n                    </div>\\n                </div>\\n\\n                <div class=\"header-float__main__search__action\">\\n                    <a href=\"/search\" class=\"textlink textlink--bordered textlink--ds100\">\\n                        <div class=\"textlink-inline\">\\n                            <span class=\"textlink-text\">Zur erweiterten Suche</span>\\n                        </div>\\n                    </a>\\n                    <button id=\"close-search-action-button-id\"\\n                            class=\"header-float__main__search__action__button btn-borderless\">\\n                        <div class=\"btn-borderless__inline\">\\n                            <span>Schließen</span>\\n                        </div>\\n                        <svg>\\n                            <use xlink:href=\"/o/vdma-new-theme/assets/icons/sprite.symbol.svg#v-x\"></use>\\n                        </svg>\\n                    </button>\\n                </div>\\n            </div>\\n        </div>\\n    </div>\\n</header>\\n\\n<section class=\"portlets \">\\n    <div class=\"portlets-content vdma-content\">\\n        <h1 class=\"sr-only\">Mitgliederliste - vdma.org</h1>\\n\\n\\n\\n\\n\\n\\n\\n\\n\\n\\n\\n\\n\\n\\n\\n\\n\\n\\n\\n\\n\\n\\n\\n\\n\\n\\n\\n\\n\\n\\n\\n\\n\\n\\n\\n\\n\\n\\n\\n\\n\\n\\n\\n\\n\\n\\n\\n\\n\\n\\n\\n\\n\\n\\n\\n\\n\\n\\n\\n\\n\\n\\n\\n\\n<div class=\"columns-1\" id=\"main-content\" role=\"main\">\\n\\t<div class=\"portlet-layout row\">\\n\\t\\t<div class=\"col-md-12 portlet-column portlet-column-only\" id=\"column-1\">\\n\\t\\t\\t<div class=\"portlet-dropzone portlet-column-content portlet-column-content-only\" id=\"layout-column_column-1\">\\n\\n\\n\\n\\n\\n\\n\\n\\n\\n\\n\\n\\n\\n\\n\\n\\n\\n\\n\\n\\n\\n\\n\\n\\n\\n\\n\\n\\n\\n\\n\\n\\n\\n\\n\\n\\n\\n\\n\\n\\t\\n\\n\\t<div class=\"portlet-boundary portlet-boundary_org_vdma_publicusers_portlet_PublicUsersPortlet_  portlet-static portlet-static-end portlet-borderless  \" id=\"p_p_id_org_vdma_publicusers_portlet_PublicUsersPortlet_INSTANCE_H0VO3QljCiRM_\">\\n\\t\\t<span id=\"p_org_vdma_publicusers_portlet_PublicUsersPortlet_INSTANCE_H0VO3QljCiRM\"></span>\\n\\n\\n\\n\\n\\t\\n\\n\\t\\n\\t\\t\\n\\t\\t\\t\\n\\n\\n\\n\\n\\n\\n\\n\\n\\n\\n\\n\\n\\n\\n\\n\\n\\n\\n\\n\\n\\n\\n\\n\\n\\n\\n\\n\\n\\n\\n\\n\\n\\n\\n\\n\\n\\n\\n\\t\\n\\t\\t\\n<section class=\"portlet\" id=\"portlet_org_vdma_publicusers_portlet_PublicUsersPortlet_INSTANCE_H0VO3QljCiRM\">\\n\\n\\n\\t<div class=\"portlet-content\">\\n\\n\\t\\t<div class=\"autofit-float autofit-row portlet-header\">\\n\\t\\t\\t<div class=\"autofit-col autofit-col-expand\">\\n\\t\\t\\t\\t<h2 class=\"portlet-title-text\">PublicUsers</h2>\\n\\t\\t\\t</div>\\n\\n\\t\\t\\t<div class=\"autofit-col autofit-col-end\">\\n\\t\\t\\t\\t<div class=\"autofit-section\">\\n\\t\\t\\t\\t</div>\\n\\t\\t\\t</div>\\n\\t\\t</div>\\n\\n\\t\\t\\n\\t\\t\\t<div class=\" portlet-content-container\">\\n\\t\\t\\t\\t\\n\\n\\n\\t<div class=\"portlet-body\">\\n\\n\\n\\n\\t\\n\\t\\t\\n\\t\\t\\t\\n\\t\\t\\t\\t\\n\\t\\t\\t\\t\\t\\n\\n\\n\\n\\n\\n\\n\\n\\n\\n\\n\\n\\n\\n\\n\\n\\n\\n\\n\\n\\n\\n\\n\\n\\n\\n\\n\\n\\n\\n\\n\\n\\n\\n\\n\\n\\n\\n\\n\\n\\n\\n\\n\\n\\n\\n\\n\\n\\n\\n\\n\\n\\t\\n\\n\\t\\t\\t\\t\\n\\n\\t\\t\\t\\t\\n\\t\\t\\t\\t\\t\\n\\t\\t\\t\\t\\t\\t\\n\\n\\n\\t\\n\\n\\t\\t\\n\\n\\n\\n\\n\\n\\n\\n\\n\\n\\n\\n\\n\\n\\n\\n\\n\\n\\n\\n\\n\\n\\n<div class=\"panel panel-info\">\\n    <div class=\"panel-body publicusers-content\">\\n        \\n            \\n                \\n\\n\\n\\n\\n\\n\\n\\n\\n\\n\\n\\n\\n\\n\\n\\n\\n\\n\\n\\n\\n\\n\\n\\n\\n\\n\\n\\n<script>\\n\\n    jQuery(function () {\\n\\n        var paginationInfo = {\\n            pageNumber: 1,\\n            pageSize: 10,\\n            pageCount: 364\\n        };\\n        var currentLetter = \\'\\';\\n        var searchParam = \\'\\';\\n        $(\\'#employee-overview-page-global-search-id\\').off(\\'preglobalsearch\\');\\n        window.vdmaGlobalSearchScripts.vdmaGlobalSearch()(\\'.vdma-global-search\\');\\n        window.vdmaFiltersScripts.vdmaFilterBox()(\\'.vdma-filter-box\\');\\n        window.vdmaPaginationsScripts.vdmaPaginationClassifier(\\'.vdma-pagination\\', {\\n            pageCurrent: paginationInfo.pageNumber\\n        });\\n\\n        $(\\'.vdma-global-search\\').on(\\'globalsearch\\', function ($event, $searchObject) {\\n        //    $(\\'.vdma-filter-box\\').trigger(\\'clearfilter\\');\\n            loadPage($searchObject.keyword);\\n        });\\n\\n        function headerHeightShift() {\\n            return window.vdmaUtilsService.getHeaderScrollShift();\\n        }\\n\\n        $(\\'.vdma-filter-box\\').on(\\'selfchange\\', function ($event, $filterResult) {\\n            if ($filterResult.symbol && $filterResult.symbol.length) {\\n                currentLetter = $filterResult.symbol.join();\\n                searchParam = \\'\\';\\n                $(\\'.vdma-global-search input.publicusers-search-query \\').val(\"\");\\n\\n                loadPage(searchParam, currentLetter);\\n            } else if ($filterResult.symbol && $filterResult.symbol.length === 0) {\\n                currentLetter = \\'\\';\\n                searchParam = \\'\\';\\n                $(\\'.vdma-global-search input.publicusers-search-query \\').val(\"\");\\n\\n                loadPage(searchParam, currentLetter);\\n\\n            }\\n\\n        });\\n\\n        // Build paginators on first load\\n        $(\\'.vdma-pagination\\').on(\\'pageselected\\', function ($event, $pageResult) {\\n            loadPage(searchParam, currentLetter, $pageResult.page);\\n            let $results = $(\\'.association-member-list\\');\\n            $event.preventDefault();\\n            $event.stopPropagation();\\n            $(\\'html\\').animate({\\n                scrollTop: $($results).offset().top - headerHeightShift()\\n            }, 0);\\n        });\\n\\n        $(\\'.vdma-public-member-img img\\').each(function () {\\n            if (this.complete && (typeof this.naturalWidth == \"undefined\" || this.naturalWidth == 0)) {\\n                // setDefaultLogo(this);\\n            }\\n        });\\n    });\\n\\n    function loadPage(searchQuery, letters, currentPage) {\\n        $.ajax({\\n            url: \\'https://www.vdma.org/mitglieder?p_p_id=org_vdma_publicusers_portlet_PublicUsersPortlet_INSTANCE_H0VO3QljCiRM&p_p_lifecycle=2&p_p_state=normal&p_p_mode=view&p_p_resource_id=getPage&p_p_cacheability=cacheLevelPage\\',\\n            dataType: \\'html\\',\\n            data: {\\n                \\'_org_vdma_publicusers_portlet_PublicUsersPortlet_INSTANCE_H0VO3QljCiRM_query\\': searchQuery,\\n                \\'_org_vdma_publicusers_portlet_PublicUsersPortlet_INSTANCE_H0VO3QljCiRM_s\\': letters,\\n                \\'_org_vdma_publicusers_portlet_PublicUsersPortlet_INSTANCE_H0VO3QljCiRM_page\\': currentPage\\n            }\\n        }).done(function (response, status, xhr) {\\n            const data = JSON.parse(response);\\n            const publicUserList = JSON.parse(data.publicUserList);\\n            renderContent(publicUserList);\\n            if (!currentPage) {\\n                $(\".vdma-pagination\").data(\"total-pages\", publicUserList.totalPages).trigger(\\'datachange\\');\\n            }\\n        });\\n    }\\n\\n    function renderContent(publicUserList) {\\n        const $container = $(\\'#association-member-list\\');\\n        $container.empty();\\n\\n        if (publicUserList && publicUserList.content && publicUserList.content.length) {\\n            publicUserList.content.forEach((item) => {\\n                const $itemEl = buildItemElement(item);\\n                $container.append($itemEl);\\n            });\\n        }\\n    }\\n\\n    function buildItemElement(member) {\\n        const logoUrl = \\'https://www.vdma.org/mitglieder?p_p_id=org_vdma_publicusers_portlet_PublicUsersPortlet_INSTANCE_H0VO3QljCiRM&p_p_lifecycle=2&p_p_state=normal&p_p_mode=view&p_p_resource_id=getLogo&p_p_cacheability=cacheLevelPage\\' + \\'&_org_vdma_publicusers_portlet_PublicUsersPortlet_INSTANCE_H0VO3QljCiRM_id=\\' + member.id;\\n\\n        return $(\\'<div class=\"association-member\">\\\\n\\' +\\n            \\'<p class=\"association-member__title\">\\' + member.companyName + \\'</p>\\\\n\\' +\\n            \\'<input id=\"checkbox-association-member-id-1\" type=\"checkbox\"/>\\\\n\\' +\\n            \\'<div class=\"association-member__info\">\\\\n\\' +\\n            \\'    <div class=\"association-member__info-contacts\">\\\\n\\' +\\n            \\'        <p class=\"association-member__info-header\">Kontakt</p>\\\\n\\' +\\n            \\'        <div class=\"association-member__info-content\">\\\\n\\' +\\n            \\'            <a href=\"mailto:\\' + member.email + \\'\" class=\"textlink\">\\\\n\\' +\\n            \\'                <i class=\"textlink-icon\">\\\\n\\' +\\n            \\'                    <svg>\\\\n\\' +\\n            \\'                        <use xlink:href=\"/o/vdma-new-theme/assets/icons/sprite.symbol.svg#v-envelope\"></use>\\\\n\\' +\\n            \\'                    </svg>\\\\n\\' +\\n            \\'                </i>\\\\n\\' +\\n            \\'                <div class=\"textlink-inline\">\\\\n\\' +\\n            \\'                    <span class=\"textlink-text\">\\' + member.email + \\'</span>\\\\n\\' +\\n            \\'                </div>\\\\n\\' +\\n            \\'            </a>\\\\n\\' +\\n            \\'            <a href=\"tel:\\' + member.phoneNum + \\'\" class=\"textlink\">\\\\n\\' +\\n            \\'                <i class=\"textlink-icon\">\\\\n\\' +\\n            \\'                    <svg>\\\\n\\' +\\n            \\'                        <use xlink:href=\"/o/vdma-new-theme/assets/icons/sprite.symbol.svg#v-phone\"></use>\\\\n\\' +\\n            \\'                    </svg>\\\\n\\' +\\n            \\'                </i>\\\\n\\' +\\n            \\'                <div class=\"textlink-inline\">\\\\n\\' +\\n            \\'                    <span class=\"textlink-text\">\\' + member.phoneNum + \\'</span>\\\\n\\' +\\n            \\'                </div>\\\\n\\' +\\n            \\'            </a>\\\\n\\' +\\n            \\'            <a href=\"\\' + member.webAddr + \\'\" class=\"textlink\">\\\\n\\' +\\n            \\'                <i class=\"textlink-icon\">\\\\n\\' +\\n            \\'                    <svg>\\\\n\\' +\\n            \\'                        <use xlink:href=\"/o/vdma-new-theme/assets/icons/sprite.symbol.svg#v-web\"></use>\\\\n\\' +\\n            \\'                    </svg>\\\\n\\' +\\n            \\'                </i>\\\\n\\' +\\n            \\'                <div class=\"textlink-inline\">\\\\n\\' +\\n            \\'                    <span class=\"textlink-text\">\\' + member.webAddr + \\'</span>\\\\n\\' +\\n            \\'                </div>\\\\n\\' +\\n            \\'            </a>\\\\n\\' +\\n            \\'        </div>\\\\n\\' +\\n            \\'    </div>\\\\n\\' +\\n            \\'    <div class=\"association-member__info-address\">\\\\n\\' +\\n            \\'        <p class=\"association-member__info-header\">Adresse</p>\\\\n\\' +\\n            \\'        <div class=\"association-member__info-content\">\\\\n\\' +\\n            \\'            <ul>\\\\n\\' +\\n            \\'                <li>\\' + member.address + \\'</li>\\\\n\\' +\\n            \\'                <li>\\' + member.plz + \\' \\' + member.city + \\'</li>\\\\n\\' +\\n            \\'                <li>\\' + member.country + \\'</li>\\\\n\\' +\\n            \\'            </ul>\\\\n\\' +\\n            \\'        </div>\\\\n\\' +\\n            \\'    </div>\\\\n\\' +\\n            \\'    <div id=\\' + member.id + \\' class=\"association-member__info-logo\">\\\\n\\' +\\n            \\'       <div>\\' +\\n            \\'           <img src=\"\\' + logoUrl + \\'\" alt=\"\"\\\\n\\' +\\n            \\'               data-name=\"\">\\\\n\\' +\\n            \\'       </div>\\\\n\\' +\\n            \\'    </div>\\\\n\\' +\\n            \\'</div>\\\\n\\' +\\n            \\'<div class=\"association-member__show-all-info\">\\\\n\\' +\\n            \\'    <label for=\"checkbox-association-member-id-1\" class=\"textlink textlink--ds100\">\\\\n\\' +\\n            \\'        <div class=\"textlink-inline\">\\\\n\\' +\\n            \\'            <span class=\"textlink-text\">Weniger Information</span>\\\\n\\' +\\n            \\'        </div>\\\\n\\' +\\n            \\'\\\\n\\' +\\n            \\'        <i class=\"textlink-icon\">\\\\n\\' +\\n            \\'            <svg>\\\\n\\' +\\n            \\'                <use xlink:href=\"/o/vdma-new-theme/assets/icons/sprite.symbol.svg#v-chevron-down\"></use>\\\\n\\' +\\n            \\'            </svg>\\\\n\\' +\\n            \\'        </i>\\\\n\\' +\\n            \\'    </label>\\\\n\\' +\\n            \\'</div>\\\\n\\' +\\n            \\'</div>\\');\\n    }\\n</script>\\n<div class=\"association-member-list-page\">\\n    <div class=\"association-member-list-page__content\">\\n        <div class=\"association-member-list-page__r`rch\">\\n            <!-- GLOBAL SEARCH -->\\n            <div id=\"association-member-list-page-global-search-id\" class=\"vdma-global-search\">\\n                <div class=\"vdma-global-search__input-group\" style=\"width: 47%\">\\n                    \\n                    <input class=\"publicusers-search-query\" placeholder=\"Suche nach Mitgliedern\" type=\"text\"\\n                           autocomplete=\"off\" value=\"\"/>\\n                    <label>Suchbegriff eingeben</label>\\n                    <i class=\"vdma-icon\">\\n                        <svg>\\n                            <use xlink:href=\"/o/vdma-new-theme/assets/icons/sprite.symbol.svg#v-x-circle-solid\"></use>\\n                        </svg>\\n                    </i>\\n                </div>\\n                <div class=\"vdma-global-search__action\">\\n                    <button class=\"btn-orange\">\\n                        <i class=\"vdma-icon\">\\n                            <svg>\\n                                <use xlink:href=\"/o/vdma-new-theme/assets/icons/sprite.symbol.svg#v-search\"></use>\\n                            </svg>\\n                        </i>\\n                    </button>\\n                </div>\\n            </div>\\n        </div>\\n        <div class=\"association-member-list-page__filters\">\\n            <div class=\"vdma-filter-box\">\\n                <div class=\"vdma-filter-box__inner\">\\n                    <div class=\"vdma-filter hide\">\\n                        <!-- symbol filters -->\\n                        <div class=\"vdma-filter-title\">\\n                            <p class=\"vdma-filter-title__text\">Alle A-Z</p>\\n                            <div class=\"vdma-filter-title__rotate-icon\">\\n                                <i class=\"vdma-icon\">\\n                                    <svg>\\n                                        <use xlink:href=\"/o/vdma-new-theme/assets/icons/sprite.symbol.svg#v-chevron-up\"></use>\\n                                    </svg>\\n                                </i>\\n                            </div>\\n                        </div>\\n                        <div class=\"vdma-filter-group\">\\n                            <div class=\"vdma-filter-group__header\">\\n                                <p class=\"vdma-filter-group__header__text\">Filter</p>\\n                                <div class=\"vdma-filter-group__header__close-icon\"></div>\\n                            </div>\\n                            <div class=\"vdma-filter-group__content\">\\n                                <div class=\"vdma-filter-suite\" data-result-name=\"symbol\" data-title-all=\"Alle A-Z\"\\n                                     data-title-one=\"Symbol\"\\n                                     data-title-multi=\"Symbole\">\\n                                    <div class=\"vdma-filter-suite__header mobile-no-display\">\\n                                        <p class=\"vdma-filter-suite__header-text\">Alle A-Z</p>\\n                                        <div class=\"vdma-filter-suite__header__icon-rotate\">\\n                                            <i class=\"vdma-icon\">\\n                                                <svg>\\n                                                    <use xlink:href=\"/o/vdma-new-theme/assets/icons/sprite.symbol.svg#v-chevron-down\"></use>\\n                                                </svg>\\n                                            </i>\\n                                        </div>\\n                                    </div>\\n                                    <div class=\"vdma-filter-suite__content hide-desktop\">\\n                                        <div class=\"vdma-filter-suite__selected\"></div>\\n                                        <div class=\"vdma-filter-suite__all\">\\n                                            <label class=\"vdma-filter-checkbox\">\\n                                                <input type=\"checkbox\" value=\"\"/>\\n                                                <span>Alle A-Z</span>\\n                                                <div class=\"vdma-filter-checkbox__indicator\"></div>\\n                                            </label>\\n                                        </div>\\n                                        <div class=\"vdma-filter-suite__overflow padding-overflow\">\\n                                            <div class=\"vdma-filter-suite__list\">\\n                                                <label class=\"vdma-filter-checkbox\">\\n                                                    <input type=\"checkbox\" value=\"0-9\"/>\\n                                                    <span>123</span>\\n                                                    <div class=\"vdma-filter-checkbox__indicator\"></div>\\n                                                </label>\\n                                                <label class=\"vdma-filter-checkbox\">\\n                                                    <input type=\"checkbox\" value=\"A\"/>\\n                                                    <span>A</span>\\n                                                    <div class=\"vdma-filter-checkbox__indicator\"></div>\\n                                                </label>\\n                                                <label class=\"vdma-filter-checkbox\">\\n                                                    <input type=\"checkbox\" value=\"B\"/>\\n                                                    <span>B</span>\\n                                                    <div class=\"vdma-filter-checkbox__indicator\"></div>\\n                                                </label>\\n                                                <label class=\"vdma-filter-checkbox\">\\n                                                    <input type=\"checkbox\" value=\"C\"/>\\n                                                    <span>C</span>\\n                                                    <div class=\"vdma-filter-checkbox__indicator\"></div>\\n                                                </label>\\n                                                <label class=\"vdma-filter-checkbox\">\\n                                                    <input type=\"checkbox\" value=\"D\"/>\\n                                                    <span>D</span>\\n                                                    <div class=\"vdma-filter-checkbox__indicator\"></div>\\n                                                </label>\\n                                                <label class=\"vdma-filter-checkbox\">\\n                                                    <input type=\"checkbox\" value=\"E\"/>\\n                                                    <span>E</span>\\n                                                    <div class=\"vdma-filter-checkbox__indicator\"></div>\\n                                                </label>\\n                                                <label class=\"vdma-filter-checkbox\">\\n                                                    <input type=\"checkbox\" value=\"F\"/>\\n                                                    <span>F</span>\\n                                                    <div class=\"vdma-filter-checkbox__indicator\"></div>\\n                                                </label>\\n                                                <label class=\"vdma-filter-checkbox\">\\n                                                    <input type=\"checkbox\" value=\"G\"/>\\n                                                    <span>G</span>\\n                                                    <div class=\"vdma-filter-checkbox__indicator\"></div>\\n                                                </label>\\n                                                <label class=\"vdma-filter-checkbox\">\\n                                                    <input type=\"checkbox\" value=\"H\"/>\\n                                                    <span>H</span>\\n                                                    <div class=\"vdma-filter-checkbox__indicator\"></div>\\n                                                </label>\\n                                                <label class=\"vdma-filter-checkbox\">\\n                                                    <input type=\"checkbox\" value=\"I\"/>\\n                                                    <span>I</span>\\n                                                    <div class=\"vdma-filter-checkbox__indicator\"></div>\\n                                                </label>\\n                                                <label class=\"vdma-filter-checkbox\">\\n                                                    <input type=\"checkbox\" value=\"J\"/>\\n                                                    <span>J</span>\\n                                                    <div class=\"vdma-filter-checkbox__indicator\"></div>\\n                                                </label>\\n                                                <label class=\"vdma-filter-checkbox\">\\n                                                    <input type=\"checkbox\" value=\"K\"/>\\n                                                    <span>K</span>\\n                                                    <div class=\"vdma-filter-checkbox__indicator\"></div>\\n                                                </label>\\n                                                <label class=\"vdma-filter-checkbox\">\\n                                                    <input type=\"checkbox\" value=\"L\"/>\\n                                                    <span>L</span>\\n                                                    <div class=\"vdma-filter-checkbox__indicator\"></div>\\n                                                </label>\\n                                                <label class=\"vdma-filter-checkbox\">\\n                                                    <input type=\"checkbox\" value=\"M\"/>\\n                                                    <span>M</span>\\n                                                    <div class=\"vdma-filter-checkbox__indicator\"></div>\\n                                                </label>\\n                                                <label class=\"vdma-filter-checkbox\">\\n                                                    <input type=\"checkbox\" value=\"N\"/>\\n                                                    <span>N</span>\\n                                                    <div class=\"vdma-filter-checkbox__indicator\"></div>\\n                                                </label>\\n                                                <label class=\"vdma-filter-checkbox\">\\n                                                    <input type=\"checkbox\" value=\"O\"/>\\n                                                    <span>O</span>\\n                                                    <div class=\"vdma-filter-checkbox__indicator\"></div>\\n                                                </label>\\n                                                <label class=\"vdma-filter-checkbox\">\\n                                                    <input type=\"checkbox\" value=\"P\"/>\\n                                                    <span>P</span>\\n                                                    <div class=\"vdma-filter-checkbox__indicator\"></div>\\n                                                </label>\\n                                                <label class=\"vdma-filter-checkbox\">\\n                                                    <input type=\"checkbox\" value=\"Q\"/>\\n                                                    <span>Q</span>\\n                                                    <div class=\"vdma-filter-checkbox__indicator\"></div>\\n                                                </label>\\n                                                <label class=\"vdma-filter-checkbox\">\\n                                                    <input type=\"checkbox\" value=\"R\"/>\\n                                                    <span>R</span>\\n                                                    <div class=\"vdma-filter-checkbox__indicator\"></div>\\n                                                </label>\\n                                                <label class=\"vdma-filter-checkbox\">\\n                                                    <input type=\"checkbox\" value=\"S\"/>\\n                                                    <span>S</span>\\n                                                    <div class=\"vdma-filter-checkbox__indicator\"></div>\\n                                                </label>\\n                                                <label class=\"vdma-filter-checkbox\">\\n                                                    <input type=\"checkbox\" value=\"T\"/>\\n                                                    <span>T</span>\\n                                                    <div class=\"vdma-filter-checkbox__indicator\"></div>\\n                                                </label>\\n                                                <label class=\"vdma-filter-checkbox\">\\n                                                    <input type=\"checkbox\" value=\"U\"/>\\n                                                    <span>U</span>\\n                                                    <div class=\"vdma-filter-checkbox__indicator\"></div>\\n                                                </label>\\n                                                <label class=\"vdma-filter-checkbox\">\\n                                                    <input type=\"checkbox\" value=\"V\"/>\\n                                                    <span>V</span>\\n                                                    <div class=\"vdma-filter-checkbox__indicator\"></div>\\n                                                </label>\\n                                                <label class=\"vdma-filter-checkbox\">\\n                                                    <input type=\"checkbox\" value=\"W\"/>\\n                                                    <span>W</span>\\n                                                    <div class=\"vdma-filter-checkbox__indicator\"></div>\\n                                                </label>\\n                                                <label class=\"vdma-filter-checkbox\">\\n                                                    <input type=\"checkbox\" value=\"X\"/>\\n                                                    <span>X</span>\\n                                                    <div class=\"vdma-filter-checkbox__indicator\"></div>\\n                                                </label>\\n                                                <label class=\"vdma-filter-checkbox\">\\n                                                    <input type=\"checkbox\" value=\"Y\"/>\\n                                                    <span>Y</span>\\n                                                    <div class=\"vdma-filter-checkbox__indicator\"></div>\\n                                                </label>\\n                                                <label class=\"vdma-filter-checkbox\">\\n                                                    <input type=\"checkbox\" value=\"Z\"/>\\n                                                    <span>Z</span>\\n                                                    <div class=\"vdma-filter-checkbox__indicator\"></div>\\n                                                </label>\\n\\n                                            </div>\\n                                        </div>\\n                                        <div class=\"vdma-filter-suite__action\">\\n                                            <button class=\"vdma-filter-button-apply btn-white\">\\n                                                <span>Anwenden</span>\\n                                            </button>\\n                                        </div>\\n                                    </div>\\n                                </div>\\n                            </div>\\n                            <div class=\"vdma-filter-group__action\">\\n                                <button class=\"vdma-filter-button-apply btn-white\">\\n                                    <span>Anwenden</span>\\n                                </button>\\n                            </div>\\n                        </div>\\n                    </div>\\n                </div>\\n            </div>\\n        </div>\\n        <div id=\"association-member-list\" class=\"association-member-list\">\\n            \\n                <div class=\"association-member\">\\n                    <p class=\"association-member__title\">247FactoryNet</p>\\n                    <input id=\"checkbox-association-member-id-1\" type=\"checkbox\"/>\\n                    <div class=\"association-member__info\">\\n                        <div class=\"association-member__info-contacts\">\\n                            <p class=\"association-member__info-header\">\\n                                Kontakt\\n                            </p>\\n                            <div class=\"association-member__info-content\">\\n                                <a href=\"mailto:\" class=\"textlink\">\\n                                    <i class=\"textlink-icon\">\\n                                        <svg>\\n                                            <use xlink:href=\"/o/vdma-new-theme/assets/icons/sprite.symbol.svg#v-envelope\"></use>\\n                                        </svg>\\n                                    </i>\\n                                    <div class=\"textlink-inline\">\\n                                        <span class=\"textlink-text\"></span>\\n                                    </div>\\n                                </a>\\n                                <a href=\"tel:\" class=\"textlink\">\\n                                    <i class=\"textlink-icon\">\\n                                        <svg>\\n                                            <use xlink:href=\"/o/vdma-new-theme/assets/icons/sprite.symbol.svg#v-phone\"></use>\\n                                        </svg>\\n                                    </i>\\n                                    <div class=\"textlink-inline\">\\n                                        <span class=\"textlink-text\"></span>\\n                                    </div>\\n                                </a>\\n                                <a href=\"\" class=\"textlink\">\\n                                    <i class=\"textlink-icon\">\\n                                        <svg>\\n                                            <use xlink:href=\"/o/vdma-new-theme/assets/icons/sprite.symbol.svg#v-web\"></use>\\n                                        </svg>\\n                                    </i>\\n                                    <div class=\"textlink-inline\">\\n                                        <span class=\"textlink-text\"></span>\\n                                    </div>\\n                                </a>\\n                            </div>\\n                        </div>\\n                        <div class=\"association-member__info-address\">\\n                            <p class=\"association-member__info-header\">Adresse</p>\\n                            <div class=\"association-member__info-content\">\\n                                <ul>\\n                                    <li>Cäsar-von-Hofacker-Str. 5</li>\\n                                    <li>82327 Tutzing</li>\\n                                    <li>Deutschland</li>\\n                                </ul>\\n                            </div>\\n                        </div>\\n                        <div class=\"association-member__info-logo\">\\n                            <div>\\n                                \\n                                    \\n                                \\n                                <img src=\"https://www.vdma.org/mitglieder?p_p_id=org_vdma_publicusers_portlet_PublicUsersPortlet_INSTANCE_H0VO3QljCiRM&p_p_lifecycle=2&p_p_state=normal&p_p_mode=view&p_p_resource_id=getLogo&p_p_cacheability=cacheLevelPage&_org_vdma_publicusers_portlet_PublicUsersPortlet_INSTANCE_H0VO3QljCiRM_id=571114\" alt=\"\"\\n                                     data-name=\"247FactoryNet\">\\n                            </div>\\n                        </div>\\n                    </div>\\n                    <div class=\"association-member__show-all-info\">\\n                        <label for=\"checkbox-association-member-id-1\"\\n                               class=\"textlink textlink--ds100 association-member__show-all-info--open\">\\n                            <div class=\"textlink-inline\">\\n                                <span class=\"textlink-text\">Mehr Information</span>\\n                            </div>\\n\\n                            <i class=\"textlink-icon\">\\n                                <svg>\\n                                    <use xlink:href=\"/o/vdma-new-theme/assets/icons/sprite.symbol.svg#v-chevron-down\"></use>\\n                                </svg>\\n                            </i>\\n                        </label>\\n                        <label for=\"checkbox-association-member-id-1\"\\n                               class=\"textlink textlink--ds100 association-member__show-all-info--close\">\\n                            <div class=\"textlink-inline\">\\n                                <span class=\"textlink-text\">Weniger Information</span>\\n                            </div>\\n\\n                            <i class=\"textlink-icon\">\\n                                <svg>\\n                                    <use xlink:href=\"/o/vdma-new-theme/assets/icons/sprite.symbol.svg#v-chevron-up\"></use>\\n                                </svg>\\n                            </i></label>\\n                    </div>\\n                </div>\\n\\n            \\n                <div class=\"association-member\">\\n                    <p class=\"association-member__title\">2K Maschinenbau</p>\\n                    <input id=\"checkbox-association-member-id-1\" type=\"checkbox\"/>\\n                    <div class=\"association-member__info\">\\n                        <div class=\"association-member__info-contacts\">\\n                            <p class=\"association-member__info-header\">\\n                                Kontakt\\n                            </p>\\n                            <div class=\"association-member__info-content\">\\n                                <a href=\"mailto:\" class=\"textlink\">\\n                                    <i class=\"textlink-icon\">\\n                                        <svg>\\n                                            <use xlink:href=\"/o/vdma-new-theme/assets/icons/sprite.symbol.svg#v-envelope\"></use>\\n                                        </svg>\\n                                    </i>\\n                                    <div class=\"textlink-inline\">\\n                                        <span class=\"textlink-text\"></span>\\n                                    </div>\\n                                </a>\\n                                <a href=\"tel:\" class=\"textlink\">\\n                                    <i class=\"textlink-icon\">\\n                                        <svg>\\n                                            <use xlink:href=\"/o/vdma-new-theme/assets/icons/sprite.symbol.svg#v-phone\"></use>\\n                                        </svg>\\n                                    </i>\\n                                    <div class=\"textlink-inline\">\\n                                        <span class=\"textlink-text\"></span>\\n                                    </div>\\n                                </a>\\n                                <a href=\"\" class=\"textlink\">\\n                                    <i class=\"textlink-icon\">\\n                                        <svg>\\n                                            <use xlink:href=\"/o/vdma-new-theme/assets/icons/sprite.symbol.svg#v-web\"></use>\\n                                        </svg>\\n                                    </i>\\n                                    <div class=\"textlink-inline\">\\n                                        <span class=\"textlink-text\"></span>\\n                                    </div>\\n                                </a>\\n                            </div>\\n                        </div>\\n                        <div class=\"association-member__info-address\">\\n                            <p class=\"association-member__info-header\">Adresse</p>\\n                            <div class=\"association-member__info-content\">\\n                                <ul>\\n                                    <li>Krokamp 35</li>\\n                                    <li>24539 Neumünster</li>\\n                                    <li>Deutschland</li>\\n                                </ul>\\n                            </div>\\n                        </div>\\n                        <div class=\"association-member__info-logo\">\\n                            <div>\\n                                \\n                                    \\n                                \\n                                <img src=\"https://www.vdma.org/mitglieder?p_p_id=org_vdma_publicusers_portlet_PublicUsersPortlet_INSTANCE_H0VO3QljCiRM&p_p_lifecycle=2&p_p_state=normal&p_p_mode=view&p_p_resource_id=getLogo&p_p_cacheability=cacheLevelPage&_org_vdma_publicusers_portlet_PublicUsersPortlet_INSTANCE_H0VO3QljCiRM_id=101025413\" alt=\"\"\\n                                     data-name=\"2K Maschinenbau\">\\n                            </div>\\n                        </div>\\n                    </div>\\n                    <div class=\"association-member__show-all-info\">\\n                        <label for=\"checkbox-association-member-id-1\"\\n                               class=\"textlink textlink--ds100 association-member__show-all-info--open\">\\n                            <div class=\"textlink-inline\">\\n                                <span class=\"textlink-text\">Mehr Information</span>\\n                            </div>\\n\\n                            <i class=\"textlink-icon\">\\n                                <svg>\\n                                    <use xlink:href=\"/o/vdma-new-theme/assets/icons/sprite.symbol.svg#v-chevron-down\"></use>\\n                                </svg>\\n                            </i>\\n                        </label>\\n                        <label for=\"checkbox-association-member-id-1\"\\n                               class=\"textlink textlink--ds100 association-member__show-all-info--close\">\\n                            <div class=\"textlink-inline\">\\n                                <span class=\"textlink-text\">Weniger Information</span>\\n                            </div>\\n\\n                            <i class=\"textlink-icon\">\\n                                <svg>\\n                                    <use xlink:href=\"/o/vdma-new-theme/assets/icons/sprite.symbol.svg#v-chevron-up\"></use>\\n                                </svg>\\n                            </i></label>\\n                    </div>\\n                </div>\\n\\n            \\n                <div class=\"association-member\">\\n                    <p class=\"association-member__title\">2W Technische Information</p>\\n                    <input id=\"checkbox-association-member-id-1\" type=\"checkbox\"/>\\n                    <div class=\"association-member__info\">\\n                        <div class=\"association-member__info-contacts\">\\n                            <p class=\"association-member__info-header\">\\n                                Kontakt\\n                            </p>\\n                            <div class=\"association-member__info-content\">\\n                                <a href=\"mailto:\" class=\"textlink\">\\n                                    <i class=\"textlink-icon\">\\n                                        <svg>\\n                                            <use xlink:href=\"/o/vdma-new-theme/assets/icons/sprite.symbol.svg#v-envelope\"></use>\\n                                        </svg>\\n                                    </i>\\n                                    <div class=\"textlink-inline\">\\n                                        <span class=\"textlink-text\"></span>\\n                                    </div>\\n                                </a>\\n                                <a href=\"tel:\" class=\"textlink\">\\n                                    <i class=\"textlink-icon\">\\n                                        <svg>\\n                                            <use xlink:href=\"/o/vdma-new-theme/assets/icons/sprite.symbol.svg#v-phone\"></use>\\n                                        </svg>\\n                                    </i>\\n                                    <div class=\"textlink-inline\">\\n                                        <span class=\"textlink-text\"></span>\\n                                    </div>\\n                                </a>\\n                                <a href=\"\" class=\"textlink\">\\n                                    <i class=\"textlink-icon\">\\n                                        <svg>\\n                                            <use xlink:href=\"/o/vdma-new-theme/assets/icons/sprite.symbol.svg#v-web\"></use>\\n                                        </svg>\\n                                    </i>\\n                                    <div class=\"textlink-inline\">\\n                                        <span class=\"textlink-text\"></span>\\n                                    </div>\\n                                </a>\\n                            </div>\\n                        </div>\\n                        <div class=\"association-member__info-address\">\\n                            <p class=\"association-member__info-header\">Adresse</p>\\n                            <div class=\"association-member__info-content\">\\n                                <ul>\\n                                    <li>Lindberghstr. 40</li>\\n                                    <li>80939 München</li>\\n                                    <li>Deutschland</li>\\n                                </ul>\\n                            </div>\\n                        </div>\\n                        <div class=\"association-member__info-logo\">\\n                            <div>\\n                                \\n                                    \\n                                \\n                                <img src=\"https://www.vdma.org/mitglieder?p_p_id=org_vdma_publicusers_portlet_PublicUsersPortlet_INSTANCE_H0VO3QljCiRM&p_p_lifecycle=2&p_p_state=normal&p_p_mode=view&p_p_resource_id=getLogo&p_p_cacheability=cacheLevelPage&_org_vdma_publicusers_portlet_PublicUsersPortlet_INSTANCE_H0VO3QljCiRM_id=105031863\" alt=\"\"\\n                                     data-name=\"2W Technische Information\">\\n                            </div>\\n                        </div>\\n                    </div>\\n                    <div class=\"association-member__show-all-info\">\\n                        <label for=\"checkbox-association-member-id-1\"\\n                               class=\"textlink textlink--ds100 association-member__show-all-info--open\">\\n                            <div class=\"textlink-inline\">\\n                                <span class=\"textlink-text\">Mehr Information</span>\\n                            </div>\\n\\n                            <i class=\"textlink-icon\">\\n                                <svg>\\n                                    <use xlink:href=\"/o/vdma-new-theme/assets/icons/sprite.symbol.svg#v-chevron-down\"></use>\\n                                </svg>\\n                            </i>\\n                        </label>\\n                        <label for=\"checkbox-association-member-id-1\"\\n                               class=\"textlink textlink--ds100 association-member__show-all-info--close\">\\n                            <div class=\"textlink-inline\">\\n                                <span class=\"textlink-text\">Weniger Information</span>\\n                            </div>\\n\\n                            <i class=\"textlink-icon\">\\n                                <svg>\\n                                    <use xlink:href=\"/o/vdma-new-theme/assets/icons/sprite.symbol.svg#v-chevron-up\"></use>\\n                                </svg>\\n                            </i></label>\\n                    </div>\\n                </div>\\n\\n            \\n                <div class=\"association-member\">\\n                    <p class=\"association-member__title\">3 S Schnecken + Spindeln + Spiralen</p>\\n                    <input id=\"checkbox-association-member-id-1\" type=\"checkbox\"/>\\n                    <div class=\"association-member__info\">\\n                        <div class=\"association-member__info-contacts\">\\n                            <p class=\"association-member__info-header\">\\n                                Kontakt\\n                            </p>\\n                            <div class=\"association-member__info-content\">\\n                                <a href=\"mailto:\" class=\"textlink\">\\n                                    <i class=\"textlink-icon\">\\n                                        <svg>\\n                                            <use xlink:href=\"/o/vdma-new-theme/assets/icons/sprite.symbol.svg#v-envelope\"></use>\\n                                        </svg>\\n                                    </i>\\n                                    <div class=\"textlink-inline\">\\n                                        <span class=\"textlink-text\"></span>\\n                                    </div>\\n                                </a>\\n                                <a href=\"tel:\" class=\"textlink\">\\n                                    <i class=\"textlink-icon\">\\n                                        <svg>\\n                                            <use xlink:href=\"/o/vdma-new-theme/assets/icons/sprite.symbol.svg#v-phone\"></use>\\n                                        </svg>\\n                                    </i>\\n                                    <div class=\"textlink-inline\">\\n                                        <span class=\"textlink-text\"></span>\\n                                    </div>\\n                                </a>\\n                                <a href=\"\" class=\"textlink\">\\n                                    <i class=\"textlink-icon\">\\n                                        <svg>\\n                                            <use xlink:href=\"/o/vdma-new-theme/assets/icons/sprite.symbol.svg#v-web\"></use>\\n                                        </svg>\\n                                    </i>\\n                                    <div class=\"textlink-inline\">\\n                                        <span class=\"textlink-text\"></span>\\n                                    </div>\\n                                </a>\\n                            </div>\\n                        </div>\\n                        <div class=\"association-member__info-address\">\\n                            <p class=\"association-member__info-header\">Adresse</p>\\n                            <div class=\"association-member__info-content\">\\n                                <ul>\\n                                    <li>Pühretstr. 3</li>\\n                                    <li>4661 Roitham</li>\\n                                    <li>Österreich</li>\\n                                </ul>\\n                            </div>\\n                        </div>\\n                        <div class=\"association-member__info-logo\">\\n                            <div>\\n                                \\n                                    \\n                                \\n                                <img src=\"https://www.vdma.org/mitglieder?p_p_id=org_vdma_publicusers_portlet_PublicUsersPortlet_INSTANCE_H0VO3QljCiRM&p_p_lifecycle=2&p_p_state=normal&p_p_mode=view&p_p_resource_id=getLogo&p_p_cacheability=cacheLevelPage&_org_vdma_publicusers_portlet_PublicUsersPortlet_INSTANCE_H0VO3QljCiRM_id=214017375\" alt=\"\"\\n                                     data-name=\"3 S Schnecken + Spindeln + Spiralen\">\\n                            </div>\\n                        </div>\\n                    </div>\\n                    <div class=\"association-member__show-all-info\">\\n                        <label for=\"checkbox-association-member-id-1\"\\n                               class=\"textlink textlink--ds100 association-member__show-all-info--open\">\\n                            <div class=\"textlink-inline\">\\n                                <span class=\"textlink-text\">Mehr Information</span>\\n                            </div>\\n\\n                            <i class=\"textlink-icon\">\\n                                <svg>\\n                                    <use xlink:href=\"/o/vdma-new-theme/assets/icons/sprite.symbol.svg#v-chevron-down\"></use>\\n                                </svg>\\n                            </i>\\n                        </label>\\n                        <label for=\"checkbox-association-member-id-1\"\\n                               class=\"textlink textlink--ds100 association-member__show-all-info--close\">\\n                            <div class=\"textlink-inline\">\\n                                <span class=\"textlink-text\">Weniger Information</span>\\n                            </div>\\n\\n                            <i class=\"textlink-icon\">\\n                                <svg>\\n                                    <use xlink:href=\"/o/vdma-new-theme/assets/icons/sprite.symbol.svg#v-chevron-up\"></use>\\n                                </svg>\\n                            </i></label>\\n                    </div>\\n                </div>\\n\\n            \\n                <div class=\"association-member\">\\n                    <p class=\"association-member__title\">365FarmNet</p>\\n                    <input id=\"checkbox-association-member-id-1\" type=\"checkbox\"/>\\n                    <div class=\"association-member__info\">\\n                        <div class=\"association-member__info-contacts\">\\n                            <p class=\"association-member__info-header\">\\n                                Kontakt\\n                            </p>\\n                            <div class=\"association-member__info-content\">\\n                                <a href=\"mailto:\" class=\"textlink\">\\n                                    <i class=\"textlink-icon\">\\n                                        <svg>\\n                                            <use xlink:href=\"/o/vdma-new-theme/assets/icons/sprite.symbol.svg#v-envelope\"></use>\\n                                        </svg>\\n                                    </i>\\n                                    <div class=\"textlink-inline\">\\n                                        <span class=\"textlink-text\"></span>\\n                                    </div>\\n                                </a>\\n                                <a href=\"tel:\" class=\"textlink\">\\n                                    <i class=\"textlink-icon\">\\n                                        <svg>\\n                                            <use xlink:href=\"/o/vdma-new-theme/assets/icons/sprite.symbol.svg#v-phone\"></use>\\n                                        </svg>\\n                                    </i>\\n                                    <div class=\"textlink-inline\">\\n                                        <span class=\"textlink-text\"></span>\\n                                    </div>\\n                                </a>\\n                                <a href=\"\" class=\"textlink\">\\n                                    <i class=\"textlink-icon\">\\n                                        <svg>\\n                                            <use xlink:href=\"/o/vdma-new-theme/assets/icons/sprite.symbol.svg#v-web\"></use>\\n                                        </svg>\\n                                    </i>\\n                                    <div class=\"textlink-inline\">\\n                                        <span class=\"textlink-text\"></span>\\n                                    </div>\\n                                </a>\\n                            </div>\\n                        </div>\\n                        <div class=\"association-member__info-address\">\\n                            <p class=\"association-member__info-header\">Adresse</p>\\n                            <div class=\"association-member__info-content\">\\n                                <ul>\\n                                    <li>Hausvogteiplatz 10</li>\\n                                    <li>10117 Berlin</li>\\n                                    <li>Deutschland</li>\\n                                </ul>\\n                            </div>\\n                        </div>\\n                        <div class=\"association-member__info-logo\">\\n                            <div>\\n                                \\n                                    \\n                                \\n                                <img src=\"https://www.vdma.org/mitglieder?p_p_id=org_vdma_publicusers_portlet_PublicUsersPortlet_INSTANCE_H0VO3QljCiRM&p_p_lifecycle=2&p_p_state=normal&p_p_mode=view&p_p_resource_id=getLogo&p_p_cacheability=cacheLevelPage&_org_vdma_publicusers_portlet_PublicUsersPortlet_INSTANCE_H0VO3QljCiRM_id=216028674\" alt=\"\"\\n                                     data-name=\"365FarmNet\">\\n                            </div>\\n                        </div>\\n                    </div>\\n                    <div class=\"association-member__show-all-info\">\\n                        <label for=\"checkbox-association-member-id-1\"\\n                               class=\"textlink textlink--ds100 association-member__show-all-info--open\">\\n                            <div class=\"textlink-inline\">\\n                                <span class=\"textlink-text\">Mehr Information</span>\\n                            </div>\\n\\n                            <i class=\"textlink-icon\">\\n                                <svg>\\n                                    <use xlink:href=\"/o/vdma-new-theme/assets/icons/sprite.symbol.svg#v-chevron-down\"></use>\\n                                </svg>\\n                            </i>\\n                        </label>\\n                        <label for=\"checkbox-association-member-id-1\"\\n                               class=\"textlink textlink--ds100 association-member__show-all-info--close\">\\n                            <div class=\"textlink-inline\">\\n                                <span class=\"textlink-text\">Weniger Information</span>\\n                            </div>\\n\\n                            <i class=\"textlink-icon\">\\n                                <svg>\\n                                    <use xlink:href=\"/o/vdma-new-theme/assets/icons/sprite.symbol.svg#v-chevron-up\"></use>\\n                                </svg>\\n                            </i></label>\\n                    </div>\\n                </div>\\n\\n            \\n                <div class=\"association-member\">\\n                    <p class=\"association-member__title\">3D Interaction Technologies</p>\\n                    <input id=\"checkbox-association-member-id-1\" type=\"checkbox\"/>\\n                    <div class=\"association-member__info\">\\n                        <div class=\"association-member__info-contacts\">\\n                            <p class=\"association-member__info-header\">\\n                                Kontakt\\n                            </p>\\n                            <div class=\"association-member__info-content\">\\n                                <a href=\"mailto:\" class=\"textlink\">\\n                                    <i class=\"textlink-icon\">\\n                                        <svg>\\n                                            <use xlink:href=\"/o/vdma-new-theme/assets/icons/sprite.symbol.svg#v-envelope\"></use>\\n                                        </svg>\\n                                    </i>\\n                                    <div class=\"textlink-inline\">\\n                                        <span class=\"textlink-text\"></span>\\n                                    </div>\\n                                </a>\\n                                <a href=\"tel:\" class=\"textlink\">\\n                                    <i class=\"textlink-icon\">\\n                                        <svg>\\n                                            <use xlink:href=\"/o/vdma-new-theme/assets/icons/sprite.symbol.svg#v-phone\"></use>\\n                                        </svg>\\n                                    </i>\\n                                    <div class=\"textlink-inline\">\\n                                        <span class=\"textlink-text\"></span>\\n                                    </div>\\n                                </a>\\n                                <a href=\"\" class=\"textlink\">\\n                                    <i class=\"textlink-icon\">\\n                                        <svg>\\n                                            <use xlink:href=\"/o/vdma-new-theme/assets/icons/sprite.symbol.svg#v-web\"></use>\\n                                        </svg>\\n                                    </i>\\n                                    <div class=\"textlink-inline\">\\n                                        <span class=\"textlink-text\"></span>\\n                                    </div>\\n                                </a>\\n                            </div>\\n                        </div>\\n                        <div class=\"association-member__info-address\">\\n                            <p class=\"association-member__info-header\">Adresse</p>\\n                            <div class=\"association-member__info-content\">\\n                                <ul>\\n                                    <li>Schubertstr. 39</li>\\n                                    <li>01307 Dresden</li>\\n                                    <li>Deutschland</li>\\n                                </ul>\\n                            </div>\\n                        </div>\\n                        <div class=\"association-member__info-logo\">\\n                            <div>\\n                                \\n                                    \\n                                \\n                                <img src=\"https://www.vdma.org/mitglieder?p_p_id=org_vdma_publicusers_portlet_PublicUsersPortlet_INSTANCE_H0VO3QljCiRM&p_p_lifecycle=2&p_p_state=normal&p_p_mode=view&p_p_resource_id=getLogo&p_p_cacheability=cacheLevelPage&_org_vdma_publicusers_portlet_PublicUsersPortlet_INSTANCE_H0VO3QljCiRM_id=606000156\" alt=\"\"\\n                                     data-name=\"3D Interaction Technologies\">\\n                            </div>\\n                        </div>\\n                    </div>\\n                    <div class=\"association-member__show-all-info\">\\n                        <label for=\"checkbox-association-member-id-1\"\\n                               class=\"textlink textlink--ds100 association-member__show-all-info--open\">\\n                            <div class=\"textlink-inline\">\\n                                <span class=\"textlink-text\">Mehr Information</span>\\n                            </div>\\n\\n                            <i class=\"textlink-icon\">\\n                                <svg>\\n                                    <use xlink:href=\"/o/vdma-new-theme/assets/icons/sprite.symbol.svg#v-chevron-down\"></use>\\n                                </svg>\\n                            </i>\\n                        </label>\\n                        <label for=\"checkbox-association-member-id-1\"\\n                               class=\"textlink textlink--ds100 association-member__show-all-info--close\">\\n                            <div class=\"textlink-inline\">\\n                                <span class=\"textlink-text\">Weniger Information</span>\\n                            </div>\\n\\n                            <i class=\"textlink-icon\">\\n                                <svg>\\n                                    <use xlink:href=\"/o/vdma-new-theme/assets/icons/sprite.symbol.svg#v-chevron-up\"></use>\\n                                </svg>\\n                            </i></label>\\n                    </div>\\n                </div>\\n\\n            \\n                <div class=\"association-member\">\\n                    <p class=\"association-member__title\">3d Signals</p>\\n                    <input id=\"checkbox-association-member-id-1\" type=\"checkbox\"/>\\n                    <div class=\"association-member__info\">\\n                        <div class=\"association-member__info-contacts\">\\n                            <p class=\"association-member__info-header\">\\n                                Kontakt\\n                            </p>\\n                            <div class=\"association-member__info-content\">\\n                                <a href=\"mailto:\" class=\"textlink\">\\n                                    <i class=\"textlink-icon\">\\n                                        <svg>\\n                                            <use xlink:href=\"/o/vdma-new-theme/assets/icons/sprite.symbol.svg#v-envelope\"></use>\\n                                        </svg>\\n                                    </i>\\n                                    <div class=\"textlink-inline\">\\n                                        <span class=\"textlink-text\"></span>\\n                                    </div>\\n                                </a>\\n                                <a href=\"tel:\" class=\"textlink\">\\n                                    <i class=\"textlink-icon\">\\n                                        <svg>\\n                                            <use xlink:href=\"/o/vdma-new-theme/assets/icons/sprite.symbol.svg#v-phone\"></use>\\n                                        </svg>\\n                                    </i>\\n                                    <div class=\"textlink-inline\">\\n                                        <span class=\"textlink-text\"></span>\\n                                    </div>\\n                                </a>\\n                                <a href=\"\" class=\"textlink\">\\n                                    <i class=\"textlink-icon\">\\n                                        <svg>\\n                                            <use xlink:href=\"/o/vdma-new-theme/assets/icons/sprite.symbol.svg#v-web\"></use>\\n                                        </svg>\\n                                    </i>\\n                                    <div class=\"textlink-inline\">\\n                                        <span class=\"textlink-text\"></span>\\n                                    </div>\\n                                </a>\\n                            </div>\\n                        </div>\\n                        <div class=\"association-member__info-address\">\\n                            <p class=\"association-member__info-header\">Adresse</p>\\n                            <div class=\"association-member__info-content\">\\n                                <ul>\\n                                    <li>Ohmstr. 12</li>\\n                                    <li>63225 Langen</li>\\n                                    <li>Deutschland</li>\\n                                </ul>\\n                            </div>\\n                        </div>\\n                        <div class=\"association-member__info-logo\">\\n                            <div>\\n                                \\n                                    \\n                                \\n                                <img src=\"https://www.vdma.org/mitglieder?p_p_id=org_vdma_publicusers_portlet_PublicUsersPortlet_INSTANCE_H0VO3QljCiRM&p_p_lifecycle=2&p_p_state=normal&p_p_mode=view&p_p_resource_id=getLogo&p_p_cacheability=cacheLevelPage&_org_vdma_publicusers_portlet_PublicUsersPortlet_INSTANCE_H0VO3QljCiRM_id=563514\" alt=\"\"\\n                                     data-name=\"3d Signals\">\\n                            </div>\\n                        </div>\\n                    </div>\\n                    <div class=\"association-member__show-all-info\">\\n                        <label for=\"checkbox-association-member-id-1\"\\n                               class=\"textlink textlink--ds100 association-member__show-all-info--open\">\\n                            <div class=\"textlink-inline\">\\n                                <span class=\"textlink-text\">Mehr Information</span>\\n                            </div>\\n\\n                            <i class=\"textlink-icon\">\\n                                <svg>\\n                                    <use xlink:href=\"/o/vdma-new-theme/assets/icons/sprite.symbol.svg#v-chevron-down\"></use>\\n                                </svg>\\n                            </i>\\n                        </label>\\n                        <label for=\"checkbox-association-member-id-1\"\\n                               class=\"textlink textlink--ds100 association-member__show-all-info--close\">\\n                            <div class=\"textlink-inline\">\\n                                <span class=\"textlink-text\">Weniger Information</span>\\n                            </div>\\n\\n                            <i class=\"textlink-icon\">\\n                                <svg>\\n                                    <use xlink:href=\"/o/vdma-new-theme/assets/icons/sprite.symbol.svg#v-chevron-up\"></use>\\n                                </svg>\\n                            </i></label>\\n                    </div>\\n                </div>\\n\\n            \\n                <div class=\"association-member\">\\n                    <p class=\"association-member__title\">3DQR</p>\\n                    <input id=\"checkbox-association-member-id-1\" type=\"checkbox\"/>\\n                    <div class=\"association-member__info\">\\n                        <div class=\"association-member__info-contacts\">\\n                            <p class=\"association-member__info-header\">\\n                                Kontakt\\n                            </p>\\n                            <div class=\"association-member__info-content\">\\n                                <a href=\"mailto:\" class=\"textlink\">\\n                                    <i class=\"textlink-icon\">\\n                                        <svg>\\n                                            <use xlink:href=\"/o/vdma-new-theme/assets/icons/sprite.symbol.svg#v-envelope\"></use>\\n                                        </svg>\\n                                    </i>\\n                                    <div class=\"textlink-inline\">\\n                                        <span class=\"textlink-text\"></span>\\n                                    </div>\\n                                </a>\\n                                <a href=\"tel:\" class=\"textlink\">\\n                                    <i class=\"textlink-icon\">\\n                                        <svg>\\n                                            <use xlink:href=\"/o/vdma-new-theme/assets/icons/sprite.symbol.svg#v-phone\"></use>\\n                                        </svg>\\n                                    </i>\\n                                    <div class=\"textlink-inline\">\\n                                        <span class=\"textlink-text\"></span>\\n                                    </div>\\n                                </a>\\n                                <a href=\"\" class=\"textlink\">\\n                                    <i class=\"textlink-icon\">\\n                                        <svg>\\n                                            <use xlink:href=\"/o/vdma-new-theme/assets/icons/sprite.symbol.svg#v-web\"></use>\\n                                        </svg>\\n                                    </i>\\n                                    <div class=\"textlink-inline\">\\n                                        <span class=\"textlink-text\"></span>\\n                                    </div>\\n                                </a>\\n                            </div>\\n                        </div>\\n                        <div class=\"association-member__info-address\">\\n                            <p class=\"association-member__info-header\">Adresse</p>\\n                            <div class=\"association-member__info-content\">\\n                                <ul>\\n                                    <li>Hasselbachplatz 2</li>\\n                                    <li>39104 Magdeburg</li>\\n                                    <li>Deutschland</li>\\n                                </ul>\\n                            </div>\\n                        </div>\\n                        <div class=\"association-member__info-logo\">\\n                            <div>\\n                                \\n                                    \\n                                \\n                                <img src=\"https://www.vdma.org/mitglieder?p_p_id=org_vdma_publicusers_portlet_PublicUsersPortlet_INSTANCE_H0VO3QljCiRM&p_p_lifecycle=2&p_p_state=normal&p_p_mode=view&p_p_resource_id=getLogo&p_p_cacheability=cacheLevelPage&_org_vdma_publicusers_portlet_PublicUsersPortlet_INSTANCE_H0VO3QljCiRM_id=496312\" alt=\"\"\\n                                     data-name=\"3DQR\">\\n                            </div>\\n                        </div>\\n                    </div>\\n                    <div class=\"association-member__show-all-info\">\\n                        <label for=\"checkbox-association-member-id-1\"\\n                               class=\"textlink textlink--ds100 association-member__show-all-info--open\">\\n                            <div class=\"textlink-inline\">\\n                                <span class=\"textlink-text\">Mehr Information</span>\\n                            </div>\\n\\n                            <i class=\"textlink-icon\">\\n                                <svg>\\n                                    <use xlink:href=\"/o/vdma-new-theme/assets/icons/sprite.symbol.svg#v-chevron-down\"></use>\\n                                </svg>\\n                            </i>\\n                        </label>\\n                        <label for=\"checkbox-association-member-id-1\"\\n                               class=\"textlink textlink--ds100 association-member__show-all-info--close\">\\n                            <div class=\"textlink-inline\">\\n                                <span class=\"textlink-text\">Weniger Information</span>\\n                            </div>\\n\\n                            <i class=\"textlink-icon\">\\n                                <svg>\\n                                    <use xlink:href=\"/o/vdma-new-theme/assets/icons/sprite.symbol.svg#v-chevron-up\"></use>\\n                                </svg>\\n                            </i></label>\\n                    </div>\\n                </div>\\n\\n            \\n                <div class=\"association-member\">\\n                    <p class=\"association-member__title\">4JET Holding</p>\\n                    <input id=\"checkbox-association-member-id-1\" type=\"checkbox\"/>\\n                    <div class=\"association-member__info\">\\n                        <div class=\"association-member__info-contacts\">\\n                            <p class=\"association-member__info-header\">\\n                                Kontakt\\n                            </p>\\n                            <div class=\"association-member__info-content\">\\n                                <a href=\"mailto:\" class=\"textlink\">\\n                                    <i class=\"textlink-icon\">\\n                                        <svg>\\n                                            <use xlink:href=\"/o/vdma-new-theme/assets/icons/sprite.symbol.svg#v-envelope\"></use>\\n                                        </svg>\\n                                    </i>\\n                                    <div class=\"textlink-inline\">\\n                                        <span class=\"textlink-text\"></span>\\n                                    </div>\\n                                </a>\\n                                <a href=\"tel:\" class=\"textlink\">\\n                                    <i class=\"textlink-icon\">\\n                                        <svg>\\n                                            <use xlink:href=\"/o/vdma-new-theme/assets/icons/sprite.symbol.svg#v-phone\"></use>\\n                                        </svg>\\n                                    </i>\\n                                    <div class=\"textlink-inline\">\\n                                        <span class=\"textlink-text\"></span>\\n                                    </div>\\n                                </a>\\n                                <a href=\"\" class=\"textlink\">\\n                                    <i class=\"textlink-icon\">\\n                                        <svg>\\n                                            <use xlink:href=\"/o/vdma-new-theme/assets/icons/sprite.symbol.svg#v-web\"></use>\\n                                        </svg>\\n                                    </i>\\n                                    <div class=\"textlink-inline\">\\n                                        <span class=\"textlink-text\"></span>\\n                                    </div>\\n                                </a>\\n                            </div>\\n                        </div>\\n                        <div class=\"association-member__info-address\">\\n                            <p class=\"association-member__info-header\">Adresse</p>\\n                            <div class=\"association-member__info-content\">\\n                                <ul>\\n                                    <li>Konrad-Zuse-Str. 1</li>\\n                                    <li>52477 Alsdorf</li>\\n                                    <li>Deutschland</li>\\n                                </ul>\\n                            </div>\\n                        </div>\\n                        <div class=\"association-member__info-logo\">\\n                            <div>\\n                                \\n                                    \\n                                \\n                                <img src=\"https://www.vdma.org/mitglieder?p_p_id=org_vdma_publicusers_portlet_PublicUsersPortlet_INSTANCE_H0VO3QljCiRM&p_p_lifecycle=2&p_p_state=normal&p_p_mode=view&p_p_resource_id=getLogo&p_p_cacheability=cacheLevelPage&_org_vdma_publicusers_portlet_PublicUsersPortlet_INSTANCE_H0VO3QljCiRM_id=523604\" alt=\"\"\\n                                     data-name=\"4JET Holding\">\\n                            </div>\\n                        </div>\\n                    </div>\\n                    <div class=\"association-member__show-all-info\">\\n                        <label for=\"checkbox-association-member-id-1\"\\n                               class=\"textlink textlink--ds100 association-member__show-all-info--open\">\\n                            <div class=\"textlink-inline\">\\n                                <span class=\"textlink-text\">Mehr Information</span>\\n                            </div>\\n\\n                            <i class=\"textlink-icon\">\\n                                <svg>\\n                                    <use xlink:href=\"/o/vdma-new-theme/assets/icons/sprite.symbol.svg#v-chevron-down\"></use>\\n                                </svg>\\n                            </i>\\n                        </label>\\n                        <label for=\"checkbox-association-member-id-1\"\\n                               class=\"textlink textlink--ds100 association-member__show-all-info--close\">\\n                            <div class=\"textlink-inline\">\\n                                <span class=\"textlink-text\">Weniger Information</span>\\n                            </div>\\n\\n                            <i class=\"textlink-icon\">\\n                                <svg>\\n                                    <use xlink:href=\"/o/vdma-new-theme/assets/icons/sprite.symbol.svg#v-chevron-up\"></use>\\n                                </svg>\\n                            </i></label>\\n                    </div>\\n                </div>\\n\\n            \\n                <div class=\"association-member\">\\n                    <p class=\"association-member__title\">4JET microtech</p>\\n                    <input id=\"checkbox-association-member-id-1\" type=\"checkbox\"/>\\n                    <div class=\"association-member__info\">\\n                        <div class=\"association-member__info-contacts\">\\n                            <p class=\"association-member__info-header\">\\n                                Kontakt\\n                            </p>\\n                            <div class=\"association-member__info-content\">\\n                                <a href=\"mailto:\" class=\"textlink\">\\n                                    <i class=\"textlink-icon\">\\n                                        <svg>\\n                                            <use xlink:href=\"/o/vdma-new-theme/assets/icons/sprite.symbol.svg#v-envelope\"></use>\\n                                        </svg>\\n                                    </i>\\n                                    <div class=\"textlink-inline\">\\n                                        <span class=\"textlink-text\"></span>\\n                                    </div>\\n                                </a>\\n                                <a href=\"tel:\" class=\"textlink\">\\n                                    <i class=\"textlink-icon\">\\n                                        <svg>\\n                                            <use xlink:href=\"/o/vdma-new-theme/assets/icons/sprite.symbol.svg#v-phone\"></use>\\n                                        </svg>\\n                                    </i>\\n                                    <div class=\"textlink-inline\">\\n                                        <span class=\"textlink-text\"></span>\\n                                    </div>\\n                                </a>\\n                                <a href=\"\" class=\"textlink\">\\n                                    <i class=\"textlink-icon\">\\n                                        <svg>\\n                                            <use xlink:href=\"/o/vdma-new-theme/assets/icons/sprite.symbol.svg#v-web\"></use>\\n                                        </svg>\\n                                    </i>\\n                                    <div class=\"textlink-inline\">\\n                                        <span class=\"textlink-text\"></span>\\n                                    </div>\\n                                </a>\\n                            </div>\\n                        </div>\\n                        <div class=\"association-member__info-address\">\\n                            <p class=\"association-member__info-header\">Adresse</p>\\n                            <div class=\"association-member__info-content\">\\n                                <ul>\\n                                    <li>Konrad-Zuse-Str. 1</li>\\n                                    <li>52477 Alsdorf</li>\\n                                    <li>Deutschland</li>\\n                                </ul>\\n                            </div>\\n                        </div>\\n                        <div class=\"association-member__info-logo\">\\n                            <div>\\n                                \\n                                    \\n                                \\n                                <img src=\"https://www.vdma.org/mitglieder?p_p_id=org_vdma_publicusers_portlet_PublicUsersPortlet_INSTANCE_H0VO3QljCiRM&p_p_lifecycle=2&p_p_state=normal&p_p_mode=view&p_p_resource_id=getLogo&p_p_cacheability=cacheLevelPage&_org_vdma_publicusers_portlet_PublicUsersPortlet_INSTANCE_H0VO3QljCiRM_id=426758\" alt=\"\"\\n                                     data-name=\"4JET microtech\">\\n                            </div>\\n                        </div>\\n                    </div>\\n                    <div class=\"association-member__show-all-info\">\\n                        <label for=\"checkbox-association-member-id-1\"\\n                               class=\"textlink textlink--ds100 association-member__show-all-info--open\">\\n                            <div class=\"textlink-inline\">\\n                                <span class=\"textlink-text\">Mehr Information</span>\\n                            </div>\\n\\n                            <i class=\"textlink-icon\">\\n                                <svg>\\n                                    <use xlink:href=\"/o/vdma-new-theme/assets/icons/sprite.symbol.svg#v-chevron-down\"></use>\\n                                </svg>\\n                            </i>\\n                        </label>\\n                        <label for=\"checkbox-association-member-id-1\"\\n                               class=\"textlink textlink--ds100 association-member__show-all-info--close\">\\n                            <div class=\"textlink-inline\">\\n                                <span class=\"textlink-text\">Weniger Information</span>\\n                            </div>\\n\\n                            <i class=\"textlink-icon\">\\n                                <svg>\\n                                    <use xlink:href=\"/o/vdma-new-theme/assets/icons/sprite.symbol.svg#v-chevron-up\"></use>\\n                                </svg>\\n                            </i></label>\\n                    </div>\\n                </div>\\n\\n            \\n\\n        </div>\\n\\n        <div class=\"association-member-list-page__association-member-pagination\">\\n            <div class=\"vdma-pagination\" data-total-pages=\"364\"></div>\\n        </div>\\n    </div>\\n</div>\\n<style>\\n    .vdma-pagination-left.active, .vdma-pagination-right.active, .vdma-pagination-page.active {\\n        font-family: \"Open Sans Bold\";\\n        color: #fff !important;\\n        background-color: #0f6584;\\n        -webkit-user-select: none;\\n        -moz-user-select: none;\\n        -ms-user-select: none;\\n        user-select: none;\\n    }\\n</style>\\n\\n            \\n        \\n    </div>\\n</div>\\n\\n\\t\\n\\t\\n\\t\\t\\t\\t\\t\\n\\t\\t\\t\\t\\n\\t\\t\\t\\n\\t\\t\\n\\t\\n\\t\\n\\n\\n\\t</div>\\n\\n\\t\\t\\t</div>\\n\\t\\t\\n\\t</div>\\n</section>\\n\\t\\n\\n\\t\\t\\n\\t\\t\\n\\n\\n\\n\\n\\n\\n\\n\\t</div>\\n\\n\\n\\n\\n\\n\\n\\n\\n\\n\\n\\n\\n\\n\\n\\n\\n\\n\\n\\n\\n\\n\\n\\n\\n\\n\\n\\n\\n\\n\\n\\n\\n\\n\\n\\n\\n\\n\\n\\n\\n\\n\\n\\n\\n\\n\\n\\t\\n\\n\\t<div class=\"portlet-boundary portlet-boundary_com_liferay_journal_content_web_portlet_JournalContentPortlet_  portlet-static portlet-static-end portlet-borderless portlet-journal-content \" id=\"p_p_id_com_liferay_journal_content_web_portlet_JournalContentPortlet_INSTANCE_4TSSn34qiTtS_\">\\n\\t\\t<span id=\"p_com_liferay_journal_content_web_portlet_JournalContentPortlet_INSTANCE_4TSSn34qiTtS\"></span>\\n\\n\\n\\n\\n\\t\\n\\n\\t\\n\\t\\t\\n\\t\\t\\t\\n\\n\\n\\n\\n\\n\\n\\n\\n\\n\\n\\n\\n\\n\\n\\n\\n\\n\\n\\n\\n\\n\\n\\n\\n\\n\\n\\n\\n\\n\\n\\n\\n\\n\\n\\n\\n\\n\\n\\t\\n\\t\\t\\n<section class=\"portlet\" id=\"portlet_com_liferay_journal_content_web_portlet_JournalContentPortlet_INSTANCE_4TSSn34qiTtS\">\\n\\n\\n\\t<div class=\"portlet-content\">\\n\\n\\t\\t<div class=\"autofit-float autofit-row portlet-header\">\\n\\t\\t\\t<div class=\"autofit-col autofit-col-expand\">\\n\\t\\t\\t\\t<h2 class=\"portlet-title-text\">Level 0 Vorteilskommunikation</h2>\\n\\t\\t\\t</div>\\n\\n\\t\\t\\t<div class=\"autofit-col autofit-col-end\">\\n\\t\\t\\t\\t<div class=\"autofit-section\">\\n\\n\\n\\n\\n\\n\\n\\n\\n\\n\\n\\n\\n\\n\\n\\n\\n\\n\\n\\n\\n<div class=\"visible-interaction\">\\n\\t\\n\\t\\t\\n\\n\\t\\t\\n\\n\\t\\t\\n\\n\\t\\t\\n\\t\\n</div>\\t\\t\\t\\t</div>\\n\\t\\t\\t</div>\\n\\t\\t</div>\\n\\n\\t\\t\\n\\t\\t\\t<div class=\" portlet-content-container\">\\n\\t\\t\\t\\t\\n\\n\\n\\t<div class=\"portlet-body\">\\n\\n\\n\\n\\t\\n\\t\\t\\n\\t\\t\\t\\n\\t\\t\\t\\t\\n\\t\\t\\t\\t\\t\\n\\n\\n\\n\\n\\n\\n\\n\\n\\n\\n\\n\\n\\n\\n\\n\\n\\n\\n\\n\\n\\n\\n\\n\\n\\n\\n\\n\\n\\n\\n\\n\\n\\n\\n\\n\\n\\n\\n\\n\\n\\n\\n\\n\\n\\n\\n\\n\\n\\n\\n\\n\\t\\n\\n\\t\\t\\t\\t\\n\\n\\t\\t\\t\\t\\n\\t\\t\\t\\t\\t\\n\\t\\t\\t\\t\\t\\t\\n\\n\\n\\t\\n\\n\\t\\t\\n\\n\\n\\n\\n\\n\\n\\n\\n\\n\\n\\n\\n\\n\\n\\n\\n\\n\\n\\n\\n\\n\\n\\n\\n\\n\\n\\n\\n\\n\\n\\n\\n\\t\\n\\t\\n\\t\\t\\n\\t\\t\\t\\n\\t\\t\\t\\n\\t\\t\\t\\t\\n\\t\\t\\t\\t\\t\\n\\t\\t\\t\\t\\t\\n\\t\\t\\t\\t\\t\\n\\n\\t\\t\\t\\t\\t\\t\\n\\n\\t\\t\\t\\t\\t\\t<div class=\"\" data-fragments-editor-item-id=\"20502-4088042\" data-fragments-editor-item-type=\"fragments-editor-mapped-item\" >\\n\\t\\t\\t\\t\\t\\t\\t\\n\\n\\n\\n\\n\\n\\n\\n\\n\\n\\n\\n\\n\\n\\n\\n\\n\\n\\n\\t\\n\\t\\n\\t\\t<div class=\"journal-content-article \" data-analytics-asset-id=\"4088040\" data-analytics-asset-title=\"Level 0 Vorteilskommunikation\" data-analytics-asset-type=\"web-content\">\\n\\t\\t\\t\\n\\n\\t\\t\\t<div class=\"level-0-topic-page__content__membership\">\\n    <div class=\"level-0-topic-page__content__membership__advantage\" style=\"margin-top: -45px;\">\\n        <p class=\"level-0-topic-page__content__membership__advantage__header\">Vorteile für Sie als Mitglied</p>\\n        <div class=\"level-0-topic-page__content__membership__advantage__content\">\\n\\n                    <div class=\"level-0-topic-page__content__membership__advantage__item\">\\n                        <div class=\"level-0-topic-page__content__membership__advantage__item-logo\">\\n                            <svg >\\n                                <use xlink:href=\"/o/vdma-new-theme/assets/icons/sprite.symbol.svg#v-check\"></use>\\n                            </svg>\\n                        </div>\\n                        <div class=\"level-0-topic-page__content__membership__advantage__item-message\">\\n                            <p\\tclass=\"level-0-topic-page__content__membership__advantage__item-message-header\">\\n                                Größtes Branchennetzwerk in Europa\\n                            </p>\\n                            <p class=\"level-0-topic-page__content__membership__advantage__item-message-description\">\\n                                3.600 vorrangig mittelständische Mitgliedsunternehmen der Investitionsgüterindustrie machen den VDMA zum größten Industrieverband in Europa und zur bedeutendsten Netzwerkorganisation der Branche.\\n                            </p>\\n                        </div>\\n                    </div>\\n                    <div class=\"level-0-topic-page__content__membership__advantage__item\">\\n                        <div class=\"level-0-topic-page__content__membership__advantage__item-logo\">\\n                            <svg >\\n                                <use xlink:href=\"/o/vdma-new-theme/assets/icons/sprite.symbol.svg#v-check\"></use>\\n                            </svg>\\n                        </div>\\n                        <div class=\"level-0-topic-page__content__membership__advantage__item-message\">\\n                            <p\\tclass=\"level-0-topic-page__content__membership__advantage__item-message-header\">\\n                                Starke Interessenvertretung\\n                            </p>\\n                            <p class=\"level-0-topic-page__content__membership__advantage__item-message-description\">\\n                                Der VDMA ist das wichtigste Sprachrohr des Maschinen- und Anlagenbaus. Er vertritt die gemeinsamen wirtschaftlichen, technischen und wissenschaftlichen Interessen der Branche in Deutschland, Europa und der Welt.\\n                            </p>\\n                        </div>\\n                    </div>\\n                    <div class=\"level-0-topic-page__content__membership__advantage__item\">\\n                        <div class=\"level-0-topic-page__content__membership__advantage__item-logo\">\\n                            <svg >\\n                                <use xlink:href=\"/o/vdma-new-theme/assets/icons/sprite.symbol.svg#v-check\"></use>\\n                            </svg>\\n                        </div>\\n                        <div class=\"level-0-topic-page__content__membership__advantage__item-message\">\\n                            <p\\tclass=\"level-0-topic-page__content__membership__advantage__item-message-header\">\\n                                Vielfältige Dienstleistungen\\n                            </p>\\n                            <p class=\"level-0-topic-page__content__membership__advantage__item-message-description\">\\n                                Über 500 VDMA-Mitarbeiterinnen und Mitarbeiter weltweit unterstützen Sie mit praxisgerechten Dienstleistungen dabei, die richtigen Entscheidungen in Ihrem Unternehmen zu treffen - und das entlang der gesamten Wertschöpfungskette.\\n                            </p>\\n                        </div>\\n                    </div>\\n\\n        </div>\\n        <div\\t\\tclass=\"level-0-topic-page__content__membership__advantage__actions\">\\n            <button  class=\"btn-white\" style=\"display:flex\" onclick=\"window.location.href=\\'/mitgliedschaft\\'\">\\n                <span >Mehr entdecken</span>\\n                <i class=\"textlink-icon\"><svg>\\n                        <use xlink:href=\"/o/vdma-new-theme/assets/icons/sprite.symbol.svg#v-chevron-right\"></use></svg></i>\\n            </button>\\n            <a  class=\"textlink\" href=\"/registration\"><div\\n                        class=\"textlink-inline\">\\n                    <span  class=\"textlink-text\">Bereits VDMA-Mitglied? Jetzt registrieren</span><i class=\"textlink-icon\"><svg >\\n                            <use xlink:href=\"/o/vdma-new-theme/assets/icons/sprite.symbol.svg#v-chevron-right\"></use></svg></i>\\n                </div></a>\\n        </div>\\n    </div>\\n</div>\\n\\t\\t</div>\\n\\n\\t\\t\\n\\n\\t\\n\\n\\n\\n\\n\\t\\t\\t\\t\\t\\t\\t\\n\\t\\t\\t\\t\\t\\t</div>\\n\\t\\t\\t\\t\\t\\n\\t\\t\\t\\t\\n\\t\\t\\t\\n\\t\\t\\n\\t\\n\\n\\n\\n\\n\\t\\n\\n\\t\\n\\n\\t\\n\\n\\t\\n\\n\\t\\n\\n\\t\\n\\n\\n\\n\\n\\t\\n\\t\\n\\t\\t\\t\\t\\t\\n\\t\\t\\t\\t\\n\\t\\t\\t\\n\\t\\t\\n\\t\\n\\t\\n\\n\\n\\t</div>\\n\\n\\t\\t\\t</div>\\n\\t\\t\\n\\t</div>\\n</section>\\n\\t\\n\\n\\t\\t\\n\\t\\t\\n\\n\\n\\n\\n\\n\\n\\n\\t</div>\\n\\n\\n\\n\\n\\n\\n</div>\\n\\t\\t</div>\\n\\t</div>\\n</div>\\n\\n<form action=\"#\" class=\"hide\" id=\"hrefFm\" method=\"post\" name=\"hrefFm\" aria-hidden=\"true\"><span></span><button hidden type=\"submit\"/>Verborgen</button></form>    </div>\\n</section>\\n\\n<footer>\\n  <div class=\"footer-upper\">\\n    <div class=\"footer-lists\">\\n      <!--div class=\"footer-list\">\\n        <div class=\"footer-list__label-group\">\\n          <label>Für Mitglieder</label>\\n          <i class=\"icon-group\">\\n            <svg><use xlink:href=\"/o/vdma-new-theme/assets/icons/sprite.symbol.svg#v-chevron-down\"></use></svg>\\n          </i>\\n        </div>\\n        <div class=\"footer-list__suggestion-group\">\\n\\n\\n\\n\\n\\n\\n\\n\\n\\n\\n\\n\\n\\n\\n\\n\\n\\n\\n\\n\\n\\n\\n\\n\\n\\n\\n\\n\\n\\n\\n\\n\\n\\n\\n\\n\\n\\n\\n\\n\\n\\t\\n\\n\\t<div class=\"portlet-boundary portlet-boundary_com_liferay_site_navigation_menu_web_portlet_SiteNavigationMenuPortlet_  portlet-static portlet-static-end portlet-borderless portlet-navigation \" id=\"p_p_id_com_liferay_site_navigation_menu_web_portlet_SiteNavigationMenuPortlet_INSTANCE_vdmaForMembersNavMenu_\">\\n\\t\\t<span id=\"p_com_liferay_site_navigation_menu_web_portlet_SiteNavigationMenuPortlet_INSTANCE_vdmaForMembersNavMenu\"></span>\\n\\n\\n\\n\\n\\t\\n\\n\\t\\n\\t\\t\\n\\t\\t\\t\\n\\n\\n\\n\\n\\n\\n\\n\\n\\n\\n\\n\\n\\n\\n\\n\\n\\n\\n\\n\\n\\n\\n\\n\\n\\n\\n\\n\\n\\n\\n\\n\\n\\n\\n\\n\\n\\n\\n\\t\\n\\t\\t\\n<section class=\"portlet\" id=\"portlet_com_liferay_site_navigation_menu_web_portlet_SiteNavigationMenuPortlet_INSTANCE_vdmaForMembersNavMenu\">\\n\\n\\n\\t<div class=\"portlet-content\">\\n\\n\\t\\t<div class=\"autofit-float autofit-row portlet-header\">\\n\\t\\t\\t<div class=\"autofit-col autofit-col-expand\">\\n\\t\\t\\t\\t<h2 class=\"portlet-title-text\">Navigationsmenü</h2>\\n\\t\\t\\t</div>\\n\\n\\t\\t\\t<div class=\"autofit-col autofit-col-end\">\\n\\t\\t\\t\\t<div class=\"autofit-section\">\\n\\t\\t\\t\\t</div>\\n\\t\\t\\t</div>\\n\\t\\t</div>\\n\\n\\t\\t\\n\\t\\t\\t<div class=\" portlet-content-container\">\\n\\t\\t\\t\\t\\n\\n\\n\\t<div class=\"portlet-body\">\\n\\n\\n\\n\\t\\n\\t\\t\\n\\t\\t\\t\\n\\t\\t\\t\\t\\n\\t\\t\\t\\t\\t\\n\\n\\n\\n\\n\\n\\n\\n\\n\\n\\n\\n\\n\\n\\n\\n\\n\\n\\n\\n\\n\\n\\n\\n\\n\\n\\n\\n\\n\\n\\n\\n\\n\\n\\n\\n\\n\\n\\n\\n\\n\\n\\n\\n\\n\\n\\n\\n\\n\\n\\n\\n\\t\\n\\n\\t\\t\\t\\t\\n\\n\\t\\t\\t\\t\\n\\t\\t\\t\\t\\t\\n\\t\\t\\t\\t\\t\\t\\n\\n\\n\\t\\n\\n\\t\\t\\n\\n\\n\\n\\n\\n\\n\\n\\n\\n\\n\\n\\n\\n\\n\\n\\n\\n\\n\\n\\n\\t\\n\\n\\t\\t\\n\\n\\t\\t\\n\\t\\t\\t\\n\\t\\t\\t\\t\\n\\n\\n\\t<div aria-label=\"Seiten der Site\" class=\"list-menu\">\\n\\t\\t<ul class=\"layouts level-1\">\\n\\n\\n\\n\\t\\t\\t\\t<li class=\"lfr-nav-item\">\\n\\t\\t\\t\\t\\t\\t<a class=\"lfr-nav-item\" href=\"https://www.vdma.org/auslandsniederlassungen\" >Auslandsniederlassungen</a>\\n\\n\\t\\t\\t\\t</li>\\n\\n\\n\\n\\t\\t\\t\\t<li class=\"lfr-nav-item\">\\n\\t\\t\\t\\t\\t\\t<a class=\"lfr-nav-item\" href=\"https://www.vdma.org/mitgliedschaft\" >Mitgliedschaft</a>\\n\\n\\t\\t\\t\\t</li>\\n\\t\\t</ul>\\n\\t</div>\\n\\n\\t\\t\\t\\n\\t\\t\\t\\n\\t\\t\\n\\t\\n\\t\\n\\t\\n\\t\\n\\n\\n\\t\\n\\t\\n\\t\\t\\t\\t\\t\\n\\t\\t\\t\\t\\n\\t\\t\\t\\n\\t\\t\\n\\t\\n\\t\\n\\n\\n\\t</div>\\n\\n\\t\\t\\t</div>\\n\\t\\t\\n\\t</div>\\n</section>\\n\\t\\n\\n\\t\\t\\n\\t\\t\\n\\n\\n\\n\\n\\n\\n\\n\\t</div>\\n\\n\\n\\n\\n\\n\\n        </div>\\n      </div-->\\n\\n      <div class=\"footer-list\">\\n        <div #footerDatabasesGroupRef class=\"footer-list__label-group\">\\n          <label>Datenbanken</label>\\n          <i class=\"icon-group\">\\n            <svg><use xlink:href=\"/o/vdma-new-theme/assets/icons/sprite.symbol.svg#v-chevron-down\"></use></svg>\\n          </i>\\n        </div>\\n        <div class=\"footer-list__suggestion-group\">\\n\\n\\n\\n\\n\\n\\n\\n\\n\\n\\n\\n\\n\\n\\n\\n\\n\\n\\n\\n\\n\\n\\n\\n\\n\\n\\n\\n\\n\\n\\n\\n\\n\\n\\n\\n\\n\\n\\n\\n\\n\\t\\n\\n\\t<div class=\"portlet-boundary portlet-boundary_com_liferay_site_navigation_menu_web_portlet_SiteNavigationMenuPortlet_  portlet-static portlet-static-end portlet-borderless portlet-navigation \" id=\"p_p_id_com_liferay_site_navigation_menu_web_portlet_SiteNavigationMenuPortlet_INSTANCE_vdmaDaterNavMenu_\">\\n\\t\\t<span id=\"p_com_liferay_site_navigation_menu_web_portlet_SiteNavigationMenuPortlet_INSTANCE_vdmaDaterNavMenu\"></span>\\n\\n\\n\\n\\n\\t\\n\\n\\t\\n\\t\\t\\n\\t\\t\\t\\n\\n\\n\\n\\n\\n\\n\\n\\n\\n\\n\\n\\n\\n\\n\\n\\n\\n\\n\\n\\n\\n\\n\\n\\n\\n\\n\\n\\n\\n\\n\\n\\n\\n\\n\\n\\n\\n\\n\\t\\n\\t\\t\\n<section class=\"portlet\" id=\"portlet_com_liferay_site_navigation_menu_web_portlet_SiteNavigationMenuPortlet_INSTANCE_vdmaDaterNavMenu\">\\n\\n\\n\\t<div class=\"portlet-content\">\\n\\n\\t\\t<div class=\"autofit-float autofit-row portlet-header\">\\n\\t\\t\\t<div class=\"autofit-col autofit-col-expand\">\\n\\t\\t\\t\\t<h2 class=\"portlet-title-text\">Navigationsmenü</h2>\\n\\t\\t\\t</div>\\n\\n\\t\\t\\t<div class=\"autofit-col autofit-col-end\">\\n\\t\\t\\t\\t<div class=\"autofit-section\">\\n\\t\\t\\t\\t</div>\\n\\t\\t\\t</div>\\n\\t\\t</div>\\n\\n\\t\\t\\n\\t\\t\\t<div class=\" portlet-content-container\">\\n\\t\\t\\t\\t\\n\\n\\n\\t<div class=\"portlet-body\">\\n\\n\\n\\n\\t\\n\\t\\t\\n\\t\\t\\t\\n\\t\\t\\t\\t\\n\\t\\t\\t\\t\\t\\n\\n\\n\\n\\n\\n\\n\\n\\n\\n\\n\\n\\n\\n\\n\\n\\n\\n\\n\\n\\n\\n\\n\\n\\n\\n\\n\\n\\n\\n\\n\\n\\n\\n\\n\\n\\n\\n\\n\\n\\n\\n\\n\\n\\n\\n\\n\\n\\n\\n\\n\\n\\t\\n\\n\\t\\t\\t\\t\\n\\n\\t\\t\\t\\t\\n\\t\\t\\t\\t\\t\\n\\t\\t\\t\\t\\t\\t\\n\\n\\n\\t\\n\\n\\t\\t\\n\\n\\n\\n\\n\\n\\n\\n\\n\\n\\n\\n\\n\\n\\n\\n\\n\\n\\n\\n\\n\\t\\n\\n\\t\\t\\n\\n\\t\\t\\n\\t\\t\\t\\n\\t\\t\\t\\t\\n\\n\\n\\t<div aria-label=\"Seiten der Site\" class=\"list-menu\">\\n\\t\\t<ul class=\"layouts level-1\">\\n\\n\\n\\n\\t\\t\\t\\t<li class=\"lfr-nav-item\">\\n\\t\\t\\t\\t\\t\\t<a class=\"lfr-nav-item\" href=\"https://www.vdma.org/viewer/-/v2article/render/1236749\" >Auslandstöchter</a>\\n\\n\\t\\t\\t\\t</li>\\n\\n\\n\\n\\t\\t\\t\\t<li class=\"lfr-nav-item\">\\n\\t\\t\\t\\t\\t\\t<a class=\"lfr-nav-item\" href=\"https://www.vdma.org/dater-normen\" >DaTeR</a>\\n\\n\\t\\t\\t\\t</li>\\n\\n\\n\\n\\t\\t\\t\\t<li class=\"lfr-nav-item\">\\n\\t\\t\\t\\t\\t\\t<a class=\"lfr-nav-item\" href=\"https://www.vdma.org/dater-normen#dater-standards-page-tabbar-machine-safety-id\" >Normen zur Maschinensicherheit</a>\\n\\n\\t\\t\\t\\t</li>\\n\\n\\n\\n\\t\\t\\t\\t<li class=\"lfr-nav-item\">\\n\\t\\t\\t\\t\\t\\t<a class=\"lfr-nav-item\" href=\"https://www.vdma.org/dater-normen#dater-standards-page-tabbar-catalogs-id\" >VDMA-Einheitsblätter</a>\\n\\n\\t\\t\\t\\t</li>\\n\\n\\n\\n\\t\\t\\t\\t<li class=\"lfr-nav-item\">\\n\\t\\t\\t\\t\\t\\t<a class=\"lfr-nav-item\" href=\"https://www.vdma.org/catalogs\" >OPC UA Companion Specifications</a>\\n\\n\\t\\t\\t\\t</li>\\n\\n\\n\\n\\t\\t\\t\\t<li class=\"lfr-nav-item\">\\n\\t\\t\\t\\t\\t\\t<a class=\"lfr-nav-item\" href=\"https://www.vdma.org/statistikdatenbank\" >Statistikdatenbank</a>\\n\\n\\t\\t\\t\\t</li>\\n\\t\\t</ul>\\n\\t</div>\\n\\n\\t\\t\\t\\n\\t\\t\\t\\n\\t\\t\\n\\t\\n\\t\\n\\t\\n\\t\\n\\n\\n\\t\\n\\t\\n\\t\\t\\t\\t\\t\\n\\t\\t\\t\\t\\n\\t\\t\\t\\n\\t\\t\\n\\t\\n\\t\\n\\n\\n\\t</div>\\n\\n\\t\\t\\t</div>\\n\\t\\t\\n\\t</div>\\n</section>\\n\\t\\n\\n\\t\\t\\n\\t\\t\\n\\n\\n\\n\\n\\n\\n\\n\\t</div>\\n\\n\\n\\n\\n\\n\\n        </div>\\n      </div>\\n\\n      <div class=\"footer-list\">\\n        <div #footerAssociationsGroupRef class=\"footer-list__label-group\">\\n          <label>Der Verband</label>\\n          <i class=\"icon-group\">\\n            <svg><use xlink:href=\"/o/vdma-new-theme/assets/icons/sprite.symbol.svg#v-chevron-down\"></use></svg>\\n          </i>\\n        </div>\\n\\n        <div class=\"footer-list__suggestion-group\">\\n\\n\\n\\n\\n\\n\\n\\n\\n\\n\\n\\n\\n\\n\\n\\n\\n\\n\\n\\n\\n\\n\\n\\n\\n\\n\\n\\n\\n\\n\\n\\n\\n\\n\\n\\n\\n\\n\\n\\n\\n\\t\\n\\n\\t<div class=\"portlet-boundary portlet-boundary_com_liferay_site_navigation_menu_web_portlet_SiteNavigationMenuPortlet_  portlet-static portlet-static-end portlet-borderless portlet-navigation \" id=\"p_p_id_com_liferay_site_navigation_menu_web_portlet_SiteNavigationMenuPortlet_INSTANCE_vdmaVerbandNavMenu_\">\\n\\t\\t<span id=\"p_com_liferay_site_navigation_menu_web_portlet_SiteNavigationMenuPortlet_INSTANCE_vdmaVerbandNavMenu\"></span>\\n\\n\\n\\n\\n\\t\\n\\n\\t\\n\\t\\t\\n\\t\\t\\t\\n\\n\\n\\n\\n\\n\\n\\n\\n\\n\\n\\n\\n\\n\\n\\n\\n\\n\\n\\n\\n\\n\\n\\n\\n\\n\\n\\n\\n\\n\\n\\n\\n\\n\\n\\n\\n\\n\\n\\t\\n\\t\\t\\n<section class=\"portlet\" id=\"portlet_com_liferay_site_navigation_menu_web_portlet_SiteNavigationMenuPortlet_INSTANCE_vdmaVerbandNavMenu\">\\n\\n\\n\\t<div class=\"portlet-content\">\\n\\n\\t\\t<div class=\"autofit-float autofit-row portlet-header\">\\n\\t\\t\\t<div class=\"autofit-col autofit-col-expand\">\\n\\t\\t\\t\\t<h2 class=\"portlet-title-text\">Navigationsmenü</h2>\\n\\t\\t\\t</div>\\n\\n\\t\\t\\t<div class=\"autofit-col autofit-col-end\">\\n\\t\\t\\t\\t<div class=\"autofit-section\">\\n\\t\\t\\t\\t</div>\\n\\t\\t\\t</div>\\n\\t\\t</div>\\n\\n\\t\\t\\n\\t\\t\\t<div class=\" portlet-content-container\">\\n\\t\\t\\t\\t\\n\\n\\n\\t<div class=\"portlet-body\">\\n\\n\\n\\n\\t\\n\\t\\t\\n\\t\\t\\t\\n\\t\\t\\t\\t\\n\\t\\t\\t\\t\\t\\n\\n\\n\\n\\n\\n\\n\\n\\n\\n\\n\\n\\n\\n\\n\\n\\n\\n\\n\\n\\n\\n\\n\\n\\n\\n\\n\\n\\n\\n\\n\\n\\n\\n\\n\\n\\n\\n\\n\\n\\n\\n\\n\\n\\n\\n\\n\\n\\n\\n\\n\\n\\t\\n\\n\\t\\t\\t\\t\\n\\n\\t\\t\\t\\t\\n\\t\\t\\t\\t\\t\\n\\t\\t\\t\\t\\t\\t\\n\\n\\n\\t\\n\\n\\t\\t\\n\\n\\n\\n\\n\\n\\n\\n\\n\\n\\n\\n\\n\\n\\n\\n\\n\\n\\n\\n\\n\\t\\n\\n\\t\\t\\n\\n\\t\\t\\n\\t\\t\\t\\n\\t\\t\\t\\t\\n\\n\\n\\t<div aria-label=\"Seiten der Site\" class=\"list-menu\">\\n\\t\\t<ul class=\"layouts level-1\">\\n\\n\\n\\n\\t\\t\\t\\t<li class=\"lfr-nav-item\">\\n\\t\\t\\t\\t\\t\\t<a class=\"lfr-nav-item\" href=\"https://www.vdma.org/der-verband\" >Über uns</a>\\n\\n\\t\\t\\t\\t</li>\\n\\n\\n\\n\\t\\t\\t\\t<li class=\"lfr-nav-item\">\\n\\t\\t\\t\\t\\t\\t<a class=\"lfr-nav-item\" href=\"https://www.vdma.org/karriere\" >Karriere</a>\\n\\n\\t\\t\\t\\t</li>\\n\\n\\n\\n\\t\\t\\t\\t<li class=\"lfr-nav-item\">\\n\\t\\t\\t\\t\\t\\t<a class=\"lfr-nav-item\" href=\"https://www.vdma.org/mitgliedschaft\" >Mitgliedschaft</a>\\n\\n\\t\\t\\t\\t</li>\\n\\n\\n\\n\\t\\t\\t\\t<li class=\"lfr-nav-item selected active\">\\n\\t\\t\\t\\t\\t\\t<a class=\"lfr-nav-item selected active\" href=\"https://www.vdma.org/mitglieder\" >Mitgliederliste</a>\\n\\n\\t\\t\\t\\t</li>\\n\\n\\n\\n\\t\\t\\t\\t<li class=\"lfr-nav-item\">\\n\\t\\t\\t\\t\\t\\t<a class=\"lfr-nav-item\" href=\"https://www.vdma.org/gruppen\" >Gruppen</a>\\n\\n\\t\\t\\t\\t</li>\\n\\t\\t</ul>\\n\\t</div>\\n\\n\\t\\t\\t\\n\\t\\t\\t\\n\\t\\t\\n\\t\\n\\t\\n\\t\\n\\t\\n\\n\\n\\t\\n\\t\\n\\t\\t\\t\\t\\t\\n\\t\\t\\t\\t\\n\\t\\t\\t\\n\\t\\t\\n\\t\\n\\t\\n\\n\\n\\t</div>\\n\\n\\t\\t\\t</div>\\n\\t\\t\\n\\t</div>\\n</section>\\n\\t\\n\\n\\t\\t\\n\\t\\t\\n\\n\\n\\n\\n\\n\\n\\n\\t</div>\\n\\n\\n\\n\\n\\n\\n        </div>\\n      </div>\\n\\n      <div class=\"footer-socials\">\\n        <p>Social Media</p>\\n        <div class=\"footer-social\">\\n          <div  class=\"footer-social__item\">\\n            <a href=\"https://www.linkedin.com/company/vdma\">\\n              <i class=\"icon-group\">\\n                <svg><use xlink:href=\"/o/vdma-new-theme/assets/icons/sprite.symbol.svg#v-social-linkedin\"></use></svg>\\n              </i>\\n              <label>LinkedIn</label>\\n            </a>\\n          </div>\\n\\n          <div class=\"footer-social__item\">\\n            <a href=\"https://www.facebook.com/VDMAonline\">\\n              <i class=\"icon-group\">\\n                <svg><use xlink:href=\"/o/vdma-new-theme/assets/icons/sprite.symbol.svg#v-social-facebook\"></use></svg>\\n              </i>\\n              <label>Facebook</label>\\n            </a>\\n          </div>\\n\\n          <div class=\"footer-social__item\">\\n            <a href=\"http://www.youtube.com/user/TheVDMA\">\\n              <i class=\"icon-group\">\\n                <svg><use xlink:href=\"/o/vdma-new-theme/assets/icons/sprite.symbol.svg#v-social-youtube\"></use></svg>\\n              </i>\\n              <label>YouTube</label>\\n            </a>\\n          </div>\\n\\n          <div class=\"footer-social__item\">\\n            <a href=\"https://twitter.com/VDMAonline\">\\n              <i class=\"icon-group\">\\n                <svg><use xlink:href=\"/o/vdma-new-theme/assets/icons/sprite.symbol.svg#v-social-twitter\"></use></svg>\\n              </i>\\n              <label>Twitter</label>\\n            </a>\\n          </div>\\n\\n          <div class=\"footer-social__item\">\\n            <a href=\"https://www.instagram.com/vdma.online/\">\\n              <i class=\"icon-group\">\\n                <svg>\\n                  <use\\n                          xlink:href=\"/o/vdma-new-theme/assets/icons/sprite.symbol.svg#v-social-instagram\"\\n                  ></use>\\n                </svg>\\n              </i>\\n              <label>Instagram</label>\\n            </a>\\n          </div>\\n        </div>\\n      </div>\\n    </div>\\n  </div>\\n  <div class=\"footer-lower\">\\n\\n\\n\\n\\n\\n\\n\\n\\n\\n\\n\\n\\n\\n\\n\\n\\n\\n\\n\\n\\n\\n\\n\\n\\n\\n\\n\\n\\n\\n\\n\\n\\n\\n\\n\\n\\n\\n\\n\\n\\n\\t\\n\\n\\t<div class=\"portlet-boundary portlet-boundary_com_liferay_site_navigation_menu_web_portlet_SiteNavigationMenuPortlet_  portlet-static portlet-static-end portlet-borderless portlet-navigation \" id=\"p_p_id_com_liferay_site_navigation_menu_web_portlet_SiteNavigationMenuPortlet_INSTANCE_vdmaFooterLowerNavMenu_\">\\n\\t\\t<span id=\"p_com_liferay_site_navigation_menu_web_portlet_SiteNavigationMenuPortlet_INSTANCE_vdmaFooterLowerNavMenu\"></span>\\n\\n\\n\\n\\n\\t\\n\\n\\t\\n\\t\\t\\n\\t\\t\\t\\n\\n\\n\\n\\n\\n\\n\\n\\n\\n\\n\\n\\n\\n\\n\\n\\n\\n\\n\\n\\n\\n\\n\\n\\n\\n\\n\\n\\n\\n\\n\\n\\n\\n\\n\\n\\n\\n\\n\\t\\n\\t\\t\\n<section class=\"portlet\" id=\"portlet_com_liferay_site_navigation_menu_web_portlet_SiteNavigationMenuPortlet_INSTANCE_vdmaFooterLowerNavMenu\">\\n\\n\\n\\t<div class=\"portlet-content\">\\n\\n\\t\\t<div class=\"autofit-float autofit-row portlet-header\">\\n\\t\\t\\t<div class=\"autofit-col autofit-col-expand\">\\n\\t\\t\\t\\t<h2 class=\"portlet-title-text\">Navigationsmenü</h2>\\n\\t\\t\\t</div>\\n\\n\\t\\t\\t<div class=\"autofit-col autofit-col-end\">\\n\\t\\t\\t\\t<div class=\"autofit-section\">\\n\\t\\t\\t\\t</div>\\n\\t\\t\\t</div>\\n\\t\\t</div>\\n\\n\\t\\t\\n\\t\\t\\t<div class=\" portlet-content-container\">\\n\\t\\t\\t\\t\\n\\n\\n\\t<div class=\"portlet-body\">\\n\\n\\n\\n\\t\\n\\t\\t\\n\\t\\t\\t\\n\\t\\t\\t\\t\\n\\t\\t\\t\\t\\t\\n\\n\\n\\n\\n\\n\\n\\n\\n\\n\\n\\n\\n\\n\\n\\n\\n\\n\\n\\n\\n\\n\\n\\n\\n\\n\\n\\n\\n\\n\\n\\n\\n\\n\\n\\n\\n\\n\\n\\n\\n\\n\\n\\n\\n\\n\\n\\n\\n\\n\\n\\n\\t\\n\\n\\t\\t\\t\\t\\n\\n\\t\\t\\t\\t\\n\\t\\t\\t\\t\\t\\n\\t\\t\\t\\t\\t\\t\\n\\n\\n\\t\\n\\n\\t\\t\\n\\n\\n\\n\\n\\n\\n\\n\\n\\n\\n\\n\\n\\n\\n\\n\\n\\n\\n\\n\\n\\t\\n\\n\\t\\t\\n\\n\\t\\t\\n\\t\\t\\t\\n\\t\\t\\t\\t\\n\\n\\n\\t<div aria-label=\"Seiten der Site\" class=\"list-menu\">\\n\\t\\t<ul class=\"layouts level-1\">\\n\\n\\n\\n\\t\\t\\t\\t<li class=\"lfr-nav-item\">\\n\\t\\t\\t\\t\\t\\t<a class=\"lfr-nav-item\" href=\"https://www.vdma.org\" >© VDMA 2021-2023</a>\\n\\n\\t\\t\\t\\t</li>\\n\\n\\n\\n\\t\\t\\t\\t<li class=\"lfr-nav-item\">\\n\\t\\t\\t\\t\\t\\t<a class=\"lfr-nav-item\" href=\"https://www.vdma.org/datenschutz\" >Datenschutz</a>\\n\\n\\t\\t\\t\\t</li>\\n\\n\\n\\n\\t\\t\\t\\t<li class=\"lfr-nav-item\">\\n\\t\\t\\t\\t\\t\\t<a class=\"lfr-nav-item\" href=\"https://www.vdma.org/viewer/-/v2article/render/51913352\" >Nutzungsbedingungen</a>\\n\\n\\t\\t\\t\\t</li>\\n\\n\\n\\n\\t\\t\\t\\t<li class=\"lfr-nav-item\">\\n\\t\\t\\t\\t\\t\\t<a class=\"lfr-nav-item\" href=\"https://www.vdma.org/impressum\" >Impressum</a>\\n\\n\\t\\t\\t\\t</li>\\n\\n\\n\\n\\t\\t\\t\\t<li class=\"lfr-nav-item\">\\n\\t\\t\\t\\t\\t\\t<a class=\"lfr-nav-item\" href=\"https://www.vdma.org/vdma-magazin\" >VDMA-Magazin</a>\\n\\n\\t\\t\\t\\t</li>\\n\\n\\n\\n\\t\\t\\t\\t<li class=\"lfr-nav-item\">\\n\\t\\t\\t\\t\\t\\t<a class=\"lfr-nav-item\" href=\"/personal-space#personal-space-page-tabbar-newsletter-id\" >Newsletter</a>\\n\\n\\t\\t\\t\\t</li>\\n\\n\\n\\n\\t\\t\\t\\t<li class=\"lfr-nav-item\">\\n\\t\\t\\t\\t\\t\\t<a class=\"lfr-nav-item\" href=\"https://www.vdma.org/anfahrt\" >Anfahrt</a>\\n\\n\\t\\t\\t\\t</li>\\n\\t\\t</ul>\\n\\t</div>\\n\\n\\t\\t\\t\\n\\t\\t\\t\\n\\t\\t\\n\\t\\n\\t\\n\\t\\n\\t\\n\\n\\n\\t\\n\\t\\n\\t\\t\\t\\t\\t\\n\\t\\t\\t\\t\\n\\t\\t\\t\\n\\t\\t\\n\\t\\n\\t\\n\\n\\n\\t</div>\\n\\n\\t\\t\\t</div>\\n\\t\\t\\n\\t</div>\\n</section>\\n\\t\\n\\n\\t\\t\\n\\t\\t\\n\\n\\n\\n\\n\\n\\n\\n\\t</div>\\n\\n\\n\\n\\n\\n\\n  </div>\\n</footer>\\n\\n\\n\\n\\n\\n\\n\\n\\n\\n\\n\\n\\n\\n\\n\\n\\n\\n\\n\\n\\n\\n\\n\\n\\n\\n\\n\\n\\n\\n\\n\\n\\n\\n\\n\\n\\n\\n\\n\\n\\n\\n\\n\\n\\n\\n\\n\\n\\n\\n\\n\\n\\n\\n\\n\\n\\n\\n\\n\\n\\n\\n\\n\\n\\n\\n\\n\\n\\n\\n\\n\\n\\n\\n\\n\\n\\n\\n\\n\\n\\n\\n\\n\\n\\n\\n\\n\\n\\n\\n\\n\\n\\n\\n\\n\\n\\n\\n\\n\\n\\n\\n\\n\\n\\n\\n\\n\\n\\n\\n\\n\\n\\n\\n\\n\\n\\n\\n\\n\\n\\n\\n\\n\\n\\n\\n\\n\\n\\n\\n\\n\\t\\n\\n\\t\\n\\n\\n\\n\\n\\n\\t\\n\\n\\n\\n\\t\\n\\n\\n\\n\\n\\n\\n\\n\\n\\n\\t\\n\\n\\t\\n\\n\\n\\n\\n\\n\\t\\n\\n\\n\\n\\t\\n\\n\\n\\n\\n\\n\\n\\n\\n\\n\\n\\n<script type=\"text/javascript\">\\n// <![CDATA[\\n\\n\\t\\n\\t\\t\\n\\n\\t\\t\\t\\n\\n\\t\\t\\t\\n\\t\\t\\n\\t\\n\\n\\tLiferay.BrowserSelectors.run();\\n\\n// ]]>\\n</script>\\n\\n\\n\\n\\n\\n\\n\\n\\n\\n\\n\\n\\n\\n<script type=\"text/javascript\">\\n\\t// <![CDATA[\\n\\n\\t\\t\\n\\n\\t\\tLiferay.currentURL = \\'\\\\x2fmitglieder\\';\\n\\t\\tLiferay.currentURLEncoded = \\'\\\\x252Fmitglieder\\';\\n\\n\\t// ]]>\\n</script>\\n\\n\\n\\n\\t\\n\\n\\t\\n\\n\\t<script type=\"text/javascript\">\\n\\t\\t// <![CDATA[\\n\\t\\t\\t\\n\\t\\t\\t\\t\\n\\n\\t\\t\\t\\t\\n\\t\\t\\t\\n\\t\\t// ]]>\\n\\t</script>\\n\\n\\n\\n\\n\\n\\n\\n\\n\\n\\n\\n\\n\\t\\n\\n\\t\\n\\n\\t\\t\\n\\n\\t\\t\\n\\t\\n\\n\\n<script type=\"text/javascript\">\\n// <![CDATA[\\n(function() {var $ = AUI.$;var _ = AUI._;\\n\\tvar pathnameRegexp = /\\\\/documents\\\\/(\\\\d+)\\\\/(\\\\d+)\\\\/(.+?)\\\\/([^&]+)/;\\n\\n\\tfunction handleDownloadClick(event) {\\n\\t\\tif (event.target.nodeName.toLowerCase() === \\'a\\' && window.Analytics) {\\n\\t\\t\\tvar anchor = event.target;\\n\\t\\t\\tvar match = pathnameRegexp.exec(anchor.pathname);\\n\\n\\t\\t\\tvar fileEntryId =\\n\\t\\t\\t\\tanchor.dataset.analyticsFileEntryId ||\\n\\t\\t\\t\\t(anchor.parentElement &&\\n\\t\\t\\t\\t\\tanchor.parentElement.dataset.analyticsFileEntryId);\\n\\n\\t\\t\\tif (fileEntryId && match) {\\n\\t\\t\\t\\tvar getParameterValue = function(parameterName) {\\n\\t\\t\\t\\t\\tvar result = null;\\n\\n\\t\\t\\t\\t\\tanchor.search\\n\\t\\t\\t\\t\\t\\t.substr(1)\\n\\t\\t\\t\\t\\t\\t.split(\\'&\\')\\n\\t\\t\\t\\t\\t\\t.forEach(function(item) {\\n\\t\\t\\t\\t\\t\\t\\tvar tmp = item.split(\\'=\\');\\n\\n\\t\\t\\t\\t\\t\\t\\tif (tmp[0] === parameterName) {\\n\\t\\t\\t\\t\\t\\t\\t\\tresult = decodeURIComponent(tmp[1]);\\n\\t\\t\\t\\t\\t\\t\\t}\\n\\t\\t\\t\\t\\t\\t});\\n\\n\\t\\t\\t\\t\\treturn result;\\n\\t\\t\\t\\t};\\n\\n\\t\\t\\t\\tAnalytics.send(\\'documentDownloaded\\', \\'Document\\', {\\n\\t\\t\\t\\t\\tgroupId: match[1],\\n\\t\\t\\t\\t\\tfileEntryId: fileEntryId,\\n\\t\\t\\t\\t\\tpreview: !!window._com_liferay_document_library_analytics_isViewFileEntry,\\n\\t\\t\\t\\t\\ttitle: decodeURIComponent(match[3].replace(/\\\\+/gi, \\' \\')),\\n\\t\\t\\t\\t\\tversion: getParameterValue(\\'version\\')\\n\\t\\t\\t\\t});\\n\\t\\t\\t}\\n\\t\\t}\\n\\t}\\n\\n\\tvar onDestroyPortlet = function() {\\n\\t\\tdocument.body.removeEventListener(\\'click\\', handleDownloadClick);\\n\\t};\\n\\n\\tLiferay.once(\\'destroyPortlet\\', onDestroyPortlet);\\n\\n\\tvar onPortletReady = function() {\\n\\t\\tdocument.body.addEventListener(\\'click\\', handleDownloadClick);\\n\\t};\\n\\n\\tLiferay.once(\\'portletReady\\', onPortletReady);\\n})();(function() {var $ = AUI.$;var _ = AUI._;\\n\\tvar onDestroyPortlet = function() {\\n\\t\\tLiferay.detach(\\'messagePosted\\', onMessagePosted);\\n\\t\\tLiferay.detach(\\'destroyPortlet\\', onDestroyPortlet);\\n\\t};\\n\\n\\tLiferay.on(\\'destroyPortlet\\', onDestroyPortlet);\\n\\n\\tvar onMessagePosted = function(event) {\\n\\t\\tif (window.Analytics) {\\n\\t\\t\\tAnalytics.send(\\'posted\\', \\'Comment\\', {\\n\\t\\t\\t\\tclassName: event.className,\\n\\t\\t\\t\\tclassPK: event.classPK,\\n\\t\\t\\t\\tcommentId: event.commentId,\\n\\t\\t\\t\\ttext: event.text\\n\\t\\t\\t});\\n\\t\\t}\\n\\t};\\n\\n\\tLiferay.on(\\'messagePosted\\', onMessagePosted);\\n})();(function() {var $ = AUI.$;var _ = AUI._;\\n\\tvar onShare = function(data) {\\n\\t\\tif (window.Analytics) {\\n\\t\\t\\tAnalytics.send(\\'shared\\', \\'SocialBookmarks\\', {\\n\\t\\t\\t\\tclassName: data.className,\\n\\t\\t\\t\\tclassPK: data.classPK,\\n\\t\\t\\t\\ttype: data.type,\\n\\t\\t\\t\\turl: data.url\\n\\t\\t\\t});\\n\\t\\t}\\n\\t};\\n\\n\\tvar onDestroyPortlet = function() {\\n\\t\\tLiferay.detach(\\'socialBookmarks:share\\', onShare);\\n\\t\\tLiferay.detach(\\'destroyPortlet\\', onDestroyPortlet);\\n\\t};\\n\\n\\tLiferay.on(\\'socialBookmarks:share\\', onShare);\\n\\tLiferay.on(\\'destroyPortlet\\', onDestroyPortlet);\\n})();(function() {var $ = AUI.$;var _ = AUI._;\\n\\tvar onVote = function(event) {\\n\\t\\tif (window.Analytics) {\\n\\t\\t\\tAnalytics.send(\\'VOTE\\', \\'Ratings\\', {\\n\\t\\t\\t\\tclassName: event.className,\\n\\t\\t\\t\\tclassPK: event.classPK,\\n\\t\\t\\t\\tratingType: event.ratingType,\\n\\t\\t\\t\\tscore: event.score\\n\\t\\t\\t});\\n\\t\\t}\\n\\t};\\n\\n\\tvar onDestroyPortlet = function() {\\n\\t\\tLiferay.detach(\\'ratings:vote\\', onVote);\\n\\t\\tLiferay.detach(\\'destroyPortlet\\', onDestroyPortlet);\\n\\t};\\n\\n\\tLiferay.on(\\'ratings:vote\\', onVote);\\n\\tLiferay.on(\\'destroyPortlet\\', onDestroyPortlet);\\n})();(function() {var $ = AUI.$;var _ = AUI._;\\n\\tfunction showDialog(uri, title, namespace, refreshOnClose) {\\n\\t\\tLiferay.Util.openWindow({\\n\\t\\t\\tdialog: {\\n\\t\\t\\t\\tcentered: true,\\n\\t\\t\\t\\tconstrain: true,\\n\\t\\t\\t\\tcssClass: \\'sharing-dialog\\',\\n\\t\\t\\t\\tdestroyOnHide: true,\\n\\t\\t\\t\\tmodal: true,\\n\\t\\t\\t\\theight: 540,\\n\\t\\t\\t\\twidth: 600,\\n\\t\\t\\t\\ton: {\\n\\t\\t\\t\\t\\tvisibleChange: function(event) {\\n\\t\\t\\t\\t\\t\\tif (refreshOnClose && !event.newVal) {\\n\\t\\t\\t\\t\\t\\t\\tLiferay.Portlet.refresh(\\'#p_p_id\\' + namespace);\\n\\t\\t\\t\\t\\t\\t}\\n\\t\\t\\t\\t\\t}\\n\\t\\t\\t\\t}\\n\\t\\t\\t},\\n\\t\\t\\tid: \\'sharingDialog\\',\\n\\t\\t\\ttitle: Liferay.Util.escapeHTML(title),\\n\\t\\t\\turi: uri\\n\\t\\t});\\n\\t}\\n\\n\\tvar Sharing = {};\\n\\n\\tLiferay.provide(\\n\\t\\tSharing,\\n\\t\\t\\'share\\',\\n\\t\\tfunction(classNameId, classPK, title, namespace, refreshOnClose) {\\n\\t\\t\\tvar sharingParameters = {\\n\\t\\t\\t\\tclassNameId: classNameId,\\n\\t\\t\\t\\tclassPK: classPK\\n\\t\\t\\t};\\n\\n\\t\\t\\tvar sharingURL = Liferay.Util.PortletURL.createPortletURL(\\n\\t\\t\\t\\t\\'https://www.vdma.org/group/group-34568/~/control_panel/manage?p_p_id=com_liferay_sharing_web_portlet_SharingPortlet&p_p_lifecycle=0&p_p_state=pop_up&_com_liferay_sharing_web_portlet_SharingPortlet_mvcRenderCommandName=%2Fsharing%2Fshare&p_p_auth=U8PDcYx3\\',\\n\\t\\t\\t\\tsharingParameters\\n\\t\\t\\t);\\n\\n\\t\\t\\tshowDialog(sharingURL.toString(), title, namespace, refreshOnClose);\\n\\t\\t},\\n\\t\\t[\\'liferay-util-window\\']\\n\\t);\\n\\n\\tLiferay.provide(\\n\\t\\tSharing,\\n\\t\\t\\'manageCollaborators\\',\\n\\t\\tfunction(classNameId, classPK, namespace, refreshOnClose) {\\n\\t\\t\\tvar manageCollaboratorsParameters = {\\n\\t\\t\\t\\tclassNameId: classNameId,\\n\\t\\t\\t\\tclassPK: classPK\\n\\t\\t\\t};\\n\\n\\t\\t\\tvar manageCollaboratorsURL = Liferay.Util.PortletURL.createPortletURL(\\n\\t\\t\\t\\t\\'https://www.vdma.org/group/group-34568/~/control_panel/manage?p_p_id=com_liferay_sharing_web_portlet_ManageCollaboratorsPortlet&p_p_lifecycle=0&p_p_state=pop_up&_com_liferay_sharing_web_portlet_ManageCollaboratorsPortlet_mvcRenderCommandName=%2Fsharing%2Fmanage_collaborators&p_p_auth=hK1KFSE2\\',\\n\\t\\t\\t\\tmanageCollaboratorsParameters\\n\\t\\t\\t);\\n\\n\\t\\t\\tshowDialog(\\n\\t\\t\\t\\tmanageCollaboratorsURL.toString(),\\n\\t\\t\\t\\t\\'Mitarbeiter verwalten\\',\\n\\t\\t\\t\\tnamespace,\\n\\t\\t\\t\\trefreshOnClose\\n\\t\\t\\t);\\n\\t\\t},\\n\\t\\t[\\'liferay-util-window\\']\\n\\t);\\n\\n\\tLiferay.Sharing = Sharing;\\n})();\\n\\tif (Liferay.Data.ICONS_INLINE_SVG) {\\n\\t\\tsvg4everybody(\\n\\t\\t\\t{\\n\\t\\t\\t\\tattributeName: \\'data-href\\',\\n\\t\\t\\t\\tpolyfill: true,\\n\\t\\t\\t\\tvalidate: function (src, svg, use) {\\n\\t\\t\\t\\t\\treturn !src || !src.startsWith(\\'#\\');\\n\\t\\t\\t\\t}\\n\\t\\t\\t}\\n\\t\\t);\\n\\t}\\n\\n\\t\\n\\t\\tLiferay.Portlet.register(\\'com_liferay_site_navigation_menu_web_portlet_SiteNavigationMenuPortlet_INSTANCE_vdmaEventsNavMenu\\');\\n\\t\\n\\n\\tLiferay.Portlet.onLoad(\\n\\t\\t{\\n\\t\\t\\tcanEditTitle: false,\\n\\t\\t\\tcolumnPos: 0,\\n\\t\\t\\tisStatic: \\'end\\',\\n\\t\\t\\tnamespacedId: \\'p_p_id_com_liferay_site_navigation_menu_web_portlet_SiteNavigationMenuPortlet_INSTANCE_vdmaEventsNavMenu_\\',\\n\\t\\t\\tportletId: \\'com_liferay_site_navigation_menu_web_portlet_SiteNavigationMenuPortlet_INSTANCE_vdmaEventsNavMenu\\',\\n\\t\\t\\trefreshURL: \\'\\\\x2fc\\\\x2fportal\\\\x2frender_portlet\\\\x3fp_l_id\\\\x3d633\\\\x26p_p_id\\\\x3dcom_liferay_site_navigation_menu_web_portlet_SiteNavigationMenuPortlet_INSTANCE_vdmaEventsNavMenu\\\\x26p_p_lifecycle\\\\x3d0\\\\x26p_t_lifecycle\\\\x3d0\\\\x26p_p_state\\\\x3dnormal\\\\x26p_p_mode\\\\x3dview\\\\x26p_p_col_id\\\\x3dnull\\\\x26p_p_col_pos\\\\x3dnull\\\\x26p_p_col_count\\\\x3dnull\\\\x26p_p_static\\\\x3d1\\\\x26p_p_isolated\\\\x3d1\\\\x26currentURL\\\\x3d\\\\x252Fmitglieder\\',\\n\\t\\t\\trefreshURLData: {}\\n\\t\\t}\\n\\t);\\n\\n\\t\\n\\t\\tLiferay.Portlet.register(\\'com_liferay_site_navigation_menu_web_portlet_SiteNavigationMenuPortlet_INSTANCE_vdmaDaterNavMenu\\');\\n\\t\\n\\n\\tLiferay.Portlet.onLoad(\\n\\t\\t{\\n\\t\\t\\tcanEditTitle: false,\\n\\t\\t\\tcolumnPos: 0,\\n\\t\\t\\tisStatic: \\'end\\',\\n\\t\\t\\tnamespacedId: \\'p_p_id_com_liferay_site_navigation_menu_web_portlet_SiteNavigationMenuPortlet_INSTANCE_vdmaDaterNavMenu_\\',\\n\\t\\t\\tportletId: \\'com_liferay_site_navigation_menu_web_portlet_SiteNavigationMenuPortlet_INSTANCE_vdmaDaterNavMenu\\',\\n\\t\\t\\trefreshURL: \\'\\\\x2fc\\\\x2fportal\\\\x2frender_portlet\\\\x3fp_l_id\\\\x3d633\\\\x26p_p_id\\\\x3dcom_liferay_site_navigation_menu_web_portlet_SiteNavigationMenuPortlet_INSTANCE_vdmaDaterNavMenu\\\\x26p_p_lifecycle\\\\x3d0\\\\x26p_t_lifecycle\\\\x3d0\\\\x26p_p_state\\\\x3dnormal\\\\x26p_p_mode\\\\x3dview\\\\x26p_p_col_id\\\\x3dnull\\\\x26p_p_col_pos\\\\x3dnull\\\\x26p_p_col_count\\\\x3dnull\\\\x26p_p_static\\\\x3d1\\\\x26p_p_isolated\\\\x3d1\\\\x26currentURL\\\\x3d\\\\x252Fmitglieder\\',\\n\\t\\t\\trefreshURLData: {}\\n\\t\\t}\\n\\t);\\n\\n\\t\\n\\t\\tLiferay.Portlet.register(\\'com_liferay_journal_content_web_portlet_JournalContentPortlet_INSTANCE_4TSSn34qiTtS\\');\\n\\t\\n\\n\\tLiferay.Portlet.onLoad(\\n\\t\\t{\\n\\t\\t\\tcanEditTitle: false,\\n\\t\\t\\tcolumnPos: 1,\\n\\t\\t\\tisStatic: \\'end\\',\\n\\t\\t\\tnamespacedId: \\'p_p_id_com_liferay_journal_content_web_portlet_JournalContentPortlet_INSTANCE_4TSSn34qiTtS_\\',\\n\\t\\t\\tportletId: \\'com_liferay_journal_content_web_portlet_JournalContentPortlet_INSTANCE_4TSSn34qiTtS\\',\\n\\t\\t\\trefreshURL: \\'\\\\x2fc\\\\x2fportal\\\\x2frender_portlet\\\\x3fp_l_id\\\\x3d633\\\\x26p_p_id\\\\x3dcom_liferay_journal_content_web_portlet_JournalContentPortlet_INSTANCE_4TSSn34qiTtS\\\\x26p_p_lifecycle\\\\x3d0\\\\x26p_t_lifecycle\\\\x3d0\\\\x26p_p_state\\\\x3dnormal\\\\x26p_p_mode\\\\x3dview\\\\x26p_p_col_id\\\\x3dcolumn-1\\\\x26p_p_col_pos\\\\x3d1\\\\x26p_p_col_count\\\\x3d2\\\\x26p_p_isolated\\\\x3d1\\\\x26currentURL\\\\x3d\\\\x252Fmitglieder\\',\\n\\t\\t\\trefreshURLData: {}\\n\\t\\t}\\n\\t);\\n\\n\\t\\n\\t\\tLiferay.Portlet.register(\\'com_liferay_site_navigation_menu_web_portlet_SiteNavigationMenuPortlet_INSTANCE_vdmaVerbandNavMenu\\');\\n\\t\\n\\n\\tLiferay.Portlet.onLoad(\\n\\t\\t{\\n\\t\\t\\tcanEditTitle: false,\\n\\t\\t\\tcolumnPos: 0,\\n\\t\\t\\tisStatic: \\'end\\',\\n\\t\\t\\tnamespacedId: \\'p_p_id_com_liferay_site_navigation_menu_web_portlet_SiteNavigationMenuPortlet_INSTANCE_vdmaVerbandNavMenu_\\',\\n\\t\\t\\tportletId: \\'com_liferay_site_navigation_menu_web_portlet_SiteNavigationMenuPortlet_INSTANCE_vdmaVerbandNavMenu\\',\\n\\t\\t\\trefreshURL: \\'\\\\x2fc\\\\x2fportal\\\\x2frender_portlet\\\\x3fp_l_id\\\\x3d633\\\\x26p_p_id\\\\x3dcom_liferay_site_navigation_menu_web_portlet_SiteNavigationMenuPortlet_INSTANCE_vdmaVerbandNavMenu\\\\x26p_p_lifecycle\\\\x3d0\\\\x26p_t_lifecycle\\\\x3d0\\\\x26p_p_state\\\\x3dnormal\\\\x26p_p_mode\\\\x3dview\\\\x26p_p_col_id\\\\x3dnull\\\\x26p_p_col_pos\\\\x3dnull\\\\x26p_p_col_count\\\\x3dnull\\\\x26p_p_static\\\\x3d1\\\\x26p_p_isolated\\\\x3d1\\\\x26currentURL\\\\x3d\\\\x252Fmitglieder\\',\\n\\t\\t\\trefreshURLData: {}\\n\\t\\t}\\n\\t);\\n\\n\\t\\n\\t\\tLiferay.Portlet.register(\\'com_liferay_site_navigation_menu_web_portlet_SiteNavigationMenuPortlet_INSTANCE_vdmaFooterLowerNavMenu\\');\\n\\t\\n\\n\\tLiferay.Portlet.onLoad(\\n\\t\\t{\\n\\t\\t\\tcanEditTitle: false,\\n\\t\\t\\tcolumnPos: 0,\\n\\t\\t\\tisStatic: \\'end\\',\\n\\t\\t\\tnamespacedId: \\'p_p_id_com_liferay_site_navigation_menu_web_portlet_SiteNavigationMenuPortlet_INSTANCE_vdmaFooterLowerNavMenu_\\',\\n\\t\\t\\tportletId: \\'com_liferay_site_navigation_menu_web_portlet_SiteNavigationMenuPortlet_INSTANCE_vdmaFooterLowerNavMenu\\',\\n\\t\\t\\trefreshURL: \\'\\\\x2fc\\\\x2fportal\\\\x2frender_portlet\\\\x3fp_l_id\\\\x3d633\\\\x26p_p_id\\\\x3dcom_liferay_site_navigation_menu_web_portlet_SiteNavigationMenuPortlet_INSTANCE_vdmaFooterLowerNavMenu\\\\x26p_p_lifecycle\\\\x3d0\\\\x26p_t_lifecycle\\\\x3d0\\\\x26p_p_state\\\\x3dnormal\\\\x26p_p_mode\\\\x3dview\\\\x26p_p_col_id\\\\x3dnull\\\\x26p_p_col_pos\\\\x3dnull\\\\x26p_p_col_count\\\\x3dnull\\\\x26p_p_static\\\\x3d1\\\\x26p_p_isolated\\\\x3d1\\\\x26currentURL\\\\x3d\\\\x252Fmitglieder\\',\\n\\t\\t\\trefreshURLData: {}\\n\\t\\t}\\n\\t);\\n\\n\\t\\n\\t\\tLiferay.Portlet.register(\\'com_liferay_site_navigation_menu_web_portlet_SiteNavigationMenuPortlet_INSTANCE_vdmaTopicsNavMenu\\');\\n\\t\\n\\n\\tLiferay.Portlet.onLoad(\\n\\t\\t{\\n\\t\\t\\tcanEditTitle: false,\\n\\t\\t\\tcolumnPos: 0,\\n\\t\\t\\tisStatic: \\'end\\',\\n\\t\\t\\tnamespacedId: \\'p_p_id_com_liferay_site_navigation_menu_web_portlet_SiteNavigationMenuPortlet_INSTANCE_vdmaTopicsNavMenu_\\',\\n\\t\\t\\tportletId: \\'com_liferay_site_navigation_menu_web_portlet_SiteNavigationMenuPortlet_INSTANCE_vdmaTopicsNavMenu\\',\\n\\t\\t\\trefreshURL: \\'\\\\x2fc\\\\x2fportal\\\\x2frender_portlet\\\\x3fp_l_id\\\\x3d633\\\\x26p_p_id\\\\x3dcom_liferay_site_navigation_menu_web_portlet_SiteNavigationMenuPortlet_INSTANCE_vdmaTopicsNavMenu\\\\x26p_p_lifecycle\\\\x3d0\\\\x26p_t_lifecycle\\\\x3d0\\\\x26p_p_state\\\\x3dnormal\\\\x26p_p_mode\\\\x3dview\\\\x26p_p_col_id\\\\x3dnull\\\\x26p_p_col_pos\\\\x3dnull\\\\x26p_p_col_count\\\\x3dnull\\\\x26p_p_static\\\\x3d1\\\\x26p_p_isolated\\\\x3d1\\\\x26currentURL\\\\x3d\\\\x252Fmitglieder\\',\\n\\t\\t\\trefreshURLData: {}\\n\\t\\t}\\n\\t);\\n\\n\\t\\n\\t\\tLiferay.Portlet.register(\\'org_vdma_publicusers_portlet_PublicUsersPortlet_INSTANCE_H0VO3QljCiRM\\');\\n\\t\\n\\n\\tLiferay.Portlet.onLoad(\\n\\t\\t{\\n\\t\\t\\tcanEditTitle: false,\\n\\t\\t\\tcolumnPos: 0,\\n\\t\\t\\tisStatic: \\'end\\',\\n\\t\\t\\tnamespacedId: \\'p_p_id_org_vdma_publicusers_portlet_PublicUsersPortlet_INSTANCE_H0VO3QljCiRM_\\',\\n\\t\\t\\tportletId: \\'org_vdma_publicusers_portlet_PublicUsersPortlet_INSTANCE_H0VO3QljCiRM\\',\\n\\t\\t\\trefreshURL: \\'\\\\x2fc\\\\x2fportal\\\\x2frender_portlet\\\\x3fp_l_id\\\\x3d633\\\\x26p_p_id\\\\x3dorg_vdma_publicusers_portlet_PublicUsersPortlet_INSTANCE_H0VO3QljCiRM\\\\x26p_p_lifecycle\\\\x3d0\\\\x26p_t_lifecycle\\\\x3d0\\\\x26p_p_state\\\\x3dnormal\\\\x26p_p_mode\\\\x3dview\\\\x26p_p_col_id\\\\x3dcolumn-1\\\\x26p_p_col_pos\\\\x3d0\\\\x26p_p_col_count\\\\x3d2\\\\x26p_p_isolated\\\\x3d1\\\\x26currentURL\\\\x3d\\\\x252Fmitglieder\\',\\n\\t\\t\\trefreshURLData: {}\\n\\t\\t}\\n\\t);\\n\\n\\t\\n\\t\\tLiferay.Portlet.register(\\'com_liferay_site_navigation_language_web_portlet_SiteNavigationLanguagePortlet_INSTANCE_vdmaLanguageSelector\\');\\n\\t\\n\\n\\tLiferay.Portlet.onLoad(\\n\\t\\t{\\n\\t\\t\\tcanEditTitle: false,\\n\\t\\t\\tcolumnPos: 0,\\n\\t\\t\\tisStatic: \\'end\\',\\n\\t\\t\\tnamespacedId: \\'p_p_id_com_liferay_site_navigation_language_web_portlet_SiteNavigationLanguagePortlet_INSTANCE_vdmaLanguageSelector_\\',\\n\\t\\t\\tportletId: \\'com_liferay_site_navigation_language_web_portlet_SiteNavigationLanguagePortlet_INSTANCE_vdmaLanguageSelector\\',\\n\\t\\t\\trefreshURL: \\'\\\\x2fc\\\\x2fportal\\\\x2frender_portlet\\\\x3fp_l_id\\\\x3d633\\\\x26p_p_id\\\\x3dcom_liferay_site_navigation_language_web_portlet_SiteNavigationLanguagePortlet_INSTANCE_vdmaLanguageSelector\\\\x26p_p_lifecycle\\\\x3d0\\\\x26p_t_lifecycle\\\\x3d0\\\\x26p_p_state\\\\x3dnormal\\\\x26p_p_mode\\\\x3dview\\\\x26p_p_col_id\\\\x3dnull\\\\x26p_p_col_pos\\\\x3dnull\\\\x26p_p_col_count\\\\x3dnull\\\\x26p_p_static\\\\x3d1\\\\x26p_p_isolated\\\\x3d1\\\\x26currentURL\\\\x3d\\\\x252Fmitglieder\\',\\n\\t\\t\\trefreshURLData: {}\\n\\t\\t}\\n\\t);\\n\\n\\t\\n\\t\\tLiferay.Portlet.register(\\'com_liferay_site_navigation_menu_web_portlet_SiteNavigationMenuPortlet_INSTANCE_vdmaForMembersNavMenu\\');\\n\\t\\n\\n\\tLiferay.Portlet.onLoad(\\n\\t\\t{\\n\\t\\t\\tcanEditTitle: false,\\n\\t\\t\\tcolumnPos: 0,\\n\\t\\t\\tisStatic: \\'end\\',\\n\\t\\t\\tnamespacedId: \\'p_p_id_com_liferay_site_navigation_menu_web_portlet_SiteNavigationMenuPortlet_INSTANCE_vdmaForMembersNavMenu_\\',\\n\\t\\t\\tportletId: \\'com_liferay_site_navigation_menu_web_portlet_SiteNavigationMenuPortlet_INSTANCE_vdmaForMembersNavMenu\\',\\n\\t\\t\\trefreshURL: \\'\\\\x2fc\\\\x2fportal\\\\x2frender_portlet\\\\x3fp_l_id\\\\x3d633\\\\x26p_p_id\\\\x3dcom_liferay_site_navigation_menu_web_portlet_SiteNavigationMenuPortlet_INSTANCE_vdmaForMembersNavMenu\\\\x26p_p_lifecycle\\\\x3d0\\\\x26p_t_lifecycle\\\\x3d0\\\\x26p_p_state\\\\x3dnormal\\\\x26p_p_mode\\\\x3dview\\\\x26p_p_col_id\\\\x3dnull\\\\x26p_p_col_pos\\\\x3dnull\\\\x26p_p_col_count\\\\x3dnull\\\\x26p_p_static\\\\x3d1\\\\x26p_p_isolated\\\\x3d1\\\\x26currentURL\\\\x3d\\\\x252Fmitglieder\\',\\n\\t\\t\\trefreshURLData: {}\\n\\t\\t}\\n\\t);\\nLiferay.Loader.require(\\'metal-dom/src/all/dom\\', function(metalDomSrcAllDom) {\\n(function(){\\nvar dom = metalDomSrcAllDom;\\n(function() {var $ = AUI.$;var _ = AUI._;\\n\\tvar focusInPortletHandler = dom.delegate(\\n\\t\\tdocument,\\n\\t\\t\\'focusin\\',\\n\\t\\t\\'.portlet\\',\\n\\t\\tfunction(event) {\\n\\t\\t\\tdom.addClasses(dom.closest(event.delegateTarget, \\'.portlet\\'), \\'open\\');\\n\\t\\t}\\n\\t);\\n\\n\\tvar focusOutPortletHandler = dom.delegate(\\n\\t\\tdocument,\\n\\t\\t\\'focusout\\',\\n\\t\\t\\'.portlet\\',\\n\\t\\tfunction(event) {\\n\\t\\t\\tdom.removeClasses(dom.closest(event.delegateTarget, \\'.portlet\\'), \\'open\\');\\n\\t\\t}\\n\\t);\\n})();})();\\n});AUI().use(\\'liferay-menu\\', \\'liferay-notice\\', \\'aui-base\\', \\'liferay-session\\', \\'liferay-poller\\', function(A) {(function() {var $ = AUI.$;var _ = AUI._;\\n\\tif (A.UA.mobile) {\\n\\t\\tLiferay.Util.addInputCancel();\\n\\t}\\n})();(function() {var $ = AUI.$;var _ = AUI._;\\n\\tnew Liferay.Menu();\\n\\n\\tvar liferayNotices = Liferay.Data.notices;\\n\\n\\tfor (var i = 1; i < liferayNotices.length; i++) {\\n\\t\\tnew Liferay.Notice(liferayNotices[i]);\\n\\t}\\n\\n\\t\\n})();(function() {var $ = AUI.$;var _ = AUI._;\\n\\t\\t\\tLiferay.Session = new Liferay.SessionBase(\\n\\t\\t\\t\\t{\\n\\t\\t\\t\\t\\tautoExtend: true,\\n\\t\\t\\t\\t\\tredirectOnExpire: false,\\n\\t\\t\\t\\t\\tredirectUrl: \\'https\\\\x3a\\\\x2f\\\\x2fwww\\\\x2evdma\\\\x2eorg\\\\x2f\\',\\n\\t\\t\\t\\t\\tsessionLength: 43200,\\n\\t\\t\\t\\t\\tsessionTimeoutOffset: 70,\\n\\t\\t\\t\\t\\twarningLength: 0\\n\\t\\t\\t\\t}\\n\\t\\t\\t);\\n\\n\\t\\t\\t\\n\\t\\t})();});\\n// ]]>\\n</script>\\n\\n\\n\\n\\n\\n\\n\\n\\n\\n<script src=\"https://www.vdma.org/o/vdma-new-theme/js/main.js?browserId=other&amp;languageId=de_DE&amp;t=1690810084000\" type=\"text/javascript\"></script>\\n\\n\\n\\n\\n<script type=\"text/javascript\">\\n\\t// <![CDATA[\\n\\t\\tAUI().use(\\n\\t\\t\\t\\'aui-base\\',\\n\\t\\t\\tfunction(A) {\\n\\t\\t\\t\\tvar frameElement = window.frameElement;\\n\\n\\t\\t\\t\\tif (frameElement && frameElement.getAttribute(\\'id\\') === \\'simulationDeviceIframe\\') {\\n\\t\\t\\t\\t\\tA.getBody().addClass(\\'lfr-has-simulation-panel\\');\\n\\t\\t\\t\\t}\\n\\t\\t\\t}\\n\\t\\t);\\n\\t// ]]>\\n</script><script type=\"text/javascript\">\\n// <![CDATA[\\nLiferay.Loader.require(\\'frontend-js-tooltip-support-web@2.0.5/index\\', function(frontendJsTooltipSupportWeb205Index) {\\n(function(){\\nvar TooltipSupport = frontendJsTooltipSupportWeb205Index;\\n(function() {\\ntry {\\nTooltipSupport.default()\\n}\\ncatch (err) {\\nconsole.error(err);\\n}\\n})();})();\\n});\\n// ]]>\\n</script>\\n</body>\\n\\n</html>\\n\\t\\t\\n\\t\\n\\n'"
      ]
     },
     "execution_count": 3,
     "metadata": {},
     "output_type": "execute_result"
    }
   ],
   "source": [
    "response.text"
   ]
  },
  {
   "cell_type": "markdown",
   "id": "93855198-fd9d-4891-9a0e-9938b67976e5",
   "metadata": {},
   "source": [
    "The first step is to parse through all of the paginated pages mentioned in a extracting all of the links to the players' pages. With these links, we will be able to extract the html code and extract we need from it"
   ]
  },
  {
   "cell_type": "code",
   "execution_count": 54,
   "id": "64482983",
   "metadata": {
    "executionCancelledAt": null,
    "executionTime": 3385,
    "lastExecutedAt": 1688320542658,
    "lastScheduledRunId": null,
    "lastSuccessfullyExecutedCode": "#Get all links in the html response\n\nlinks=[]   #get all German players\n\nfor offset in ['0', '60','120','180','240','300','360','420','480','540','600', '660']:\n    page=scraper.get(url + offset)\n    print(url + 'offset='+ offset)\n    soup=BeautifulSoup(page.content,'html.parser')\n    for link in soup.find_all('a'):\n        links.append(link.get('href'))\n\nlinks=['https://sofifa.com' + l for l in links if 'player/'in l and l != '/player/random']\n\nif len(links) == 720:\n    print(\"The code was successful\")\nelse:\n    print(\"Something went wrong. Run again, only {} links\".format(len(links)))",
    "outputsMetadata": {
     "0": {
      "height": 270,
      "type": "stream"
     }
    }
   },
   "outputs": [
    {
     "name": "stdout",
     "output_type": "stream",
     "text": [
      "https://sofifa.com/players?na=21offset%3D180&offset=offset=0\n",
      "https://sofifa.com/players?na=21offset%3D180&offset=offset=60\n",
      "https://sofifa.com/players?na=21offset%3D180&offset=offset=120\n",
      "https://sofifa.com/players?na=21offset%3D180&offset=offset=180\n",
      "https://sofifa.com/players?na=21offset%3D180&offset=offset=240\n",
      "https://sofifa.com/players?na=21offset%3D180&offset=offset=300\n",
      "https://sofifa.com/players?na=21offset%3D180&offset=offset=360\n",
      "https://sofifa.com/players?na=21offset%3D180&offset=offset=420\n",
      "https://sofifa.com/players?na=21offset%3D180&offset=offset=480\n",
      "https://sofifa.com/players?na=21offset%3D180&offset=offset=540\n",
      "https://sofifa.com/players?na=21offset%3D180&offset=offset=600\n",
      "https://sofifa.com/players?na=21offset%3D180&offset=offset=660\n",
      "The code was successful\n"
     ]
    }
   ],
   "source": [
    "#Get all links in the html response\n",
    "\n",
    "links=[]   #get all German players\n",
    "\n",
    "for offset in ['0', '60','120','180','240','300','360','420','480','540','600', '660']:\n",
    "    page=scraper.get(url + offset)\n",
    "    soup=BeautifulSoup(page.content,'html.parser')\n",
    "    for link in soup.find_all('a'):\n",
    "        links.append(link.get('href'))\n",
    "\n",
    "links=['https://sofifa.com' + l for l in links if 'player/'in l and l != '/player/random']\n",
    "\n",
    "if len(links) == 720:\n",
    "    print(\"The code was successful\")\n",
    "else:\n",
    "    print(\"Something went wrong. Run again, only {} links\".format(len(links)))"
   ]
  },
  {
   "cell_type": "markdown",
   "id": "756dd5e8-d21c-44e2-adf1-44d18882e0d0",
   "metadata": {},
   "source": [
    "Next, we define a function to extract the html code from every player's page"
   ]
  },
  {
   "cell_type": "code",
   "execution_count": 56,
   "id": "2d895d5b",
   "metadata": {
    "executionCancelledAt": null,
    "executionTime": 47,
    "lastExecutedAt": 1688320585624,
    "lastScheduledRunId": null,
    "lastSuccessfullyExecutedCode": "#Function to get the text from the link using cloudscraper\n\ndef get_text(link):\n    playerpage=scraper.get(link)\n    playersoup=BeautifulSoup(playerpage.content,'html.parser')\n    text=playersoup.get_text()\n    text=unicodedata.normalize('NFKD', text).encode('ascii', 'ignore').decode('utf-8')\n    return text"
   },
   "outputs": [],
   "source": [
    "#Function to get the text from the link using cloudscraper\n",
    "\n",
    "def get_text(link):\n",
    "    playerpage=scraper.get(link)\n",
    "    playersoup=BeautifulSoup(playerpage.content,'html.parser')\n",
    "    text=playersoup.get_text()\n",
    "    text=unicodedata.normalize('NFKD', text).encode('ascii', 'ignore').decode('utf-8')\n",
    "    return text"
   ]
  },
  {
   "cell_type": "markdown",
   "id": "7ce9c9c1-79ff-4b0f-8865-3ba74b23b7d8",
   "metadata": {},
   "source": [
    "Now we go through all of the player's page links, extracting their html code. At this point, we had to add a delay to our code (this is in the while statement) in order to avoide the cookies call from the website\n",
    "\n",
    "What we noticed was that before the code would extract all of the data for the 720 players we would get an error. That was because at some point we would get the response saved in the cookies_blocked_text variable.\n",
    "\n",
    "The strategy here was to wait for a bit when we got this error and try again. If the amount of time we waited was not enough, we increased the delay. The choices for n = 3 up to 20 were arbitrary, but proved to work."
   ]
  },
  {
   "cell_type": "code",
   "execution_count": 57,
   "id": "39895b3e",
   "metadata": {
    "executionCancelledAt": null,
    "executionTime": 263235,
    "lastExecutedAt": 1688320852636,
    "lastScheduledRunId": null,
    "lastSuccessfullyExecutedCode": "#Fetch each text response individually and save them in a DF.\n\n#Define the text we get when we get blocked by cookies\ncookies_blocked_text = \"\\n\\n\\nJust a moment...\\n\\n\\n\\n\\n\\n\\n\\n\\n\\n\\n\\n\\n\\n\\n\\n\\n                        Enable JavaScript and cookies to continue\\n                    \\n\\n\\n\\n\\n\\n\\n\\n\\n\\n\\n\\n\\n\"\n\nrows=[]\nfor j,link in enumerate(links):\n    row=[link]\n    text = get_text(link)     #substituted the code here for a function\n    n = 3\n    while (text == cookies_blocked_text) & (n<30):      #gives up after n becomes larger than 20 seconds\n        n+=1                  #increase n in case the previous delay wasn't enough\n        time.sleep(n)         #force delay of the code as to get a proper response\n        text = get_text(link)\n    row.append(text)\n    rows.append(row)\n\ndf = pd.DataFrame(rows,columns=['link','text'])"
   },
   "outputs": [],
   "source": [
    "#Fetch each text response individually and save them in a DF.\n",
    "\n",
    "#Define the text we get when we get blocked by cookies\n",
    "cookies_blocked_text = \"\\n\\n\\nJust a moment...\\n\\n\\n\\n\\n\\n\\n\\n\\n\\n\\n\\n\\n\\n\\n\\n\\n                        Enable JavaScript and cookies to continue\\n                    \\n\\n\\n\\n\\n\\n\\n\\n\\n\\n\\n\\n\\n\"\n",
    "\n",
    "rows=[]\n",
    "for j,link in enumerate(links):\n",
    "    row=[link]\n",
    "    text = get_text(link)     #substituted the code here for a function\n",
    "    n = 3\n",
    "    while (text == cookies_blocked_text) & (n<30):      #gives up after n becomes larger than 20 seconds\n",
    "        n+=1                  #increase n in case the previous delay wasn't enough\n",
    "        time.sleep(n)         #force delay of the code as to get a proper response\n",
    "        text = get_text(link)\n",
    "    row.append(text)\n",
    "    rows.append(row)\n",
    "\n",
    "df = pd.DataFrame(rows,columns=['link','text'])"
   ]
  },
  {
   "cell_type": "markdown",
   "id": "7386efa1-8011-4c5c-abf3-7612151a2afe",
   "metadata": {},
   "source": [
    "Finally, we extract the attributes from the code. We split the regex matching into two mathings: Name and Attributes. This made it easier to debug. Furthermore, we had to coimpletely change the regex matching of the attributes, as the patterns were changing."
   ]
  },
  {
   "cell_type": "code",
   "execution_count": 66,
   "id": "c1b2b4c3-33ff-4f00-971d-954bde3c6ba0",
   "metadata": {
    "executionCancelledAt": null,
    "executionTime": 10,
    "lastExecutedAt": 1688321023362,
    "lastScheduledRunId": null,
    "lastSuccessfullyExecutedCode": "def get_attribute_values(text, attributes):\n    \n    name_pattern = r\"\"\"\\n\\n\\n([\\w\\s-]+?) FIFA\"\"\"\n    pat = re.compile(name_pattern, re.DOTALL | re.IGNORECASE)\n    name=pat.match(text)\n\n    row = [name.group(1)]\n    for attr in attributes:\n        attr_pattern = r\"\"\"\\n*(\\d+)\\s+(\"\"\" + re.escape(attr) + r\"\"\")\\n*\"\"\"\n        pat = re.compile(attr_pattern, re.DOTALL | re.IGNORECASE)\n        attr_value=pat.search(text)\n        row.append(attr_value.group(1))\n    return row\n"
   },
   "outputs": [],
   "source": [
    "def get_attribute_values(text, attributes):\n",
    "    \n",
    "    name_pattern = r\"\"\"\\n\\n\\n([\\w\\s-]+?) FIFA\"\"\"\n",
    "    pat = re.compile(name_pattern, re.DOTALL | re.IGNORECASE)\n",
    "    name=pat.match(text)\n",
    "\n",
    "    row = [name.group(1)]\n",
    "    for attr in attributes:\n",
    "        attr_pattern = r\"\"\"\\n*(\\d+)\\s+(\"\"\" + re.escape(attr) + r\"\"\")\\n*\"\"\"\n",
    "        pat = re.compile(attr_pattern, re.DOTALL | re.IGNORECASE)\n",
    "        attr_value=pat.search(text)\n",
    "        row.append(attr_value.group(1))\n",
    "    return row\n"
   ]
  },
  {
   "cell_type": "markdown",
   "id": "d12a57aa-42da-4e45-b6a3-098acc14f39a",
   "metadata": {},
   "source": [
    "Last step was to construct the dataframe we would use in the rest of the clustering using the function defined above"
   ]
  },
  {
   "cell_type": "code",
   "execution_count": 67,
   "id": "07d10ffa-2aa8-408e-a2e9-dfe3e58ef41e",
   "metadata": {
    "executionCancelledAt": null,
    "executionTime": 3462,
    "lastExecutedAt": 1688321029099,
    "lastScheduledRunId": null,
    "lastSuccessfullyExecutedCode": "#Parse the extracted text getting the attribute values\n\nrows = []\nfor i, row in df.iterrows():\n    rows.append(get_attribute_values(row.text, attributes))\n\n#Construct new dataframe with the players' name and attributes\nsoccer_data = pd.DataFrame(rows, columns = ['Name'] + [*attributes])\n\n#Save DataFrame to CSV\nsoccer_data.to_csv('GermanPlayers.csv',index=False)"
   },
   "outputs": [],
   "source": [
    "#Parse the extracted text getting the attribute values\n",
    "\n",
    "rows = []\n",
    "for i, row in df.iterrows():\n",
    "    rows.append(get_attribute_values(row.text, attributes))\n",
    "\n",
    "#Construct new dataframe with the players' name and attributes\n",
    "soccer_data = pd.DataFrame(rows, columns = ['Name'] + [*attributes])\n",
    "\n",
    "#Save DataFrame to CSV\n",
    "soccer_data.to_csv('GermanPlayers.csv',index=False)"
   ]
  },
  {
   "cell_type": "markdown",
   "id": "a3bdc847-176a-480c-bf1b-f6276dd159dc",
   "metadata": {},
   "source": [
    "--------------\n",
    "DO NOT RUN THE CODE ABOVE THESE CELLS AGAIN"
   ]
  },
  {
   "cell_type": "code",
   "execution_count": 3,
   "id": "c9187fd8-8dd4-4f8f-bfc8-cdeeb086194e",
   "metadata": {
    "executionCancelledAt": null,
    "executionTime": 2827,
    "lastExecutedAt": 1688393388630,
    "lastScheduledRunId": null,
    "lastSuccessfullyExecutedCode": "import pandas as pd\nfrom bs4 import BeautifulSoup\nimport requests\nimport re\nimport unicodedata\nimport matplotlib.pyplot as plt\nfrom collections import Counter\n#Pull saved scraped data and start analysis\nsoccer_data = pd.read_csv('GermanPlayers.csv')"
   },
   "outputs": [],
   "source": [
    "import pandas as pd\n",
    "from bs4 import BeautifulSoup\n",
    "import requests\n",
    "import re\n",
    "import unicodedata\n",
    "import matplotlib.pyplot as plt\n",
    "from collections import Counter\n",
    "#Pull saved scraped data and start analysis\n",
    "soccer_data = pd.read_csv('GermanPlayers.csv')"
   ]
  },
  {
   "cell_type": "markdown",
   "id": "7c436959",
   "metadata": {},
   "source": [
    "## c - Adapting the code to italian players\n",
    "\n",
    "In order to fetch the italian players, assuming their text pattern doesn't change we would need to change the intitial link of the scraper, saved in the url variable to be url = 'https://sofifa.com/players?na=27'. After this, we would need to review our pagination (if we wanted a different number of extracted players)."
   ]
  },
  {
   "cell_type": "markdown",
   "id": "89bce784",
   "metadata": {},
   "source": [
    "## d - Clustering with k-means"
   ]
  },
  {
   "cell_type": "markdown",
   "id": "e0501b16-102c-4665-be17-b7b2e2b5b1dd",
   "metadata": {},
   "source": [
    "As we learned in class, the k-means clustering algorithm is a unsupervised machine learning algorithm used to partition a dataset into distinct groups or clusters based on their similarity. The \"k\" in k-means refers to the number of clusters that need to be identified in the data. In our case, we have been asked to cluster the soccer players data into 4 clusters. We will briefly explain the steps of the algorithm to have a better understainding of what the code is doing.\n",
    "\n",
    "1. Randomly assign each data point to one of the four clusters.\n",
    "2. For each cluster, calculate a centroid per attribute, in this case we have 34 attributes. The centroid per attribute is calculated by averaging all the data points within each attribute . Basically we end up with 34 centroids per cluster, so we have 134 centroids.\n",
    "3. We will use the Euclidean distance to calculate the distance from each attribute data point to every attribute centroid. The objective is to reassign the data to the closest centroid per attribute.\n",
    "4. Once all the data has been reassigned, we recalculate the centroid for each cluster with the new data points that have been included or removed.\n",
    "5. We keep repeting theses steps until no data is reassigned.\n",
    "\n"
   ]
  },
  {
   "cell_type": "code",
   "execution_count": 10,
   "id": "bd1512f4-2dc9-4186-8f81-882f1d9dbf66",
   "metadata": {
    "executionCancelledAt": null,
    "executionTime": 138,
    "lastExecutedAt": 1688334633752,
    "lastScheduledRunId": null,
    "lastSuccessfullyExecutedCode": "#Get real positions from the scraped data\ndf = pd.read_csv(\"GermanPlayers-backup.csv\")\n\n#Empty list\npositions = []\n\n#Define new pattern to use\npattern = r\"([A-Z]{2})\\s\\d{2}y.o.\"\nregex = re.compile(pattern)\n\n#Find position for all players\nfor i, row in df.iterrows():\n    positions.append(*regex.findall(row.text))"
   },
   "outputs": [],
   "source": [
    "#Get real positions from the scraped data\n",
    "df = pd.read_csv(\"GermanPlayers-backup.csv\")\n",
    "\n",
    "#Empty list\n",
    "positions = []\n",
    "\n",
    "#Define new pattern to use\n",
    "pattern = r\"([A-Z]{2})\\s\\d{2}y.o.\"\n",
    "regex = re.compile(pattern)\n",
    "\n",
    "#Find position for all players\n",
    "for i, row in df.iterrows():\n",
    "    positions.append(*regex.findall(row.text))"
   ]
  },
  {
   "cell_type": "code",
   "execution_count": 12,
   "id": "9fb32282",
   "metadata": {
    "executionCancelledAt": null,
    "executionTime": 822,
    "lastExecutedAt": 1688334652976,
    "lastScheduledRunId": null,
    "lastSuccessfullyExecutedCode": "from sklearn.cluster import KMeans\nimport pandas as pd\n\n# Initializing Kmeans with 4 clusters\nkmeans = KMeans(n_clusters=4, random_state=42)\n\n#Removing names\nsoccer_data_X = soccer_data.iloc[:,1:]\n\n#Fitting model\nkmeans.fit(soccer_data_X)\n\n#Get clusters\ncluster_labels = kmeans.labels_"
   },
   "outputs": [],
   "source": [
    "from sklearn.cluster import KMeans\n",
    "import pandas as pd\n",
    "\n",
    "# Initializing Kmeans with 4 clusters\n",
    "kmeans = KMeans(n_clusters=4, random_state=42)\n",
    "\n",
    "#Removing names\n",
    "soccer_data_X = soccer_data.iloc[:,1:]\n",
    "\n",
    "#Fitting model\n",
    "kmeans.fit(soccer_data_X)\n",
    "\n",
    "#Get clusters\n",
    "cluster_labels = kmeans.labels_"
   ]
  },
  {
   "cell_type": "code",
   "execution_count": 13,
   "id": "26cb90ac-6e1d-427e-8cf0-3d60f5299d32",
   "metadata": {
    "chartConfig": {
     "bar": {
      "hasRoundedCorners": true,
      "stacked": false
     },
     "type": "bar",
     "version": "v1"
    },
    "executionCancelledAt": null,
    "executionTime": 55,
    "lastExecutedAt": 1688334668069,
    "lastScheduledRunId": null,
    "lastSuccessfullyExecutedCode": "#Add real position to the cluster data\n\nnew_soccer_data = soccer_data\nnew_soccer_data['Clusters'] = cluster_labels\nnew_soccer_data['Position'] = positions\n\n\nnew_soccer_data.head()",
    "outputsMetadata": {
     "0": {
      "height": 213,
      "type": "dataFrame"
     }
    },
    "visualizeDataframe": false
   },
   "outputs": [
    {
     "data": {
      "application/com.datacamp.data-table.v1+json": {
       "table": {
        "data": [
         {
          "Acceleration": 48,
          "Aggression": 29,
          "Agility": 51,
          "Balance": 35,
          "Ball Control": 46,
          "Clusters": 1,
          "Composure": 70,
          "Crossing": 15,
          "Curve": 14,
          "Defensive awareness": 17,
          "Dribbling": 30,
          "FK Accuracy": 11,
          "Finishing": 13,
          "GK Diving": 87,
          "GK Handling": 88,
          "GK Kicking": 90,
          "GK Positioning": 88,
          "GK Reflexes": 87,
          "Heading Accuracy": 25,
          "Interceptions": 30,
          "Jumping": 77,
          "Long Passing": 68,
          "Long Shots": 16,
          "Name": "Manuel Neuer",
          "Penalties": 47,
          "Position": "GK",
          "Positioning": 12,
          "Reactions": 85,
          "Short Passing": 60,
          "Shot Power": 68,
          "Sliding Tackle": 11,
          "Sprint Speed": 50,
          "Stamina": 43,
          "Standing Tackle": 10,
          "Strength": 80,
          "Vision": 70,
          "Volleys": 11,
          "index": 0
         },
         {
          "Acceleration": 77,
          "Aggression": 89,
          "Agility": 84,
          "Balance": 84,
          "Ball Control": 85,
          "Clusters": 2,
          "Composure": 85,
          "Crossing": 91,
          "Curve": 85,
          "Defensive awareness": 83,
          "Dribbling": 82,
          "FK Accuracy": 73,
          "Finishing": 68,
          "GK Diving": 8,
          "GK Handling": 15,
          "GK Kicking": 7,
          "GK Positioning": 15,
          "GK Reflexes": 15,
          "Heading Accuracy": 72,
          "Interceptions": 85,
          "Jumping": 79,
          "Long Passing": 90,
          "Long Shots": 83,
          "Name": "Joshua Kimmich",
          "Penalties": 50,
          "Position": "CM",
          "Positioning": 80,
          "Reactions": 88,
          "Short Passing": 87,
          "Shot Power": 78,
          "Sliding Tackle": 78,
          "Sprint Speed": 60,
          "Stamina": 94,
          "Standing Tackle": 85,
          "Strength": 68,
          "Vision": 85,
          "Volleys": 69,
          "index": 1
         },
         {
          "Acceleration": 45,
          "Aggression": 43,
          "Agility": 39,
          "Balance": 43,
          "Ball Control": 30,
          "Clusters": 1,
          "Composure": 70,
          "Crossing": 18,
          "Curve": 18,
          "Defensive awareness": 25,
          "Dribbling": 21,
          "FK Accuracy": 12,
          "Finishing": 14,
          "GK Diving": 86,
          "GK Handling": 85,
          "GK Kicking": 87,
          "GK Positioning": 85,
          "GK Reflexes": 90,
          "Heading Accuracy": 11,
          "Interceptions": 22,
          "Jumping": 79,
          "Long Passing": 63,
          "Long Shots": 10,
          "Name": "Marc-Andre ter Stegen",
          "Penalties": 25,
          "Position": "GK",
          "Positioning": 11,
          "Reactions": 85,
          "Short Passing": 61,
          "Shot Power": 65,
          "Sliding Tackle": 10,
          "Sprint Speed": 50,
          "Stamina": 35,
          "Standing Tackle": 13,
          "Strength": 78,
          "Vision": 70,
          "Volleys": 14,
          "index": 2
         },
         {
          "Acceleration": 55,
          "Aggression": 60,
          "Agility": 63,
          "Balance": 71,
          "Ball Control": 88,
          "Clusters": 2,
          "Composure": 88,
          "Crossing": 88,
          "Curve": 86,
          "Defensive awareness": 71,
          "Dribbling": 80,
          "FK Accuracy": 84,
          "Finishing": 77,
          "GK Diving": 10,
          "GK Handling": 11,
          "GK Kicking": 13,
          "GK Positioning": 7,
          "GK Reflexes": 10,
          "Heading Accuracy": 58,
          "Interceptions": 80,
          "Jumping": 32,
          "Long Passing": 93,
          "Long Shots": 86,
          "Name": "Toni Kroos",
          "Penalties": 73,
          "Position": "DM",
          "Positioning": 76,
          "Reactions": 90,
          "Short Passing": 93,
          "Shot Power": 89,
          "Sliding Tackle": 60,
          "Sprint Speed": 52,
          "Stamina": 75,
          "Standing Tackle": 73,
          "Strength": 72,
          "Vision": 89,
          "Volleys": 82,
          "index": 3
         },
         {
          "Acceleration": 43,
          "Aggression": 30,
          "Agility": 42,
          "Balance": 37,
          "Ball Control": 24,
          "Clusters": 1,
          "Composure": 64,
          "Crossing": 13,
          "Curve": 14,
          "Defensive awareness": 15,
          "Dribbling": 10,
          "FK Accuracy": 12,
          "Finishing": 13,
          "GK Diving": 84,
          "GK Handling": 82,
          "GK Kicking": 79,
          "GK Positioning": 85,
          "GK Reflexes": 88,
          "Heading Accuracy": 11,
          "Interceptions": 22,
          "Jumping": 76,
          "Long Passing": 12,
          "Long Shots": 13,
          "Name": "Kevin Trapp",
          "Penalties": 17,
          "Position": "GK",
          "Positioning": 12,
          "Reactions": 84,
          "Short Passing": 25,
          "Shot Power": 59,
          "Sliding Tackle": 10,
          "Sprint Speed": 50,
          "Stamina": 45,
          "Standing Tackle": 14,
          "Strength": 75,
          "Vision": 46,
          "Volleys": 12,
          "index": 4
         }
        ],
        "schema": {
         "fields": [
          {
           "name": "index",
           "type": "integer"
          },
          {
           "name": "Name",
           "type": "string"
          },
          {
           "name": "Crossing",
           "type": "integer"
          },
          {
           "name": "Finishing",
           "type": "integer"
          },
          {
           "name": "Heading Accuracy",
           "type": "integer"
          },
          {
           "name": "Short Passing",
           "type": "integer"
          },
          {
           "name": "Volleys",
           "type": "integer"
          },
          {
           "name": "Dribbling",
           "type": "integer"
          },
          {
           "name": "Curve",
           "type": "integer"
          },
          {
           "name": "FK Accuracy",
           "type": "integer"
          },
          {
           "name": "Long Passing",
           "type": "integer"
          },
          {
           "name": "Ball Control",
           "type": "integer"
          },
          {
           "name": "Acceleration",
           "type": "integer"
          },
          {
           "name": "Sprint Speed",
           "type": "integer"
          },
          {
           "name": "Agility",
           "type": "integer"
          },
          {
           "name": "Reactions",
           "type": "integer"
          },
          {
           "name": "Balance",
           "type": "integer"
          },
          {
           "name": "Shot Power",
           "type": "integer"
          },
          {
           "name": "Jumping",
           "type": "integer"
          },
          {
           "name": "Stamina",
           "type": "integer"
          },
          {
           "name": "Strength",
           "type": "integer"
          },
          {
           "name": "Long Shots",
           "type": "integer"
          },
          {
           "name": "Aggression",
           "type": "integer"
          },
          {
           "name": "Interceptions",
           "type": "integer"
          },
          {
           "name": "Positioning",
           "type": "integer"
          },
          {
           "name": "Vision",
           "type": "integer"
          },
          {
           "name": "Penalties",
           "type": "integer"
          },
          {
           "name": "Composure",
           "type": "integer"
          },
          {
           "name": "Defensive awareness",
           "type": "integer"
          },
          {
           "name": "Standing Tackle",
           "type": "integer"
          },
          {
           "name": "Sliding Tackle",
           "type": "integer"
          },
          {
           "name": "GK Diving",
           "type": "integer"
          },
          {
           "name": "GK Handling",
           "type": "integer"
          },
          {
           "name": "GK Kicking",
           "type": "integer"
          },
          {
           "name": "GK Positioning",
           "type": "integer"
          },
          {
           "name": "GK Reflexes",
           "type": "integer"
          },
          {
           "name": "Clusters",
           "type": "integer"
          },
          {
           "name": "Position",
           "type": "string"
          }
         ],
         "pandas_version": "1.4.0",
         "primaryKey": [
          "index"
         ]
        }
       },
       "total_rows": 5,
       "truncation_type": null
      },
      "text/html": [
       "<div>\n",
       "<style scoped>\n",
       "    .dataframe tbody tr th:only-of-type {\n",
       "        vertical-align: middle;\n",
       "    }\n",
       "\n",
       "    .dataframe tbody tr th {\n",
       "        vertical-align: top;\n",
       "    }\n",
       "\n",
       "    .dataframe thead th {\n",
       "        text-align: right;\n",
       "    }\n",
       "</style>\n",
       "<table border=\"1\" class=\"dataframe\">\n",
       "  <thead>\n",
       "    <tr style=\"text-align: right;\">\n",
       "      <th></th>\n",
       "      <th>Name</th>\n",
       "      <th>Crossing</th>\n",
       "      <th>Finishing</th>\n",
       "      <th>Heading Accuracy</th>\n",
       "      <th>Short Passing</th>\n",
       "      <th>Volleys</th>\n",
       "      <th>Dribbling</th>\n",
       "      <th>Curve</th>\n",
       "      <th>FK Accuracy</th>\n",
       "      <th>Long Passing</th>\n",
       "      <th>Ball Control</th>\n",
       "      <th>Acceleration</th>\n",
       "      <th>Sprint Speed</th>\n",
       "      <th>Agility</th>\n",
       "      <th>Reactions</th>\n",
       "      <th>Balance</th>\n",
       "      <th>Shot Power</th>\n",
       "      <th>Jumping</th>\n",
       "      <th>Stamina</th>\n",
       "      <th>Strength</th>\n",
       "      <th>Long Shots</th>\n",
       "      <th>Aggression</th>\n",
       "      <th>Interceptions</th>\n",
       "      <th>Positioning</th>\n",
       "      <th>Vision</th>\n",
       "      <th>Penalties</th>\n",
       "      <th>Composure</th>\n",
       "      <th>Defensive awareness</th>\n",
       "      <th>Standing Tackle</th>\n",
       "      <th>Sliding Tackle</th>\n",
       "      <th>GK Diving</th>\n",
       "      <th>GK Handling</th>\n",
       "      <th>GK Kicking</th>\n",
       "      <th>GK Positioning</th>\n",
       "      <th>GK Reflexes</th>\n",
       "      <th>Clusters</th>\n",
       "      <th>Position</th>\n",
       "    </tr>\n",
       "  </thead>\n",
       "  <tbody>\n",
       "    <tr>\n",
       "      <th>0</th>\n",
       "      <td>Manuel Neuer</td>\n",
       "      <td>15</td>\n",
       "      <td>13</td>\n",
       "      <td>25</td>\n",
       "      <td>60</td>\n",
       "      <td>11</td>\n",
       "      <td>30</td>\n",
       "      <td>14</td>\n",
       "      <td>11</td>\n",
       "      <td>68</td>\n",
       "      <td>46</td>\n",
       "      <td>48</td>\n",
       "      <td>50</td>\n",
       "      <td>51</td>\n",
       "      <td>85</td>\n",
       "      <td>35</td>\n",
       "      <td>68</td>\n",
       "      <td>77</td>\n",
       "      <td>43</td>\n",
       "      <td>80</td>\n",
       "      <td>16</td>\n",
       "      <td>29</td>\n",
       "      <td>30</td>\n",
       "      <td>12</td>\n",
       "      <td>70</td>\n",
       "      <td>47</td>\n",
       "      <td>70</td>\n",
       "      <td>17</td>\n",
       "      <td>10</td>\n",
       "      <td>11</td>\n",
       "      <td>87</td>\n",
       "      <td>88</td>\n",
       "      <td>90</td>\n",
       "      <td>88</td>\n",
       "      <td>87</td>\n",
       "      <td>1</td>\n",
       "      <td>GK</td>\n",
       "    </tr>\n",
       "    <tr>\n",
       "      <th>1</th>\n",
       "      <td>Joshua Kimmich</td>\n",
       "      <td>91</td>\n",
       "      <td>68</td>\n",
       "      <td>72</td>\n",
       "      <td>87</td>\n",
       "      <td>69</td>\n",
       "      <td>82</td>\n",
       "      <td>85</td>\n",
       "      <td>73</td>\n",
       "      <td>90</td>\n",
       "      <td>85</td>\n",
       "      <td>77</td>\n",
       "      <td>60</td>\n",
       "      <td>84</td>\n",
       "      <td>88</td>\n",
       "      <td>84</td>\n",
       "      <td>78</td>\n",
       "      <td>79</td>\n",
       "      <td>94</td>\n",
       "      <td>68</td>\n",
       "      <td>83</td>\n",
       "      <td>89</td>\n",
       "      <td>85</td>\n",
       "      <td>80</td>\n",
       "      <td>85</td>\n",
       "      <td>50</td>\n",
       "      <td>85</td>\n",
       "      <td>83</td>\n",
       "      <td>85</td>\n",
       "      <td>78</td>\n",
       "      <td>8</td>\n",
       "      <td>15</td>\n",
       "      <td>7</td>\n",
       "      <td>15</td>\n",
       "      <td>15</td>\n",
       "      <td>2</td>\n",
       "      <td>CM</td>\n",
       "    </tr>\n",
       "    <tr>\n",
       "      <th>2</th>\n",
       "      <td>Marc-Andre ter Stegen</td>\n",
       "      <td>18</td>\n",
       "      <td>14</td>\n",
       "      <td>11</td>\n",
       "      <td>61</td>\n",
       "      <td>14</td>\n",
       "      <td>21</td>\n",
       "      <td>18</td>\n",
       "      <td>12</td>\n",
       "      <td>63</td>\n",
       "      <td>30</td>\n",
       "      <td>45</td>\n",
       "      <td>50</td>\n",
       "      <td>39</td>\n",
       "      <td>85</td>\n",
       "      <td>43</td>\n",
       "      <td>65</td>\n",
       "      <td>79</td>\n",
       "      <td>35</td>\n",
       "      <td>78</td>\n",
       "      <td>10</td>\n",
       "      <td>43</td>\n",
       "      <td>22</td>\n",
       "      <td>11</td>\n",
       "      <td>70</td>\n",
       "      <td>25</td>\n",
       "      <td>70</td>\n",
       "      <td>25</td>\n",
       "      <td>13</td>\n",
       "      <td>10</td>\n",
       "      <td>86</td>\n",
       "      <td>85</td>\n",
       "      <td>87</td>\n",
       "      <td>85</td>\n",
       "      <td>90</td>\n",
       "      <td>1</td>\n",
       "      <td>GK</td>\n",
       "    </tr>\n",
       "    <tr>\n",
       "      <th>3</th>\n",
       "      <td>Toni Kroos</td>\n",
       "      <td>88</td>\n",
       "      <td>77</td>\n",
       "      <td>58</td>\n",
       "      <td>93</td>\n",
       "      <td>82</td>\n",
       "      <td>80</td>\n",
       "      <td>86</td>\n",
       "      <td>84</td>\n",
       "      <td>93</td>\n",
       "      <td>88</td>\n",
       "      <td>55</td>\n",
       "      <td>52</td>\n",
       "      <td>63</td>\n",
       "      <td>90</td>\n",
       "      <td>71</td>\n",
       "      <td>89</td>\n",
       "      <td>32</td>\n",
       "      <td>75</td>\n",
       "      <td>72</td>\n",
       "      <td>86</td>\n",
       "      <td>60</td>\n",
       "      <td>80</td>\n",
       "      <td>76</td>\n",
       "      <td>89</td>\n",
       "      <td>73</td>\n",
       "      <td>88</td>\n",
       "      <td>71</td>\n",
       "      <td>73</td>\n",
       "      <td>60</td>\n",
       "      <td>10</td>\n",
       "      <td>11</td>\n",
       "      <td>13</td>\n",
       "      <td>7</td>\n",
       "      <td>10</td>\n",
       "      <td>2</td>\n",
       "      <td>DM</td>\n",
       "    </tr>\n",
       "    <tr>\n",
       "      <th>4</th>\n",
       "      <td>Kevin Trapp</td>\n",
       "      <td>13</td>\n",
       "      <td>13</td>\n",
       "      <td>11</td>\n",
       "      <td>25</td>\n",
       "      <td>12</td>\n",
       "      <td>10</td>\n",
       "      <td>14</td>\n",
       "      <td>12</td>\n",
       "      <td>12</td>\n",
       "      <td>24</td>\n",
       "      <td>43</td>\n",
       "      <td>50</td>\n",
       "      <td>42</td>\n",
       "      <td>84</td>\n",
       "      <td>37</td>\n",
       "      <td>59</td>\n",
       "      <td>76</td>\n",
       "      <td>45</td>\n",
       "      <td>75</td>\n",
       "      <td>13</td>\n",
       "      <td>30</td>\n",
       "      <td>22</td>\n",
       "      <td>12</td>\n",
       "      <td>46</td>\n",
       "      <td>17</td>\n",
       "      <td>64</td>\n",
       "      <td>15</td>\n",
       "      <td>14</td>\n",
       "      <td>10</td>\n",
       "      <td>84</td>\n",
       "      <td>82</td>\n",
       "      <td>79</td>\n",
       "      <td>85</td>\n",
       "      <td>88</td>\n",
       "      <td>1</td>\n",
       "      <td>GK</td>\n",
       "    </tr>\n",
       "  </tbody>\n",
       "</table>\n",
       "</div>"
      ],
      "text/plain": [
       "                    Name  Crossing  Finishing  ...  GK Reflexes  Clusters  Position\n",
       "0           Manuel Neuer        15         13  ...           87         1        GK\n",
       "1         Joshua Kimmich        91         68  ...           15         2        CM\n",
       "2  Marc-Andre ter Stegen        18         14  ...           90         1        GK\n",
       "3             Toni Kroos        88         77  ...           10         2        DM\n",
       "4            Kevin Trapp        13         13  ...           88         1        GK\n",
       "\n",
       "[5 rows x 37 columns]"
      ]
     },
     "execution_count": 13,
     "metadata": {},
     "output_type": "execute_result"
    }
   ],
   "source": [
    "#Add real position to the cluster data\n",
    "\n",
    "new_soccer_data = soccer_data\n",
    "new_soccer_data['Clusters'] = cluster_labels\n",
    "new_soccer_data['Position'] = positions\n",
    "\n",
    "\n",
    "new_soccer_data.head()"
   ]
  },
  {
   "cell_type": "code",
   "execution_count": 14,
   "id": "7750667d-759c-4c60-b734-1be8a0bf93b9",
   "metadata": {
    "executionCancelledAt": null,
    "executionTime": 711,
    "lastExecutedAt": 1688334710397,
    "lastScheduledRunId": null,
    "lastSuccessfullyExecutedCode": "new_soccer_data.to_excel('new_soccer_data.xlsx', index=False)"
   },
   "outputs": [],
   "source": [
    "new_soccer_data.to_excel('new_soccer_data.xlsx', index=False)"
   ]
  },
  {
   "cell_type": "markdown",
   "id": "0675d0f0-64da-45c5-99ff-001f185df014",
   "metadata": {},
   "source": [
    "## e - Labels to clusters"
   ]
  },
  {
   "cell_type": "markdown",
   "id": "cc8140c8-c42e-4e6c-af63-2a81e6a6d204",
   "metadata": {},
   "source": [
    "When utilizing clustering algorithms, it is crucial to examine the resulting clusters within the context of the provided data. In the case of soccer, a sport with various positions, certain attributes hold greater significance for specific roles, hence players are selected to play on this positions based on their attributes.\n",
    "\n",
    "With our clustering analysis producing four distinct groups, we can generalize these positions into four primary ones: Goalkeepers, Defense, Attack, and Midfield. By carefully scrutinizing the clusters, our objective is to uncover patterns that align the players within each cluster with the aforementioned positions. The algorithm should have clustered the players to fit into those positions based on strenght of the attributes they posses."
   ]
  },
  {
   "cell_type": "markdown",
   "id": "8beff0b8-bd9d-4662-83e5-492a1a9a0caa",
   "metadata": {},
   "source": [
    "Cluster 0 - Attack\n",
    "\n",
    "We have classified this cluster as Attack, because 38% of the players in this cluster play in the striker position. However, it can be appreciated that it also includes players that play in the midfield position. This is because there are some attributes that are needed for both positions and this could make it harder for the algorithm to classify them in the right cluster. For instance, good ball control is valuable for both attackers and midfielders as they need to maintain possession, dribble past opponents, and execute accurate passes. This cluster should have been classified better by having a greater percentage of players in the attack position."
   ]
  },
  {
   "cell_type": "code",
   "execution_count": 41,
   "id": "16db5d44-628b-416c-9a3a-69d516364bb6",
   "metadata": {
    "executionCancelledAt": null,
    "executionTime": 180,
    "lastExecutedAt": 1688344228998,
    "lastScheduledRunId": null,
    "lastSuccessfullyExecutedCode": "Filter_cluster=new_soccer_data[new_soccer_data['Clusters'] == 0]\nP= list(Filter_cluster['Position'])\n\n\n# Counting the occurrences of each category\ncategory_counts = pd.Series(P).value_counts()\n\n# Creating the bar graph\nplt.bar(category_counts.index, category_counts.values)\n\n# Adding labels and title\nplt.xlabel('Position')\nplt.ylabel('Count')\nplt.title('Positions in Cluster 0')\n\n# Displaying the graph\nplt.show()"
   },
   "outputs": [
    {
     "data": {
      "image/png": "[encoded data removed]",
      "text/plain": [
       "<Figure size 640x480 with 1 Axes>"
      ]
     },
     "metadata": {},
     "output_type": "display_data"
    }
   ],
   "source": [
    "Filter_cluster=new_soccer_data[new_soccer_data['Clusters'] == 0]\n",
    "P= list(Filter_cluster['Position'])\n",
    "\n",
    "\n",
    "# Counting the occurrences of each category\n",
    "category_counts = pd.Series(P).value_counts()\n",
    "\n",
    "# Creating the bar graph\n",
    "plt.bar(category_counts.index, category_counts.values)\n",
    "\n",
    "# Adding labels and title\n",
    "plt.xlabel('Position')\n",
    "plt.ylabel('Count')\n",
    "plt.title('Positions in Cluster 0')\n",
    "\n",
    "# Displaying the graph\n",
    "plt.show()"
   ]
  },
  {
   "cell_type": "markdown",
   "id": "2afdecba-d125-4891-8c25-4c224c434efe",
   "metadata": {},
   "source": [
    "Cluster 1 - Goalkeepers\n",
    "\n",
    "Upon analyzing cluster 1, it becomes evident that it exclusively comprises goalkeepers. Consequently, we will label this cluster as \"goalkeepers.\" This particular cluster demonstrates a high level of reliability. It is noteworthy that out of the 34 attributes considered, 5 of them are explicitly associated with goalkeeping statistics. This attribute concentration significantly facilitates accurate classification by the algorithm. \n",
    "\n",
    "The box plots indicate that the goalkeeping attributes in cluster 1 are tightly clustered around the median, demonstrating a concentrated distribution. The interquartile range (IQR) is narrow, indicating limited variability and a lack of spread among the data points. This suggests a high level of similarity among the goalkeepers in cluster 1 regarding these attributes. This supports out initial thought that these attributes help the algorithm to define an accurate cluster because the distance of these players to the centroids of these 5 attributes are closer together.\n",
    "\n",
    "Regarding the outliers in the plot, they are to be expected because within the different professional leagues there are superstars that stand out from the rest of the goalkeepers."
   ]
  },
  {
   "cell_type": "code",
   "execution_count": 26,
   "id": "63b154e8-56c5-439a-babb-32e13c557af7",
   "metadata": {
    "executionCancelledAt": null,
    "executionTime": 160,
    "lastExecutedAt": 1688340549523,
    "lastScheduledRunId": null,
    "lastSuccessfullyExecutedCode": "Filter_diving=new_soccer_data[new_soccer_data['Clusters'] == 1]\nGK_diving= list(Filter_diving['GK Diving'])\n\n\nFilter_handling=new_soccer_data[new_soccer_data['Clusters'] == 1]\nGK_handling= list(Filter_diving['GK Handling'])\n\nFilter_kicking=new_soccer_data[new_soccer_data['Clusters'] == 1]\nGK_kicking= list(Filter_diving['GK Kicking'])\n\nFilter_positioning=new_soccer_data[new_soccer_data['Clusters'] == 1]\nGK_positioning= list(Filter_diving['GK Positioning'])\n\nFilter_reflexes=new_soccer_data[new_soccer_data['Clusters'] == 1]\nGK_reflexes= list(Filter_diving['GK Reflexes'])\n\n\nfig, ax = plt.subplots()\n\n# draw boxplots side by side\nbp = ax.boxplot([GK_diving,GK_handling,GK_handling,GK_positioning,GK_reflexes ], labels=['GK Diving','GK Handling','GK Kicking', 'GK Positioning','GK Reflexes'])\n\n\n# add x and y axis labels and a title\nax.set_title('Distribution of GoalKeepers Stats')\n\nplt.show()"
   },
   "outputs": [
    {
     "data": {
      "image/png": "[encoded data removed]",
      "text/plain": [
       "<Figure size 640x480 with 1 Axes>"
      ]
     },
     "metadata": {},
     "output_type": "display_data"
    }
   ],
   "source": [
    "Filter_diving=new_soccer_data[new_soccer_data['Clusters'] == 1]\n",
    "GK_diving= list(Filter_diving['GK Diving'])\n",
    "\n",
    "\n",
    "Filter_handling=new_soccer_data[new_soccer_data['Clusters'] == 1]\n",
    "GK_handling= list(Filter_diving['GK Handling'])\n",
    "\n",
    "Filter_kicking=new_soccer_data[new_soccer_data['Clusters'] == 1]\n",
    "GK_kicking= list(Filter_diving['GK Kicking'])\n",
    "\n",
    "Filter_positioning=new_soccer_data[new_soccer_data['Clusters'] == 1]\n",
    "GK_positioning= list(Filter_diving['GK Positioning'])\n",
    "\n",
    "Filter_reflexes=new_soccer_data[new_soccer_data['Clusters'] == 1]\n",
    "GK_reflexes= list(Filter_diving['GK Reflexes'])\n",
    "\n",
    "\n",
    "fig, ax = plt.subplots()\n",
    "\n",
    "# draw boxplots side by side\n",
    "bp = ax.boxplot([GK_diving,GK_handling,GK_handling,GK_positioning,GK_reflexes ], labels=['GK Diving','GK Handling','GK Kicking', 'GK Positioning','GK Reflexes'])\n",
    "\n",
    "\n",
    "# add x and y axis labels and a title\n",
    "ax.set_title('Distribution of GoalKeepers Stats')\n",
    "\n",
    "plt.show()"
   ]
  },
  {
   "cell_type": "markdown",
   "id": "1a4597d4-9379-401d-8c5d-18a22e1ec497",
   "metadata": {},
   "source": [
    "Cluster 2- Midfield\n",
    "\n",
    "This cluster is the one that has the most types of positions within the same cluster, even though we have classfied as midfield, we can see that there is an overlap with cluster 3 (which will be classified as the Defense cluster) and also Cluster 0. This is mainly due to the fact the midfielders are players that have a wide variety of attributes, they need to be able to connect with the defense and with the attack. For instance, while stamina is crucial for midfielders to cover a lot of ground and contribute in both attacking and defensive phases, it is also beneficial for full-backs and wingers who often make overlapping runs and need to maintain their energy levels throughout the match. Futhermore, interceptions are not only important for defenders to disrupt opponents' attacks but can also be beneficial for midfielders in regaining possession and launching counter-attacks. \n",
    "\n",
    "This cluster was the one that had the least reliable classification considering that it has included players from attack and defensive positions. We could be encountering the curse of dimensionalty, we have too many attributes and the data space becomes exponentially large.This can cause the data points to be spread out, making it difficult for the algorithm to find meaningful clusters. The clusters may become more spherical, and the distances between data points become less informative, leading to suboptimal clustering results.\n",
    "\n",
    "\n"
   ]
  },
  {
   "cell_type": "code",
   "execution_count": 42,
   "id": "fbd85982-4d94-4f0b-8aa1-5d7eae5d2cc8",
   "metadata": {
    "executionCancelledAt": null,
    "executionTime": 181,
    "lastExecutedAt": 1688344393921,
    "lastScheduledRunId": null,
    "lastSuccessfullyExecutedCode": "Filter_cluster=new_soccer_data[new_soccer_data['Clusters'] == 2]\nP= list(Filter_cluster['Position'])\n\n\n# Counting the occurrences of each category\ncategory_counts = pd.Series(P).value_counts()\n\n# Creating the bar graph\nplt.bar(category_counts.index, category_counts.values)\n\n# Adding labels and title\nplt.xlabel('Position')\nplt.ylabel('Count')\nplt.title('Positions in Cluster 2')\n\n# Displaying the graph\nplt.show()"
   },
   "outputs": [
    {
     "data": {
      "image/png": "[encoded data removed]",
      "text/plain": [
       "<Figure size 640x480 with 1 Axes>"
      ]
     },
     "metadata": {},
     "output_type": "display_data"
    }
   ],
   "source": [
    "Filter_cluster=new_soccer_data[new_soccer_data['Clusters'] == 2]\n",
    "P= list(Filter_cluster['Position'])\n",
    "\n",
    "\n",
    "# Counting the occurrences of each category\n",
    "category_counts = pd.Series(P).value_counts()\n",
    "\n",
    "# Creating the bar graph\n",
    "plt.bar(category_counts.index, category_counts.values)\n",
    "\n",
    "# Adding labels and title\n",
    "plt.xlabel('Position')\n",
    "plt.ylabel('Count')\n",
    "plt.title('Positions in Cluster 2')\n",
    "\n",
    "# Displaying the graph\n",
    "plt.show()"
   ]
  },
  {
   "cell_type": "markdown",
   "id": "84699a4d-3142-4860-920d-c8378975166f",
   "metadata": {},
   "source": [
    "Cluster 3- Defense\n",
    "\n",
    "The bar graph below provides a clear visual representation of the distribution of players within Cluster 3. It is evident that the majority of players in this cluster occupy positions that are primarily associated with defending the arc. Notably, an impressive 56% of players in this cluster play as center backs, underscoring their crucial role in defensive strategies. Additionally, positions such as right-back, left-back, and defensive midfielder also contribute to the defensive line-up within this cluster.\n",
    "\n",
    "However, upon closer inspection, a few outliers are noticeable within this cluster. These outliers consist of a small number of players who play in midfield positions, which deviates from the dominant defensive trend. There may be some overlap with midfield position attributes, while positioning is vital for defenders to maintain a solid defensive line, it is also important for midfielders to find open spaces to receive passes or make runs.\n",
    "\n",
    "One particularly intriguing outlier is a player classified as a striker. Further investigation revealed that this player was actually labeled as a substitute (SUB), possibly resulting in misinterpretation during the parsing process. Subsequently, a thorough search on the website confirmed that the player's best position is, in fact, center back, aligning with the overall trend observed within the cluster.\n",
    "\n",
    "It can be said that this cluster was in its majority correctly classified."
   ]
  },
  {
   "cell_type": "code",
   "execution_count": 43,
   "id": "8ba2d610-bb70-4ccf-89d7-e7576a4447f8",
   "metadata": {
    "executionCancelledAt": null,
    "executionTime": 157,
    "lastExecutedAt": 1688344481209,
    "lastScheduledRunId": null,
    "lastSuccessfullyExecutedCode": "Filter_cluster=new_soccer_data[new_soccer_data['Clusters'] == 3]\nP= list(Filter_cluster['Position'])\n\n\n# Counting the occurrences of each category\ncategory_counts = pd.Series(P).value_counts()\n\n# Creating the bar graph\nplt.bar(category_counts.index, category_counts.values)\n\n# Adding labels and title\nplt.xlabel('Position')\nplt.ylabel('Count')\nplt.title('Positions in Cluster 3')\n\n# Displaying the graph\nplt.show()"
   },
   "outputs": [
    {
     "data": {
      "image/png": "[encoded data removed]",
      "text/plain": [
       "<Figure size 640x480 with 1 Axes>"
      ]
     },
     "metadata": {},
     "output_type": "display_data"
    }
   ],
   "source": [
    "Filter_cluster=new_soccer_data[new_soccer_data['Clusters'] == 3]\n",
    "P= list(Filter_cluster['Position'])\n",
    "\n",
    "\n",
    "# Counting the occurrences of each category\n",
    "category_counts = pd.Series(P).value_counts()\n",
    "\n",
    "# Creating the bar graph\n",
    "plt.bar(category_counts.index, category_counts.values)\n",
    "\n",
    "# Adding labels and title\n",
    "plt.xlabel('Position')\n",
    "plt.ylabel('Count')\n",
    "plt.title('Positions in Cluster 3')\n",
    "\n",
    "# Displaying the graph\n",
    "plt.show()"
   ]
  },
  {
   "cell_type": "markdown",
   "id": "784be836-e91b-43af-a91d-958dc0155ec3",
   "metadata": {},
   "source": [
    "In summary, it can be infered that Cluster 1 and Cluster 3 where the most trustworthy clusters. However, Cluster 0 and 2 did poorly on the classification, it included many players from different positions. This has to do with the limitations the k-means algorithm, specially  when dealing with several attributes. With a high number of attributes, it becomes challenging to interpret and understand the resulting clusters. Visualizing clusters beyond three dimensions is difficult, and understanding the relationships between attributes becomes complex. It can be challenging to explain the clustering results and extract meaningful insights from them. \n",
    "\n",
    "In datasets with a large number of attributes, it is common to have some attributes that are irrelevant or noisy. These irrelevant attributes can negatively impact the clustering process, as k-means tries to minimize the within-cluster variance across all attributes. The presence of irrelevant attributes can lead to distorted clusters or poor separation, which is the case for Cluster 0 and 2.\n",
    "\n",
    "Finally, it is important to take into account the computational complexity that this algorithm entails.As the number of attributes grows, the distance calculations between data points and centroids become more computationally expensive. Moreover, the high-dimensional data requires more iterations for convergence, leading to longer computation times.\n",
    "\n",
    "To address these limitations, alternative clustering algorithms specifically designed for high-dimensional data, such as density-based clustering or subspace clustering algorithms , can be considered. These algorithms take into account the characteristics of high-dimensional data and offer more effective clustering solutions in such scenarios. Additionally, dimensionality reduction techniques can be employed to reduce the number of attributes while preserving the essential information, facilitating the application of k-means or other clustering algorithms."
   ]
  },
  {
   "cell_type": "markdown",
   "id": "c979285e-3d1f-4303-b7af-e1feef047051",
   "metadata": {},
   "source": [
    "To be able to test more rigorously the trustworthiness of each cluster we will draw a confusion matrix for each cluster. Eventhough we are well aware confusion matrix are not used in usupervised learning, we have extracted each players position and bundle it up to form the four major clusters: Attack, Golakeeper, Midfields and Defend. In a sense we have been able to identify the ground truth for this data set. We have bundle them taking into account the attributes similarities that each position requires. We have detailed how we have classified the available positions below:\n",
    "\n",
    "Attack\n",
    "- ST\n",
    "- LW\n",
    "- RW\n",
    "- CF\n",
    "\n",
    "GoalKeeper\n",
    "- GK\n",
    "\n",
    "Midfield\n",
    "- LM\n",
    "- AM\n",
    "- RM\n",
    "- CM\n",
    "\n",
    "Defense\n",
    "- LB\n",
    "- CB\n",
    "- RB\n",
    "- DM\n",
    "- WB\n"
   ]
  },
  {
   "cell_type": "code",
   "execution_count": 21,
   "id": "5660b2bc-3f64-460d-8255-6669009ebb04",
   "metadata": {
    "executionCancelledAt": null,
    "executionTime": 508,
    "lastExecutedAt": 1688395503066,
    "lastScheduledRunId": null,
    "lastSuccessfullyExecutedCode": "from sklearn.metrics import confusion_matrix\nimport seaborn as sns\n\ncf=pd.read_excel('new_soccer_data_True_Cluster.xlsx',header=0, usecols= \"A:AL\")\n\npredicted=list(cf['Clusters'])\nactuals=list(cf['True Cluster'])\n\nlabels =[0,1,2,3]\n\nconfusion_matrix = confusion_matrix(actuals, predicted, labels=labels)\n\n# Create a heatmap of the confusion matrix\nsns.heatmap(confusion_matrix, annot=True, cmap=\"Blues\", fmt=\"d\", xticklabels=labels, yticklabels=labels)\n\n# Add labels, title, and axis ticks\nplt.xlabel(\"Actual\")\nplt.ylabel(\"Predicted\")\nplt.title(\"Confusion Matrix\")\n\n# Show the plot\nplt.show()"
   },
   "outputs": [
    {
     "data": {
      "image/png": "[encoded data removed]",
      "text/plain": [
       "<Figure size 640x480 with 2 Axes>"
      ]
     },
     "metadata": {},
     "output_type": "display_data"
    }
   ],
   "source": [
    "from sklearn.metrics import confusion_matrix\n",
    "import seaborn as sns\n",
    "\n",
    "cf=pd.read_excel('new_soccer_data_True_Cluster.xlsx',header=0, usecols= \"A:AL\")\n",
    "\n",
    "predicted=list(cf['Clusters'])\n",
    "actuals=list(cf['True Cluster'])\n",
    "\n",
    "labels =[0,1,2,3]\n",
    "\n",
    "confusion_matrix = confusion_matrix(actuals, predicted, labels=labels)\n",
    "\n",
    "# Create a heatmap of the confusion matrix\n",
    "sns.heatmap(confusion_matrix, annot=True, cmap=\"Blues\", fmt=\"d\", xticklabels=labels, yticklabels=labels)\n",
    "\n",
    "# Add labels, title, and axis ticks\n",
    "plt.xlabel(\"Actual\")\n",
    "plt.ylabel(\"Predicted\")\n",
    "plt.title(\"Confusion Matrix\")\n",
    "\n",
    "# Show the plot\n",
    "plt.show()"
   ]
  },
  {
   "cell_type": "markdown",
   "id": "d9fc5689-2326-4ba7-a538-bd3efa514668",
   "metadata": {},
   "source": [
    "In summary, the confusion matrix supports our previous observations. Clusters 1 and 3 demonstrate high reliability. Cluster 1 achieved a perfect accuracy rate compared to our ground truth, while cluster 3 contains 26 players from cluster 2, indicating a relatively homogeneous grouping.\n",
    "\n",
    "However, clusters 0 and 2 exhibit lower reliability. Cluster 2 is the least homogeneous, and cluster 0 has a significant number of players from cluster 2, as explained earlier. These factors contribute to their decreased trustworthiness."
   ]
  },
  {
   "cell_type": "markdown",
   "id": "269ced8a-e15c-45e3-bd42-f0587e77b5ef",
   "metadata": {},
   "source": [
    "The confusion matrix helped us with the visualization compared to the ground truth that we define. However we can also use some evaluation metrics designed for unsupervised learning, such as adjusted Rand index (ARI) or normalized mutual information (NMI). These metrics compare the cluster assignments to the ground truth labels and provide a measure of similarity or agreement.\n",
    "\n",
    "An ARI value of 0.3654 indicates a moderate level of agreement between the predicted clusters and the true labels. It suggests that the clustering result is better than random, but there is still room for improvement.\n",
    "\n",
    "NMI value of 0.5278 indicates a relatively good level of agreement between the predicted clusters and true labels. It suggests that there is a moderate amount of shared information, indicating a reasonable clustering result.\n",
    "\n",
    "In conclusion, there is still room for improvement with our algorithm specially with some clusters over the others. As mentioned before k-means clustering do not work well when there are many attributes to take into account."
   ]
  },
  {
   "cell_type": "code",
   "execution_count": 23,
   "id": "748bc57c-492b-4e9e-8d0f-1b71756a2f31",
   "metadata": {
    "executionCancelledAt": null,
    "executionTime": 106,
    "lastExecutedAt": 1688395546939,
    "lastScheduledRunId": null,
    "lastSuccessfullyExecutedCode": "from sklearn.metrics import adjusted_rand_score, normalized_mutual_info_score\n\n# Calculate ARI\nari = adjusted_rand_score(actuals, predicted)\nprint(\"ARI:\", ari)\n\n# Calculate NMI\nnmi = normalized_mutual_info_score(actuals, predicted)\nprint(\"NMI:\", nmi)\n\n# Create a bar plot\nlabels = ['ARI', 'NMI']\nvalues = [ari, nmi]\n\nplt.bar(labels, values)\nplt.ylabel('Score')\nplt.title('Evaluation Metrics')\nplt.show()\n",
    "outputsMetadata": {
     "0": {
      "height": 56,
      "type": "stream"
     }
    }
   },
   "outputs": [
    {
     "name": "stdout",
     "output_type": "stream",
     "text": [
      "ARI: 0.3654285998215169\n",
      "NMI: 0.5277585605109661\n"
     ]
    },
    {
     "data": {
      "image/png": "[encoded data removed]",
      "text/plain": [
       "<Figure size 640x480 with 1 Axes>"
      ]
     },
     "metadata": {},
     "output_type": "display_data"
    }
   ],
   "source": [
    "from sklearn.metrics import adjusted_rand_score, normalized_mutual_info_score\n",
    "\n",
    "# Calculate ARI\n",
    "ari = adjusted_rand_score(actuals, predicted)\n",
    "print(\"ARI:\", ari)\n",
    "\n",
    "# Calculate NMI\n",
    "nmi = normalized_mutual_info_score(actuals, predicted)\n",
    "print(\"NMI:\", nmi)\n",
    "\n",
    "# Create a bar plot\n",
    "labels = ['ARI', 'NMI']\n",
    "values = [ari, nmi]\n",
    "\n",
    "plt.bar(labels, values)\n",
    "plt.ylabel('Score')\n",
    "plt.title('Evaluation Metrics')\n",
    "plt.show()\n"
   ]
  },
  {
   "cell_type": "markdown",
   "id": "5b3daa95",
   "metadata": {},
   "source": [
    "## f\n",
    "\n",
    "The cluster centers can be accessed by the \"cluster_centers_\" attribute of KMeans. These are shown below. These centers are n-dimentional arrays, where each dimension represents the cluster center for the given attribute. We construct a dataframe to make the vizualization simpler. Next, we compute the distances of the new players attribute to each of the centroids (we only do that for the attributes that we have of the new player)"
   ]
  },
  {
   "cell_type": "code",
   "execution_count": 90,
   "id": "97677717-4ee8-4837-827d-b62c26f6a5c7",
   "metadata": {
    "chartConfig": {
     "bar": {
      "hasRoundedCorners": true,
      "stacked": false
     },
     "type": "bar",
     "version": "v1"
    },
    "executionCancelledAt": null,
    "executionTime": 55,
    "lastExecutedAt": 1688322109425,
    "lastScheduledRunId": null,
    "lastSuccessfullyExecutedCode": "#Produce table with all of the attributes centroids\ncluster_centers = pd.DataFrame(kmeans.cluster_centers_, columns=attributes)\ncluster_centers['Cluster'] = [0,1,2,3]\ncluster_centers",
    "outputsMetadata": {
     "0": {
      "height": 189,
      "type": "dataFrame"
     }
    },
    "visualizeDataframe": false
   },
   "outputs": [
    {
     "data": {
      "application/com.datacamp.data-table.v1+json": {
       "table": {
        "data": [
         {
          "Acceleration": 73.3406593407,
          "Aggression": 55.0164835165,
          "Agility": 71.3901098901,
          "Balance": 69.7967032967,
          "Ball Control": 69.3021978022,
          "Cluster": 0,
          "Composure": 63.7252747253,
          "Crossing": 57.3076923077,
          "Curve": 59.0604395604,
          "Defensive awareness": 31.8901098901,
          "Dribbling": 69.0604395604,
          "FK Accuracy": 49.7527472527,
          "Finishing": 68.1318681319,
          "GK Diving": 10.2472527473,
          "GK Handling": 10.3846153846,
          "GK Kicking": 10.3186813187,
          "GK Positioning": 10.0824175824,
          "GK Reflexes": 10.3241758242,
          "Heading Accuracy": 58.6098901099,
          "Interceptions": 29.8076923077,
          "Jumping": 65.8846153846,
          "Long Passing": 53.2582417582,
          "Long Shots": 62.9340659341,
          "Penalties": 60.5274725275,
          "Positioning": 67.8956043956,
          "Reactions": 66.1208791209,
          "Short Passing": 64.7582417582,
          "Shot Power": 70.0769230769,
          "Sliding Tackle": 26.8186813187,
          "Sprint Speed": 73.7087912088,
          "Stamina": 68.4945054945,
          "Standing Tackle": 30.7472527473,
          "Strength": 67.1428571429,
          "Vision": 61.8076923077,
          "Volleys": 62.1593406593,
          "index": 0
         },
         {
          "Acceleration": 38.6404494382,
          "Aggression": 26.8202247191,
          "Agility": 38.0112359551,
          "Balance": 39.202247191,
          "Ball Control": 21.2696629213,
          "Cluster": 1,
          "Composure": 41.5393258427,
          "Crossing": 13.1685393258,
          "Curve": 13.7528089888,
          "Defensive awareness": 14.9438202247,
          "Dribbling": 14.9325842697,
          "FK Accuracy": 12.9550561798,
          "Finishing": 10.7865168539,
          "GK Diving": 70.6292134831,
          "GK Handling": 67.2247191011,
          "GK Kicking": 65.393258427,
          "GK Positioning": 68.8651685393,
          "GK Reflexes": 72.3258426966,
          "Heading Accuracy": 14.1685393258,
          "Interceptions": 16.6966292135,
          "Jumping": 60.7303370787,
          "Long Passing": 27.8988764045,
          "Long Shots": 11.5842696629,
          "Penalties": 19.7640449438,
          "Positioning": 10.1123595506,
          "Reactions": 64.9550561798,
          "Short Passing": 30.6292134831,
          "Shot Power": 49.2247191011,
          "Sliding Tackle": 12.7191011236,
          "Sprint Speed": 39.6179775281,
          "Stamina": 31.4943820225,
          "Standing Tackle": 13.2471910112,
          "Strength": 66.6741573034,
          "Vision": 39.2921348315,
          "Volleys": 11.0674157303,
          "index": 1
         },
         {
          "Acceleration": 71.203125,
          "Aggression": 66.578125,
          "Agility": 72.9140625,
          "Balance": 73.0625,
          "Ball Control": 70.55859375,
          "Cluster": 2,
          "Composure": 66.6640625,
          "Crossing": 64.796875,
          "Curve": 62.65625,
          "Defensive awareness": 62.4921875,
          "Dribbling": 69.125,
          "FK Accuracy": 55.7109375,
          "Finishing": 56.73828125,
          "GK Diving": 10.42578125,
          "GK Handling": 10.9453125,
          "GK Kicking": 10.56640625,
          "GK Positioning": 10.6171875,
          "GK Reflexes": 10.2265625,
          "Heading Accuracy": 55.6015625,
          "Interceptions": 63.7890625,
          "Jumping": 67.4609375,
          "Long Passing": 66.59765625,
          "Long Shots": 60.48046875,
          "Penalties": 53.08203125,
          "Positioning": 62.53515625,
          "Reactions": 68.51171875,
          "Short Passing": 70.78125,
          "Shot Power": 66.9921875,
          "Sliding Tackle": 62.23046875,
          "Sprint Speed": 68.0703125,
          "Stamina": 76.65234375,
          "Standing Tackle": 64.82421875,
          "Strength": 65.95703125,
          "Vision": 66.21875,
          "Volleys": 52.95703125,
          "index": 2
         },
         {
          "Acceleration": 60.829015544,
          "Aggression": 69.067357513,
          "Agility": 56.9430051813,
          "Balance": 56.9689119171,
          "Ball Control": 60.0621761658,
          "Cluster": 3,
          "Composure": 61.2849740933,
          "Crossing": 47.2694300518,
          "Curve": 39.7772020725,
          "Defensive awareness": 67.689119171,
          "Dribbling": 53.0880829016,
          "FK Accuracy": 35.8238341969,
          "Finishing": 34.7357512953,
          "GK Diving": 10.3264248705,
          "GK Handling": 10.5699481865,
          "GK Kicking": 10.4715025907,
          "GK Positioning": 10.274611399,
          "GK Reflexes": 10.3886010363,
          "Heading Accuracy": 66.0880829016,
          "Interceptions": 67.3575129534,
          "Jumping": 70.8497409326,
          "Long Passing": 58.8497409326,
          "Long Shots": 38.0725388601,
          "Penalties": 41.0880829016,
          "Positioning": 40.3730569948,
          "Reactions": 65.0829015544,
          "Short Passing": 64,
          "Shot Power": 52.621761658,
          "Sliding Tackle": 67.0829015544,
          "Sprint Speed": 66.0466321244,
          "Stamina": 67.4093264249,
          "Standing Tackle": 69.6476683938,
          "Strength": 76.5388601036,
          "Vision": 49.1088082902,
          "Volleys": 33.6321243523,
          "index": 3
         }
        ],
        "schema": {
         "fields": [
          {
           "name": "index",
           "type": "integer"
          },
          {
           "name": "Crossing",
           "type": "number"
          },
          {
           "name": "Finishing",
           "type": "number"
          },
          {
           "name": "Heading Accuracy",
           "type": "number"
          },
          {
           "name": "Short Passing",
           "type": "number"
          },
          {
           "name": "Volleys",
           "type": "number"
          },
          {
           "name": "Dribbling",
           "type": "number"
          },
          {
           "name": "Curve",
           "type": "number"
          },
          {
           "name": "FK Accuracy",
           "type": "number"
          },
          {
           "name": "Long Passing",
           "type": "number"
          },
          {
           "name": "Ball Control",
           "type": "number"
          },
          {
           "name": "Acceleration",
           "type": "number"
          },
          {
           "name": "Sprint Speed",
           "type": "number"
          },
          {
           "name": "Agility",
           "type": "number"
          },
          {
           "name": "Reactions",
           "type": "number"
          },
          {
           "name": "Balance",
           "type": "number"
          },
          {
           "name": "Shot Power",
           "type": "number"
          },
          {
           "name": "Jumping",
           "type": "number"
          },
          {
           "name": "Stamina",
           "type": "number"
          },
          {
           "name": "Strength",
           "type": "number"
          },
          {
           "name": "Long Shots",
           "type": "number"
          },
          {
           "name": "Aggression",
           "type": "number"
          },
          {
           "name": "Interceptions",
           "type": "number"
          },
          {
           "name": "Positioning",
           "type": "number"
          },
          {
           "name": "Vision",
           "type": "number"
          },
          {
           "name": "Penalties",
           "type": "number"
          },
          {
           "name": "Composure",
           "type": "number"
          },
          {
           "name": "Defensive awareness",
           "type": "number"
          },
          {
           "name": "Standing Tackle",
           "type": "number"
          },
          {
           "name": "Sliding Tackle",
           "type": "number"
          },
          {
           "name": "GK Diving",
           "type": "number"
          },
          {
           "name": "GK Handling",
           "type": "number"
          },
          {
           "name": "GK Kicking",
           "type": "number"
          },
          {
           "name": "GK Positioning",
           "type": "number"
          },
          {
           "name": "GK Reflexes",
           "type": "number"
          },
          {
           "name": "Cluster",
           "type": "integer"
          }
         ],
         "pandas_version": "1.4.0",
         "primaryKey": [
          "index"
         ]
        }
       },
       "total_rows": 4,
       "truncation_type": null
      },
      "text/html": [
       "<div>\n",
       "<style scoped>\n",
       "    .dataframe tbody tr th:only-of-type {\n",
       "        vertical-align: middle;\n",
       "    }\n",
       "\n",
       "    .dataframe tbody tr th {\n",
       "        vertical-align: top;\n",
       "    }\n",
       "\n",
       "    .dataframe thead th {\n",
       "        text-align: right;\n",
       "    }\n",
       "</style>\n",
       "<table border=\"1\" class=\"dataframe\">\n",
       "  <thead>\n",
       "    <tr style=\"text-align: right;\">\n",
       "      <th></th>\n",
       "      <th>Crossing</th>\n",
       "      <th>Finishing</th>\n",
       "      <th>Heading Accuracy</th>\n",
       "      <th>Short Passing</th>\n",
       "      <th>Volleys</th>\n",
       "      <th>Dribbling</th>\n",
       "      <th>Curve</th>\n",
       "      <th>FK Accuracy</th>\n",
       "      <th>Long Passing</th>\n",
       "      <th>Ball Control</th>\n",
       "      <th>Acceleration</th>\n",
       "      <th>Sprint Speed</th>\n",
       "      <th>Agility</th>\n",
       "      <th>Reactions</th>\n",
       "      <th>Balance</th>\n",
       "      <th>Shot Power</th>\n",
       "      <th>Jumping</th>\n",
       "      <th>Stamina</th>\n",
       "      <th>Strength</th>\n",
       "      <th>Long Shots</th>\n",
       "      <th>Aggression</th>\n",
       "      <th>Interceptions</th>\n",
       "      <th>Positioning</th>\n",
       "      <th>Vision</th>\n",
       "      <th>Penalties</th>\n",
       "      <th>Composure</th>\n",
       "      <th>Defensive awareness</th>\n",
       "      <th>Standing Tackle</th>\n",
       "      <th>Sliding Tackle</th>\n",
       "      <th>GK Diving</th>\n",
       "      <th>GK Handling</th>\n",
       "      <th>GK Kicking</th>\n",
       "      <th>GK Positioning</th>\n",
       "      <th>GK Reflexes</th>\n",
       "      <th>Cluster</th>\n",
       "    </tr>\n",
       "  </thead>\n",
       "  <tbody>\n",
       "    <tr>\n",
       "      <th>0</th>\n",
       "      <td>57.307692</td>\n",
       "      <td>68.131868</td>\n",
       "      <td>58.609890</td>\n",
       "      <td>64.758242</td>\n",
       "      <td>62.159341</td>\n",
       "      <td>69.060440</td>\n",
       "      <td>59.060440</td>\n",
       "      <td>49.752747</td>\n",
       "      <td>53.258242</td>\n",
       "      <td>69.302198</td>\n",
       "      <td>73.340659</td>\n",
       "      <td>73.708791</td>\n",
       "      <td>71.390110</td>\n",
       "      <td>66.120879</td>\n",
       "      <td>69.796703</td>\n",
       "      <td>70.076923</td>\n",
       "      <td>65.884615</td>\n",
       "      <td>68.494505</td>\n",
       "      <td>67.142857</td>\n",
       "      <td>62.934066</td>\n",
       "      <td>55.016484</td>\n",
       "      <td>29.807692</td>\n",
       "      <td>67.895604</td>\n",
       "      <td>61.807692</td>\n",
       "      <td>60.527473</td>\n",
       "      <td>63.725275</td>\n",
       "      <td>31.890110</td>\n",
       "      <td>30.747253</td>\n",
       "      <td>26.818681</td>\n",
       "      <td>10.247253</td>\n",
       "      <td>10.384615</td>\n",
       "      <td>10.318681</td>\n",
       "      <td>10.082418</td>\n",
       "      <td>10.324176</td>\n",
       "      <td>0</td>\n",
       "    </tr>\n",
       "    <tr>\n",
       "      <th>1</th>\n",
       "      <td>13.168539</td>\n",
       "      <td>10.786517</td>\n",
       "      <td>14.168539</td>\n",
       "      <td>30.629213</td>\n",
       "      <td>11.067416</td>\n",
       "      <td>14.932584</td>\n",
       "      <td>13.752809</td>\n",
       "      <td>12.955056</td>\n",
       "      <td>27.898876</td>\n",
       "      <td>21.269663</td>\n",
       "      <td>38.640449</td>\n",
       "      <td>39.617978</td>\n",
       "      <td>38.011236</td>\n",
       "      <td>64.955056</td>\n",
       "      <td>39.202247</td>\n",
       "      <td>49.224719</td>\n",
       "      <td>60.730337</td>\n",
       "      <td>31.494382</td>\n",
       "      <td>66.674157</td>\n",
       "      <td>11.584270</td>\n",
       "      <td>26.820225</td>\n",
       "      <td>16.696629</td>\n",
       "      <td>10.112360</td>\n",
       "      <td>39.292135</td>\n",
       "      <td>19.764045</td>\n",
       "      <td>41.539326</td>\n",
       "      <td>14.943820</td>\n",
       "      <td>13.247191</td>\n",
       "      <td>12.719101</td>\n",
       "      <td>70.629213</td>\n",
       "      <td>67.224719</td>\n",
       "      <td>65.393258</td>\n",
       "      <td>68.865169</td>\n",
       "      <td>72.325843</td>\n",
       "      <td>1</td>\n",
       "    </tr>\n",
       "    <tr>\n",
       "      <th>2</th>\n",
       "      <td>64.796875</td>\n",
       "      <td>56.738281</td>\n",
       "      <td>55.601562</td>\n",
       "      <td>70.781250</td>\n",
       "      <td>52.957031</td>\n",
       "      <td>69.125000</td>\n",
       "      <td>62.656250</td>\n",
       "      <td>55.710937</td>\n",
       "      <td>66.597656</td>\n",
       "      <td>70.558594</td>\n",
       "      <td>71.203125</td>\n",
       "      <td>68.070312</td>\n",
       "      <td>72.914062</td>\n",
       "      <td>68.511719</td>\n",
       "      <td>73.062500</td>\n",
       "      <td>66.992188</td>\n",
       "      <td>67.460938</td>\n",
       "      <td>76.652344</td>\n",
       "      <td>65.957031</td>\n",
       "      <td>60.480469</td>\n",
       "      <td>66.578125</td>\n",
       "      <td>63.789062</td>\n",
       "      <td>62.535156</td>\n",
       "      <td>66.218750</td>\n",
       "      <td>53.082031</td>\n",
       "      <td>66.664062</td>\n",
       "      <td>62.492187</td>\n",
       "      <td>64.824219</td>\n",
       "      <td>62.230469</td>\n",
       "      <td>10.425781</td>\n",
       "      <td>10.945313</td>\n",
       "      <td>10.566406</td>\n",
       "      <td>10.617187</td>\n",
       "      <td>10.226563</td>\n",
       "      <td>2</td>\n",
       "    </tr>\n",
       "    <tr>\n",
       "      <th>3</th>\n",
       "      <td>47.269430</td>\n",
       "      <td>34.735751</td>\n",
       "      <td>66.088083</td>\n",
       "      <td>64.000000</td>\n",
       "      <td>33.632124</td>\n",
       "      <td>53.088083</td>\n",
       "      <td>39.777202</td>\n",
       "      <td>35.823834</td>\n",
       "      <td>58.849741</td>\n",
       "      <td>60.062176</td>\n",
       "      <td>60.829016</td>\n",
       "      <td>66.046632</td>\n",
       "      <td>56.943005</td>\n",
       "      <td>65.082902</td>\n",
       "      <td>56.968912</td>\n",
       "      <td>52.621762</td>\n",
       "      <td>70.849741</td>\n",
       "      <td>67.409326</td>\n",
       "      <td>76.538860</td>\n",
       "      <td>38.072539</td>\n",
       "      <td>69.067358</td>\n",
       "      <td>67.357513</td>\n",
       "      <td>40.373057</td>\n",
       "      <td>49.108808</td>\n",
       "      <td>41.088083</td>\n",
       "      <td>61.284974</td>\n",
       "      <td>67.689119</td>\n",
       "      <td>69.647668</td>\n",
       "      <td>67.082902</td>\n",
       "      <td>10.326425</td>\n",
       "      <td>10.569948</td>\n",
       "      <td>10.471503</td>\n",
       "      <td>10.274611</td>\n",
       "      <td>10.388601</td>\n",
       "      <td>3</td>\n",
       "    </tr>\n",
       "  </tbody>\n",
       "</table>\n",
       "</div>"
      ],
      "text/plain": [
       "    Crossing  Finishing  Heading Accuracy  ...  GK Positioning  GK Reflexes  Cluster\n",
       "0  57.307692  68.131868         58.609890  ...       10.082418    10.324176        0\n",
       "1  13.168539  10.786517         14.168539  ...       68.865169    72.325843        1\n",
       "2  64.796875  56.738281         55.601562  ...       10.617187    10.226563        2\n",
       "3  47.269430  34.735751         66.088083  ...       10.274611    10.388601        3\n",
       "\n",
       "[4 rows x 35 columns]"
      ]
     },
     "execution_count": 90,
     "metadata": {},
     "output_type": "execute_result"
    }
   ],
   "source": [
    "#Produce table with all of the attributes centroids\n",
    "cluster_centers = pd.DataFrame(kmeans.cluster_centers_, columns=attributes)\n",
    "cluster_centers['Cluster'] = [0,1,2,3]\n",
    "cluster_centers"
   ]
  },
  {
   "cell_type": "code",
   "execution_count": 118,
   "id": "c852832b-9b1b-4e98-9420-b929ec2b2219",
   "metadata": {
    "executionCancelledAt": null,
    "executionTime": 18,
    "lastExecutedAt": 1688324847346,
    "lastScheduledRunId": null,
    "lastSuccessfullyExecutedCode": "import numpy as np\nfrom scipy.spatial.distance import euclidean\n\n\n#Define what are the known attributes for the new prediction\nknown_attr = ['Crossing', 'Sprint Speed', 'Long Shots', 'Aggression', 'Finishing', 'GK Handling']\n\n# Define the centroids for each cluster only for the available attributes\ncentroids = [\n    [cluster_centers.loc[0, column] for column in known_attr],\n    [cluster_centers.loc[1, column] for column in known_attr],\n    [cluster_centers.loc[2, column] for column in known_attr],\n    [cluster_centers.loc[3, column] for column in known_attr]\n]\n\n#Values of the new player to predict\nnew_observation = {'Crossing': 45, \n                   'Sprint Speed': 55, \n                   'Long Shots': 35, \n                   'Aggression': 40, \n                   'Finishing': 50, \n                   'GK Handling': 15}\n\n#Put the new attributes into a list to use the Eucledian function\nknown_attr_values = [new_observation[attr] for attr in known_attr]\n\n# Calculate the distances to each centroid\ndistances = [euclidean(known_attr_values, centroid) for centroid in centroids]\n\n# Predict the cluster of the new observation\npredicted_cluster = np.argmin(distances)\ndistance_to_predicted_cluster = distances[predicted_cluster]\n\nprint(\"Predicted Cluster:\", predicted_cluster)\nprint(\"Distance to Predicted Cluster:\", distance_to_predicted_cluster)",
    "outputsMetadata": {
     "0": {
      "height": 56,
      "type": "stream"
     }
    }
   },
   "outputs": [
    {
     "name": "stdout",
     "output_type": "stream",
     "text": [
      "Predicted Cluster: 3\n",
      "Distance to Predicted Cluster: 35.130511090381205\n"
     ]
    }
   ],
   "source": [
    "import numpy as np\n",
    "from scipy.spatial.distance import euclidean\n",
    "\n",
    "\n",
    "#Define what are the known attributes for the new prediction\n",
    "known_attr = ['Crossing', 'Sprint Speed', 'Long Shots', 'Aggression', 'Finishing', 'GK Handling']\n",
    "\n",
    "# Define the centroids for each cluster only for the available attributes\n",
    "centroids = [\n",
    "    [cluster_centers.loc[0, column] for column in known_attr],\n",
    "    [cluster_centers.loc[1, column] for column in known_attr],\n",
    "    [cluster_centers.loc[2, column] for column in known_attr],\n",
    "    [cluster_centers.loc[3, column] for column in known_attr]\n",
    "]\n",
    "\n",
    "#Values of the new player to predict\n",
    "new_observation = {'Crossing': 45, \n",
    "                   'Sprint Speed': 55, \n",
    "                   'Long Shots': 35, \n",
    "                   'Aggression': 40, \n",
    "                   'Finishing': 50, \n",
    "                   'GK Handling': 15}\n",
    "\n",
    "#Put the new attributes into a list to use the Eucledian function\n",
    "known_attr_values = [new_observation[attr] for attr in known_attr]\n",
    "\n",
    "# Calculate the distances to each centroid\n",
    "distances = [euclidean(known_attr_values, centroid) for centroid in centroids]\n",
    "\n",
    "# Predict the cluster of the new observation\n",
    "predicted_cluster = np.argmin(distances)\n",
    "distance_to_predicted_cluster = distances[predicted_cluster]\n",
    "\n",
    "print(\"Predicted Cluster:\", predicted_cluster)\n",
    "print(\"Distance to Predicted Cluster:\", distance_to_predicted_cluster)"
   ]
  },
  {
   "cell_type": "markdown",
   "id": "8a6da500-15fe-4974-a37a-b11cb0c762ea",
   "metadata": {},
   "source": [
    "Finally we show the distances to all known centroids "
   ]
  },
  {
   "cell_type": "code",
   "execution_count": 119,
   "id": "edbe2b1e-cf74-4ec0-a1c9-700749a44fa1",
   "metadata": {
    "executionCancelledAt": null,
    "executionTime": 25,
    "lastExecutedAt": 1688324861902,
    "lastScheduledRunId": null,
    "lastSuccessfullyExecutedCode": "#Display table with the distances\n\ndistances_df = pd.DataFrame(centroids,columns=known_attr)\ndistances_df['Distance to centroids'] = distances\ndistances_df",
    "outputsMetadata": {
     "0": {
      "height": 170,
      "type": "dataFrame"
     }
    }
   },
   "outputs": [
    {
     "data": {
      "application/com.datacamp.data-table.v1+json": {
       "table": {
        "data": [
         {
          "Aggression": 55.0164835165,
          "Crossing": 57.3076923077,
          "Distance to centroids": 43.0972318408,
          "Finishing": 68.1318681319,
          "GK Handling": 10.3846153846,
          "Long Shots": 62.9340659341,
          "Sprint Speed": 73.7087912088,
          "index": 0
         },
         {
          "Aggression": 26.8202247191,
          "Crossing": 13.1685393258,
          "Distance to centroids": 78.9744892563,
          "Finishing": 10.7865168539,
          "GK Handling": 67.2247191011,
          "Long Shots": 11.5842696629,
          "Sprint Speed": 39.6179775281,
          "index": 1
         },
         {
          "Aggression": 66.578125,
          "Crossing": 64.796875,
          "Distance to centroids": 44.4999468514,
          "Finishing": 56.73828125,
          "GK Handling": 10.9453125,
          "Long Shots": 60.48046875,
          "Sprint Speed": 68.0703125,
          "index": 2
         },
         {
          "Aggression": 69.067357513,
          "Crossing": 47.2694300518,
          "Distance to centroids": 35.1305110904,
          "Finishing": 34.7357512953,
          "GK Handling": 10.5699481865,
          "Long Shots": 38.0725388601,
          "Sprint Speed": 66.0466321244,
          "index": 3
         }
        ],
        "schema": {
         "fields": [
          {
           "name": "index",
           "type": "integer"
          },
          {
           "name": "Crossing",
           "type": "number"
          },
          {
           "name": "Sprint Speed",
           "type": "number"
          },
          {
           "name": "Long Shots",
           "type": "number"
          },
          {
           "name": "Aggression",
           "type": "number"
          },
          {
           "name": "Finishing",
           "type": "number"
          },
          {
           "name": "GK Handling",
           "type": "number"
          },
          {
           "name": "Distance to centroids",
           "type": "number"
          }
         ],
         "pandas_version": "1.4.0",
         "primaryKey": [
          "index"
         ]
        }
       },
       "total_rows": 4,
       "truncation_type": null
      },
      "text/html": [
       "<div>\n",
       "<style scoped>\n",
       "    .dataframe tbody tr th:only-of-type {\n",
       "        vertical-align: middle;\n",
       "    }\n",
       "\n",
       "    .dataframe tbody tr th {\n",
       "        vertical-align: top;\n",
       "    }\n",
       "\n",
       "    .dataframe thead th {\n",
       "        text-align: right;\n",
       "    }\n",
       "</style>\n",
       "<table border=\"1\" class=\"dataframe\">\n",
       "  <thead>\n",
       "    <tr style=\"text-align: right;\">\n",
       "      <th></th>\n",
       "      <th>Crossing</th>\n",
       "      <th>Sprint Speed</th>\n",
       "      <th>Long Shots</th>\n",
       "      <th>Aggression</th>\n",
       "      <th>Finishing</th>\n",
       "      <th>GK Handling</th>\n",
       "      <th>Distance to centroids</th>\n",
       "    </tr>\n",
       "  </thead>\n",
       "  <tbody>\n",
       "    <tr>\n",
       "      <th>0</th>\n",
       "      <td>57.307692</td>\n",
       "      <td>73.708791</td>\n",
       "      <td>62.934066</td>\n",
       "      <td>55.016484</td>\n",
       "      <td>68.131868</td>\n",
       "      <td>10.384615</td>\n",
       "      <td>43.097232</td>\n",
       "    </tr>\n",
       "    <tr>\n",
       "      <th>1</th>\n",
       "      <td>13.168539</td>\n",
       "      <td>39.617978</td>\n",
       "      <td>11.584270</td>\n",
       "      <td>26.820225</td>\n",
       "      <td>10.786517</td>\n",
       "      <td>67.224719</td>\n",
       "      <td>78.974489</td>\n",
       "    </tr>\n",
       "    <tr>\n",
       "      <th>2</th>\n",
       "      <td>64.796875</td>\n",
       "      <td>68.070312</td>\n",
       "      <td>60.480469</td>\n",
       "      <td>66.578125</td>\n",
       "      <td>56.738281</td>\n",
       "      <td>10.945313</td>\n",
       "      <td>44.499947</td>\n",
       "    </tr>\n",
       "    <tr>\n",
       "      <th>3</th>\n",
       "      <td>47.269430</td>\n",
       "      <td>66.046632</td>\n",
       "      <td>38.072539</td>\n",
       "      <td>69.067358</td>\n",
       "      <td>34.735751</td>\n",
       "      <td>10.569948</td>\n",
       "      <td>35.130511</td>\n",
       "    </tr>\n",
       "  </tbody>\n",
       "</table>\n",
       "</div>"
      ],
      "text/plain": [
       "    Crossing  Sprint Speed  ...  GK Handling  Distance to centroids\n",
       "0  57.307692     73.708791  ...    10.384615              43.097232\n",
       "1  13.168539     39.617978  ...    67.224719              78.974489\n",
       "2  64.796875     68.070312  ...    10.945313              44.499947\n",
       "3  47.269430     66.046632  ...    10.569948              35.130511\n",
       "\n",
       "[4 rows x 7 columns]"
      ]
     },
     "execution_count": 119,
     "metadata": {},
     "output_type": "execute_result"
    }
   ],
   "source": [
    "#Display table with the distances\n",
    "\n",
    "distances_df = pd.DataFrame(centroids,columns=known_attr)\n",
    "distances_df['Distance to centroids'] = distances\n",
    "distances_df"
   ]
  }
 ],
 "metadata": {
  "editor": "DataCamp Workspace",
  "kernelspec": {
   "display_name": "Python 3 (ipykernel)",
   "language": "python",
   "name": "python3"
  },
  "language_info": {
   "codemirror_mode": {
    "name": "ipython",
    "version": 3
   },
   "file_extension": ".py",
   "mimetype": "text/x-python",
   "name": "python",
   "nbconvert_exporter": "python",
   "pygments_lexer": "ipython3",
   "version": "3.8.16"
  }
 },
 "nbformat": 4,
 "nbformat_minor": 5
}
